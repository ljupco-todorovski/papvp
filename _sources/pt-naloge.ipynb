{
 "cells": [
  {
   "cell_type": "markdown",
   "metadata": {},
   "source": [
    "# Naloge\n",
    "\n",
    "1. Denimo, da smo Alešu, Barbari, Cirilu in Darji izmerili višine v centimetrih (180, 165, 160, 193) in teže v kilogramih (87, 58, 65, 100). Naredi dve zaporedji `v` in `t` z izmerjenimi podatki. Indeks telesne mase (ITM) izračunamo po formuli\n",
    "\n",
    "    $$ \\text{ITM} = \\frac{\\text{teža v kilogramih}}{(\\text{višina v metrih})^2}. $$\n",
    "\n",
    "    Izračunaj zaporedje vrednosti ITM s poimenovanimi indeski za štiri osebe, kjer so indeksi elementov dejanska imena oseb (Aleš, Barbara, Ciril in Darja). Nato izračunaj zaporedje naravnih logaritmov vrednosti ITM. Na koncu izpiši zaporedje imen oseb, ki imajo ITM večji od 25, ter izračunaj njihov povprečni ITM.\n",
    "\n",
    "1. Sestavi zaporedja z naslednjimi elementi:\n",
    "\n",
    "    * $3^1/1, 3^2/2, \\ldots, 3^{50}/50$;\n",
    "    * \"A1\", \"A2\", $\\ldots$, \"A50\";\n",
    "    * $e^x \\sin x$ izračunanimi v točkah $x = 3, 3.1, 3.2, \\ldots, 6$.<br><br>\n",
    "\n",
    "1. Z uporabo zaporedij definiraj funkcijo, ki kot argument sprejme naravno število `x > 2`, vrne rezultat `True`, če je `x` praštevilo, in `False` sicer. Namig: zaporedje gradi postopoma. Najprej izračunaj zaporedje ostankov deljenja `x` z vsemi števili od `2` do `x - 1`. Nato preveri, če je `0` element tega zaporedja.\n",
    "\n",
    "1. Izračunaj dve zaporedji `x` in `y` dolžine 250 tako, da s ponavljanjem naključno izbiraš naravna števila iz intervala $[0, 999]$. Označimo z $x_1, x_2, \\ldots, x_{250}$ in $y_1, y_2, \\ldots, y_{250}$ elemente zaporedij `x` in `y`. Izračunaj:\n",
    "\n",
    "    * Zaporedje z elementi $y_2 - x_1, y_3 - x_2, \\ldots, y_{250} - x_{249}$.\n",
    "    * Vsoto $\\sum_{i=1}^{249} e^{- x_{i+1}} / (x_i + 10)$.<br><br>\n",
    "\n",
    "1. Sestavi zaporedje tipa kategorija s tremi možnimi vrednostmi `A`, `B` in `C`, ki bo vsebovalo po natanko pet (5) vrednosti iz vsake kategorije. Vrednosti naj nastopajo v zaporedju v naključnem vrstnem redu.\n",
    "\n",
    "1. Pri ocenjevanju izpitov na FMF pogosto uporabljamo odstotne točke. Študentka lahko doseže poljubno število odstotnih točk od 0 do 100 (obe meji vključeni). Nato njen dosežek prevedemo v oceno takole:\n",
    "\n",
    "    | dosežek v % | ocena |\n",
    "    |---|---|\n",
    "    | več kot 90 | odlično (10) |\n",
    "    | več kot 80 in največ 90 | prav dobro (9) |\n",
    "    | več kot 70 in največ 80 | prav dobro (8) |\n",
    "    | več kot 60 in največ 70 | dobro (7) |\n",
    "    | več kot 50 in največ 60 | zadostno (6) |\n",
    "    | največ 50 | nezadostno (5) |\n",
    "\n",
    "    <br>\n",
    "    \n",
    "    * Sestavi zaporedje `ot` z desetimi naključnimi celoštevilskimi dosežki študentov v odstotnih točkah.\n",
    "    * Pretvori zaporedje `ot` v zaporedje `ocena` tipa urejena kategorija, na osnovi prevajalne tabele zgoraj.<br><br>\n",
    "\n",
    "1. Definiraj funkcijo, ki za podano leto vrne zaporedje vseh ponedeljkovih datumov v tem letu. Definiraj bolj splošno funkcijo, ki poleg leta, sprejme tudi dan v tednu kot argument.\n",
    "\n",
    "1. Definiraj funkcijo, ki za podano leto in pozitivni naravni števili `od` in `do` vrne vse datume v tednih `od`, `od + 1`, ..., `do` v podanem letu.\n",
    "\n",
    "1. Definiraj funkcijo, ki za podano časovno obdobje določeno z datumi začetka `od` in konca `do` vrne podano število `n` datumov naključno izbranih dni iz tega obdobja. Datumi se lahko ponavljajo, ker, **Pozor**, časovno obdobje ima lahko manj kot `n` dni.\n",
    "\n",
    "1. Iz zaporedij izračunanih v prvi nalogi zgoraj sestavi podatkovno tabelo s štirimi stolpci, `ime`, `visina`, `teza` in `ITM`. Spremeni imena vrstic tako, da ustrezajo imenom oseb in nato zbriši stolpec ime. Indeksiraj dobljeno tabelo tako, da boš dobil imena oseb, ki imajo ITM največ 25.\n",
    "\n",
    "1. Z uporabo klica funkcije `pd.read_csv(\"https://kt.ijs.si/~ljupco/lectures/papvp-2324/temp-lj-2010-2019.csv\")` preberi podatkovno tabelo s podatki o povprečni dnevni temperaturi zraka (v Celzijevih stopinjah) v Ljubljani v obdobju od začetka leta 2010 do konca 2019.\n",
    "\n",
    "    * Iz podatkovne tabele sestavi zaporedje `temp_lj`, kjer so indeksi datumi v opazovanem obdobju in vrednost elementa enaka povprečni temperaturi na ustrezen datum.\n",
    "    * Z indeksiranjem zaporedja `temp_lj` sestavi novo zaporedje `temp_lj_petek` povprečnih temperatur ob petkih.\n",
    "    * Z indeksiranjem zaporedja `temp_lj` sestavi novo zaporedje `temp_lj_13` povprečnih temperatur za vsak datum, kjer je dan v mesecu enak 13.\n",
    "    * S poravnavo zaporedij `temp_lj_petek` in `temp_lj_13` sestavi novo zaporedje `temp_lj_petek_13` s povprečnimi temperaturami za vsak petek trinajstega v opazovanem obdobju.\n",
    "    * Z indeksiranjem zaporedja `temp_lj_petek_13` izpiši datuma za najbolj vroč in najbolj hladen petek trinajstega.\n",
    "    * Izračunaj povprečno temperaturo za datume, ki padejo na petek trinajstega v opazovanem obdobju.<br><br>\n",
    "\n",
    "1. S pomočjo podatkovne tabele iz prejšnje naloge in ustreznim indeksiranjem:\n",
    "\n",
    "    * Izpiši datume najbolj vročih in najbolj hladnih dni v opazovanem obdobju.\n",
    "    * Izpiši datume s temperaturo, ki ne odstopa za več kot eno stopinjo Celzija od povprečne temperature v tem obdobju.\n",
    "    * Sestavi funkcijo, ki za podano leto in mesec vrne povprečno temperaturo zraka.\n",
    "    * Z uporabo te funkcije sestavi zaporedje povprečnih temperatur po mesecih (indeksi zaporedja naj bodo torej meseci v opazovanem obdobju).\n",
    "    * Izpiši mesece, ko je bila povprečna temperatura najvišja oziroma najnižja.\n"
   ]
  }
 ],
 "metadata": {
  "kernelspec": {
   "display_name": "Python 3",
   "language": "python",
   "name": "python3"
  },
  "language_info": {
   "codemirror_mode": {
    "name": "ipython",
    "version": 3
   },
   "file_extension": ".py",
   "mimetype": "text/x-python",
   "name": "python",
   "nbconvert_exporter": "python",
   "pygments_lexer": "ipython3",
   "version": "3.11.5"
  },
  "widgets": {
   "application/vnd.jupyter.widget-state+json": {
    "state": {},
    "version_major": 2,
    "version_minor": 0
   }
  }
 },
 "nbformat": 4,
 "nbformat_minor": 4
}
