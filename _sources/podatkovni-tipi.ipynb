{
 "cells": [
  {
   "cell_type": "markdown",
   "metadata": {},
   "source": [
    "# Podatkovni tipi v knjižnici `pandas`\n",
    "\n",
    "Knjižnica [`pandas`](https://pandas.pydata.org/) omogoča procesiranje, obdelavo in analizo podatkov, shranjenih v podatkovno tabelo. Na začetku dela s knjižnico bomo najprej spoznali osnovne podatkovne tipe za sestavljanje tabel: zaporedje (angl. _Series_) in podatkovni okvir (angl. _DataFrame_), ki ga bomo imenovali tudi podatkovna tabela.\n",
    "\n",
    "Podatkovna tabela v `pandas` je sestavljena iz vrstic in stolpcev, imenovanih tudi spremenljivke. Vsak stolpec v tabeli je tipe zaporedje. Stolpci (spremenljivke) so v podatkovnih tabelah posebnega pomena, saj večina operacij podatkovne obdelave in analize poteka na stolpcih. Zato bomo najprej dobro spoznali podatkovni tip zaporedje in se naučili delati s posameznimi stolpci tabele, nato pa se naučili delati s podatkovnimi okviri. Pri obdelavi zaporedij bomo si pogosto pomagali z izpeljanimi seznami, o katerih smo govorili v okviru uvodnega predavanja.\n",
    "\n",
    "## Osnovni podatkovni tipi v zaporedjih\n",
    "\n",
    "Podatkovni tip zaporedje (_Series_) v Pandasu je osnovna struktura za shranjevanje enodimenzionalnih podatkov. Zaporedje je podobno seznamu, vendar ima dodatne funkcionalnosti in je bolj prilagojeno obdelavi podatkov. Vsak element zaporedja je povezan z indeksom, kar olajša dostop do podatkov.\n",
    "\n",
    "Zaporedje lahko ustvarimo na več načinov, a najbolj pogosto si bomo pomagali s seznamom ali slovarjem. V primeru, ko zaporedje ustvarimo iz seznama so njegovi indeksi zaporedna naravna števila, pri čemer je indeks prvega elementa, tako kot pri seznamih, enak 0. Zaporedje ustvarimo s pomočjo konstruktorja `pd.Series` takole:"
   ]
  },
  {
   "cell_type": "code",
   "execution_count": 1,
   "metadata": {},
   "outputs": [
    {
     "name": "stdout",
     "output_type": "stream",
     "text": [
      "0    10\n",
      "1    20\n",
      "2    30\n",
      "3    40\n",
      "4    50\n",
      "dtype: int64\n"
     ]
    }
   ],
   "source": [
    "import pandas as pd\n",
    "\n",
    "s1 = pd.Series(range(10, 51, 10))\n",
    "print(s1)"
   ]
  },
  {
   "cell_type": "markdown",
   "metadata": {},
   "source": [
    "Spoznajmo na začetku nekaj ključnih lastnosti (atributov) zaporedij:\n",
    "* `size`: število elementov zaporedja, tudi dolžina zaporedja,\n",
    "* `dtype`: podatkovni tip vrednosti v zaporedju,\n",
    "* `values`: vrednosti elementov zaporedja, in\n",
    "* `index`: indeksi elementov v zaporedju (podobno kot `keys` v slovarjih)."
   ]
  },
  {
   "cell_type": "code",
   "execution_count": 2,
   "metadata": {},
   "outputs": [
    {
     "name": "stdout",
     "output_type": "stream",
     "text": [
      "5\n",
      "int64\n"
     ]
    }
   ],
   "source": [
    "print(s1.size)\n",
    "print(s1.dtype)"
   ]
  },
  {
   "cell_type": "markdown",
   "metadata": {},
   "source": [
    "Iz izpisa lahko torej ugotovimo, da ima zaporedje 5 elementov celoštevilskega tipa (`int64`). Poglejmo zdaj lastnost `values`:"
   ]
  },
  {
   "cell_type": "code",
   "execution_count": 3,
   "metadata": {},
   "outputs": [
    {
     "name": "stdout",
     "output_type": "stream",
     "text": [
      "<class 'numpy.ndarray'>\n",
      "[10 20 30 40 50]\n",
      "[10, 20, 30, 40, 50]\n",
      "<class 'list'>\n"
     ]
    }
   ],
   "source": [
    "print(type(s1.values))\n",
    "print(s1.values)\n",
    "print(s1.values.tolist())\n",
    "print(type(s1.values.tolist()))"
   ]
  },
  {
   "cell_type": "markdown",
   "metadata": {},
   "source": [
    "Lastnost je polje, kot ga definira knjižnica `numpy` (`numpy.ndarray`). Izpis vrednosti nam pokaže elemente polja: dejstvo, da v izpisu ni vejic med zaporednimi elementi, nakazuje, da ne gre za navaden Pythonovski seznam. Slednjega lahko dobimo z uporabo metode `tolist()`.\n",
    "\n",
    "Poglejmo si še lastnost `index`:"
   ]
  },
  {
   "cell_type": "code",
   "execution_count": 4,
   "metadata": {},
   "outputs": [
    {
     "name": "stdout",
     "output_type": "stream",
     "text": [
      "<class 'pandas.core.indexes.range.RangeIndex'>\n",
      "RangeIndex(start=0, stop=5, step=1)\n",
      "[0, 1, 2, 3, 4]\n",
      "<class 'list'>\n"
     ]
    }
   ],
   "source": [
    "print(type(s1.index))\n",
    "print(s1.index)\n",
    "print(s1.index.tolist())\n",
    "print(type(s1.index.tolist()))"
   ]
  },
  {
   "cell_type": "markdown",
   "metadata": {},
   "source": [
    "Vidimo, da tudi ta lastnost je posebnega tipa, v tem primeru `RangeIndex`, ki ga lahko z uporabo metode `tolist()` pretvorimo v navaden seznam.\n",
    "\n",
    "Kot smo povedali zgoraj so indeksi elementov zaporedja enaki prvim petim naravnim številom. Če želimo imeti poimenovane elemente, jim lahko imena dodamo na več načinov. En način, ki nam omogoča sprotno spreminjanje indeksov, je neposredno prirejanje, kot kaže ta primer:"
   ]
  },
  {
   "cell_type": "code",
   "execution_count": 5,
   "metadata": {},
   "outputs": [
    {
     "name": "stdout",
     "output_type": "stream",
     "text": [
      "a    10\n",
      "b    20\n",
      "c    30\n",
      "d    40\n",
      "e    50\n",
      "dtype: int64\n"
     ]
    }
   ],
   "source": [
    "s2 = s1.copy()\n",
    "s2.index = list('abcde')\n",
    "# Lahko tudi s2 = pd.Series(range(10, 51, 10), index = list('abcde'))\n",
    "print(s2)"
   ]
  },
  {
   "cell_type": "markdown",
   "metadata": {},
   "source": [
    "Izpis nazorno pokaže, da so indeksi zadaj enaki prvim petim črkam angleške abecede:"
   ]
  },
  {
   "cell_type": "code",
   "execution_count": 6,
   "metadata": {},
   "outputs": [
    {
     "name": "stdout",
     "output_type": "stream",
     "text": [
      "<class 'pandas.core.indexes.base.Index'>\n",
      "Index(['a', 'b', 'c', 'd', 'e'], dtype='object')\n",
      "['a', 'b', 'c', 'd', 'e']\n"
     ]
    }
   ],
   "source": [
    "print(type(s2.index))\n",
    "print(s2.index)\n",
    "print(s2.index.tolist())"
   ]
  },
  {
   "cell_type": "markdown",
   "metadata": {},
   "source": [
    "## Indeksiranje zaporedij\n",
    "\n",
    "Posamezne elemente zaporedij lahko dobimo z uporabo običajnega indeksiranja, enakega tistemu za navadne Pythonovske sezname:"
   ]
  },
  {
   "cell_type": "code",
   "execution_count": 7,
   "metadata": {},
   "outputs": [
    {
     "name": "stdout",
     "output_type": "stream",
     "text": [
      "20\n",
      "20\n"
     ]
    },
    {
     "name": "stderr",
     "output_type": "stream",
     "text": [
      "/var/folders/g7/xgt9ckmj6g1404knwg8j5rkc0000gn/T/ipykernel_26889/2625357706.py:2: FutureWarning: Series.__getitem__ treating keys as positions is deprecated. In a future version, integer keys will always be treated as labels (consistent with DataFrame behavior). To access a value by position, use `ser.iloc[pos]`\n",
      "  print(s2[1])\n"
     ]
    }
   ],
   "source": [
    "print(s1[1])\n",
    "print(s2[1])"
   ]
  },
  {
   "cell_type": "markdown",
   "metadata": {},
   "source": [
    "Bodite pozorni na opozorilo pri drugem indeksiranju. Namreč, izraz `s2[1]` nima ravno smisla, saj ima zaporedje `s2` poimenovane indekse in bi bilo pravilno uporabiti ustrezni indeks:"
   ]
  },
  {
   "cell_type": "code",
   "execution_count": 8,
   "metadata": {},
   "outputs": [
    {
     "name": "stdout",
     "output_type": "stream",
     "text": [
      "20\n"
     ]
    }
   ],
   "source": [
    "print(s2['b'])"
   ]
  },
  {
   "cell_type": "markdown",
   "metadata": {},
   "source": [
    "Opozorila ni več. Če želimo dobiti vrednost *drugega elementa* zaporedja `s2`, kjer npr. ne poznamo njegovega indeksa, to lahko storimo na dva načina:"
   ]
  },
  {
   "cell_type": "code",
   "execution_count": 9,
   "metadata": {},
   "outputs": [
    {
     "name": "stdout",
     "output_type": "stream",
     "text": [
      "20\n",
      "20\n"
     ]
    }
   ],
   "source": [
    "print(s2[s2.index[1]])\n",
    "print(s2.iloc[1])"
   ]
  },
  {
   "cell_type": "markdown",
   "metadata": {},
   "source": [
    "Prvi sloni na očitni uporabi lastnosti `s2.index`: z indeksiranjem tega seznama indeksov dobimo pravi, poimenovani indeks drugega elementa zaporedja `s2`. Drugi način sloni na uporabi še enega načina indeksiranja zaporedij skozi lastnost `iloc`. Spoznajmo to lastnost bolj podrobno."
   ]
  },
  {
   "cell_type": "markdown",
   "metadata": {},
   "source": [
    "## Lastnosti zaporedij `iloc` in `loc`\n",
    "\n",
    "Zaporedja imajo dve lastnosti, ki so nam lahko v pomoč pri njihovem indeksiranju.\n",
    "\n",
    "Lastnost `iloc` uporabljamo za izbiranje elementov zaporedja `s` na podlagi njihovih *pozicij*, t.j., zaporednih celoštevilskih indeksov iz `range(s.size)` oz. seznama `[0, 1, ..., s.size]`."
   ]
  },
  {
   "cell_type": "code",
   "execution_count": 10,
   "metadata": {},
   "outputs": [
    {
     "name": "stdout",
     "output_type": "stream",
     "text": [
      "10\n",
      "b    20\n",
      "c    30\n",
      "dtype: int64\n",
      "b    20\n",
      "c    30\n",
      "dtype: int64\n",
      "a    10\n",
      "b    20\n",
      "c    30\n",
      "d    40\n",
      "e    50\n",
      "dtype: int64\n"
     ]
    }
   ],
   "source": [
    "print(s2.iloc[0])\n",
    "print(s2.iloc[1:3])\n",
    "print(s2.iloc[1:-2])\n",
    "print(s2.iloc[:])"
   ]
  },
  {
   "cell_type": "markdown",
   "metadata": {},
   "source": [
    "Lastnost nam torej omogoča, da indeksiramo elemente zaporedja na enak način, kot smo vajeni indeksiranja elementov navadnega Pythonovskega seznama. Tako npr. indeks `[1:3]` nam indeksira drugi in tretji element seznama (ne pa četrtega, ker, *pozor*, indeks `3` ne sodi v območje `1:3`).\n",
    "\n",
    "Bodite tudi pozorni na razliko med prvim rezultatom, ki je enostavnega celoštevilskega tipa, ker smo pač indeksirali zgolj en element zaporedja in ostalih treh. Slednji so vsi tipa zaporedje. Za vajo premisli kako bi rezultat indeksiranja spremenil v navaden seznam.\n",
    "\n",
    "Lastnost `loc` je podobna `iloc` s pomembno razliko: omogoča nam indeksiranje zaporedij na osnovi **poimenovanih indeksov** in ne pozicijskih indeksov:"
   ]
  },
  {
   "cell_type": "code",
   "execution_count": 11,
   "metadata": {},
   "outputs": [
    {
     "name": "stdout",
     "output_type": "stream",
     "text": [
      "10\n",
      "b    20\n",
      "c    30\n",
      "d    40\n",
      "dtype: int64\n",
      "a    10\n",
      "b    20\n",
      "c    30\n",
      "d    40\n",
      "e    50\n",
      "dtype: int64\n"
     ]
    }
   ],
   "source": [
    "print(s2.loc['a'])\n",
    "print(s2.loc['b':'d'])\n",
    "print(s2.loc[:])"
   ]
  },
  {
   "cell_type": "markdown",
   "metadata": {},
   "source": [
    "Čeprav se zdijo rezultati samoumevni, naj opozorim na eno stvar. Območje `'b':'d'` vključuje tudi zadnji indeks območja, `'d'`. *Pozor*: to je drugače kot pri številskem območju `1:3`, kjer indeks `3`, t.j., zgornja meja območja, ni vključen v seznam zahtevanih indeksov.\n",
    "\n",
    "## O tipih elementov zaporedja\n",
    "\n",
    "Elementi zaporedja so lahko mešanih tipov. Za tvorjenje takega zaporedja, bomo uporabili funkcijo `concat`, ki elemente večjega števila zaporedij iz podanega nabora združi skupaj v eno zaporedje:"
   ]
  },
  {
   "cell_type": "code",
   "execution_count": 12,
   "metadata": {},
   "outputs": [
    {
     "name": "stdout",
     "output_type": "stream",
     "text": [
      "0    0\n",
      "1    1\n",
      "2    2\n",
      "0    a\n",
      "1    b\n",
      "2    c\n",
      "dtype: object\n"
     ]
    }
   ],
   "source": [
    "s_int = pd.Series(range(3))\n",
    "s_chr = pd.Series(list('abc'))\n",
    "s_cuden = pd.concat((s_int, s_chr))\n",
    "print(s_cuden)"
   ]
  },
  {
   "cell_type": "markdown",
   "metadata": {},
   "source": [
    "Dobljeni seznam je čuden na več načinov. Najprej, med združevanjem dveh seznamov s celoštevilskimi elementi in nizi znakov, poenoti tipe elementov tako, da celoštevilski elementi dobijo nove vrednosti splošnega tipa `object`. Še bolj nenavadno je, da se indeksi v novem zaporedju ponavljajo. Pogljemo kako poteka indeksiranje z uporabo lastnosti `loc` v takem seznamu:"
   ]
  },
  {
   "cell_type": "code",
   "execution_count": 13,
   "metadata": {},
   "outputs": [
    {
     "name": "stdout",
     "output_type": "stream",
     "text": [
      "0    0\n",
      "0    a\n",
      "dtype: object\n"
     ]
    }
   ],
   "source": [
    "print(s_cuden.loc[0])"
   ]
  },
  {
   "cell_type": "markdown",
   "metadata": {},
   "source": [
    "Hecno je, da indeksiranje z enim samim indeksom vrne zaporedje dveh elementov. Seveda se temu lahko izognemo tako, da uporabljamo pozicijski indeks:"
   ]
  },
  {
   "cell_type": "code",
   "execution_count": 14,
   "metadata": {},
   "outputs": [
    {
     "name": "stdout",
     "output_type": "stream",
     "text": [
      "a\n"
     ]
    }
   ],
   "source": [
    "print(s_cuden.iloc[3])"
   ]
  },
  {
   "cell_type": "markdown",
   "metadata": {},
   "source": [
    "Za vajo popravi indekse zaporedja `s_cuden` tako, da se ne ponavljajo.\n",
    "\n",
    "A pomemben nauk zgodbe je, da elementi zaporedja, tako kot elementi seznama, morajo biti istega tipa. Tip elementov nam pove lastnost zaporedja `dtype`: pogosto ta podatkovni tip imenujemo **tip zaporedja**. Poglejmo zdaj nekaj tipov zaporedij, ki pridejo prav pri podatkovni analizi.\n",
    "\n",
    "\n",
    "## Kategorije (angl. _categories_)\n",
    "\n",
    "V vseh dosedanjih primerih smo tvorili zaporedja celoštevilskega tipa ali zaporedja nizov znakov. Kategorije so posebni tip zaporedij, katerih vrednosti elementov so iz omejene množice možnih vrednosti. Primer takega zaporedja zapisuje barve opazovanih objektov, pri čemer je posamezen objekt lahko rdeče, zelene ali modre barve.\n",
    "\n",
    "Tako zaporedje bi seveda lahko zapisali kot navadno zaporedje nizov znakov:"
   ]
  },
  {
   "cell_type": "code",
   "execution_count": 15,
   "metadata": {},
   "outputs": [
    {
     "name": "stdout",
     "output_type": "stream",
     "text": [
      "0     modra\n",
      "1     rdeča\n",
      "2     rdeča\n",
      "3     modra\n",
      "4     rdeča\n",
      "5     rdeča\n",
      "6     modra\n",
      "7     rdeča\n",
      "8     modra\n",
      "9    zelena\n",
      "dtype: object\n"
     ]
    }
   ],
   "source": [
    "from random import seed, sample\n",
    "\n",
    "seed(42)\n",
    "\n",
    "barve = ['rdeča', 'zelena', 'modra']\n",
    "s_barve = pd.Series(sample(barve, counts = [10, 10, 10], k = 10))\n",
    "print(s_barve)"
   ]
  },
  {
   "cell_type": "markdown",
   "metadata": {},
   "source": [
    "Slabost tega zaporedja je v tem, da pri spreminjanju vrednosti obstoječih elementov nimamo kontrole nad množico dovoljenih vrednosti. Lahko naredimo napako pri poimenovanju barve in pri tem ne dobimo nobenega opozorila:"
   ]
  },
  {
   "cell_type": "code",
   "execution_count": 16,
   "metadata": {},
   "outputs": [
    {
     "name": "stdout",
     "output_type": "stream",
     "text": [
      "0    modra\n",
      "1    rdeča\n",
      "2    rdeča\n",
      "3    modra\n",
      "4    rdeča\n",
      "5    rdeča\n",
      "6    modra\n",
      "7    rdeča\n",
      "8    modra\n",
      "9    rdeca\n",
      "dtype: object\n"
     ]
    }
   ],
   "source": [
    "s_barve[9] = 'rdeca'\n",
    "print(s_barve)"
   ]
  },
  {
   "cell_type": "markdown",
   "metadata": {},
   "source": [
    "Če pa ustvarimo kategorijo:"
   ]
  },
  {
   "cell_type": "code",
   "execution_count": 17,
   "metadata": {},
   "outputs": [
    {
     "name": "stdout",
     "output_type": "stream",
     "text": [
      "0     rdeča\n",
      "1    zelena\n",
      "2    zelena\n",
      "3     rdeča\n",
      "4     rdeča\n",
      "5     modra\n",
      "6     rdeča\n",
      "7     rdeča\n",
      "8    zelena\n",
      "9    zelena\n",
      "dtype: category\n",
      "Categories (3, object): ['modra', 'rdeča', 'zelena']\n"
     ]
    }
   ],
   "source": [
    "s_barve = pd.Series(sample(barve, counts = [10, 10, 10], k = 10), dtype=\"category\")\n",
    "print(s_barve)"
   ]
  },
  {
   "cell_type": "markdown",
   "metadata": {},
   "source": [
    "dobi ustvarjeno zaporedje lastnost, ki določa množico možnih vrednosti (glej zadnjo vrstico izpisa). Poskus prirejanja vrednosti elementa, ki ni v množici možnih vrednosti kategorije, se konča z napako `TypeError` takole:"
   ]
  },
  {
   "cell_type": "code",
   "execution_count": 18,
   "metadata": {},
   "outputs": [
    {
     "ename": "TypeError",
     "evalue": "Cannot setitem on a Categorical with a new category (rdeca), set the categories first",
     "output_type": "error",
     "traceback": [
      "\u001b[0;31m---------------------------------------------------------------------------\u001b[0m",
      "\u001b[0;31mTypeError\u001b[0m                                 Traceback (most recent call last)",
      "\u001b[1;32m/Users/ljupco/predmeti/pandas/papvp-zvezek/predavanja/podatkovni-tipi.ipynb Cell 37\u001b[0m line \u001b[0;36m1\n\u001b[0;32m----> <a href='vscode-notebook-cell:/Users/ljupco/predmeti/pandas/papvp-zvezek/predavanja/podatkovni-tipi.ipynb#X66sZmlsZQ%3D%3D?line=0'>1</a>\u001b[0m s_barve[\u001b[39m9\u001b[39;49m] \u001b[39m=\u001b[39m \u001b[39m\"\u001b[39m\u001b[39mrdeca\u001b[39m\u001b[39m\"\u001b[39m\n\u001b[1;32m      <a href='vscode-notebook-cell:/Users/ljupco/predmeti/pandas/papvp-zvezek/predavanja/podatkovni-tipi.ipynb#X66sZmlsZQ%3D%3D?line=1'>2</a>\u001b[0m \u001b[39mprint\u001b[39m(s_barve)\n",
      "File \u001b[0;32m~/predmeti/pandas/venv/lib/python3.11/site-packages/pandas/core/series.py:1228\u001b[0m, in \u001b[0;36mSeries.__setitem__\u001b[0;34m(self, key, value)\u001b[0m\n\u001b[1;32m   1225\u001b[0m \u001b[39mexcept\u001b[39;00m (\u001b[39mTypeError\u001b[39;00m, \u001b[39mValueError\u001b[39;00m, LossySetitemError):\n\u001b[1;32m   1226\u001b[0m     \u001b[39m# The key was OK, but we cannot set the value losslessly\u001b[39;00m\n\u001b[1;32m   1227\u001b[0m     indexer \u001b[39m=\u001b[39m \u001b[39mself\u001b[39m\u001b[39m.\u001b[39mindex\u001b[39m.\u001b[39mget_loc(key)\n\u001b[0;32m-> 1228\u001b[0m     \u001b[39mself\u001b[39;49m\u001b[39m.\u001b[39;49m_set_values(indexer, value)\n\u001b[1;32m   1230\u001b[0m \u001b[39mexcept\u001b[39;00m InvalidIndexError \u001b[39mas\u001b[39;00m err:\n\u001b[1;32m   1231\u001b[0m     \u001b[39mif\u001b[39;00m \u001b[39misinstance\u001b[39m(key, \u001b[39mtuple\u001b[39m) \u001b[39mand\u001b[39;00m \u001b[39mnot\u001b[39;00m \u001b[39misinstance\u001b[39m(\u001b[39mself\u001b[39m\u001b[39m.\u001b[39mindex, MultiIndex):\n\u001b[1;32m   1232\u001b[0m         \u001b[39m# cases with MultiIndex don't get here bc they raise KeyError\u001b[39;00m\n\u001b[1;32m   1233\u001b[0m         \u001b[39m# e.g. test_basic_getitem_setitem_corner\u001b[39;00m\n",
      "File \u001b[0;32m~/predmeti/pandas/venv/lib/python3.11/site-packages/pandas/core/series.py:1320\u001b[0m, in \u001b[0;36mSeries._set_values\u001b[0;34m(self, key, value)\u001b[0m\n\u001b[1;32m   1317\u001b[0m \u001b[39mif\u001b[39;00m \u001b[39misinstance\u001b[39m(key, (Index, Series)):\n\u001b[1;32m   1318\u001b[0m     key \u001b[39m=\u001b[39m key\u001b[39m.\u001b[39m_values\n\u001b[0;32m-> 1320\u001b[0m \u001b[39mself\u001b[39m\u001b[39m.\u001b[39m_mgr \u001b[39m=\u001b[39m \u001b[39mself\u001b[39;49m\u001b[39m.\u001b[39;49m_mgr\u001b[39m.\u001b[39;49msetitem(indexer\u001b[39m=\u001b[39;49mkey, value\u001b[39m=\u001b[39;49mvalue)\n\u001b[1;32m   1321\u001b[0m \u001b[39mself\u001b[39m\u001b[39m.\u001b[39m_maybe_update_cacher()\n",
      "File \u001b[0;32m~/predmeti/pandas/venv/lib/python3.11/site-packages/pandas/core/internals/managers.py:399\u001b[0m, in \u001b[0;36mBaseBlockManager.setitem\u001b[0;34m(self, indexer, value)\u001b[0m\n\u001b[1;32m    395\u001b[0m     \u001b[39m# No need to split if we either set all columns or on a single block\u001b[39;00m\n\u001b[1;32m    396\u001b[0m     \u001b[39m# manager\u001b[39;00m\n\u001b[1;32m    397\u001b[0m     \u001b[39mself\u001b[39m \u001b[39m=\u001b[39m \u001b[39mself\u001b[39m\u001b[39m.\u001b[39mcopy()\n\u001b[0;32m--> 399\u001b[0m \u001b[39mreturn\u001b[39;00m \u001b[39mself\u001b[39;49m\u001b[39m.\u001b[39;49mapply(\u001b[39m\"\u001b[39;49m\u001b[39msetitem\u001b[39;49m\u001b[39m\"\u001b[39;49m, indexer\u001b[39m=\u001b[39;49mindexer, value\u001b[39m=\u001b[39;49mvalue)\n",
      "File \u001b[0;32m~/predmeti/pandas/venv/lib/python3.11/site-packages/pandas/core/internals/managers.py:354\u001b[0m, in \u001b[0;36mBaseBlockManager.apply\u001b[0;34m(self, f, align_keys, **kwargs)\u001b[0m\n\u001b[1;32m    352\u001b[0m         applied \u001b[39m=\u001b[39m b\u001b[39m.\u001b[39mapply(f, \u001b[39m*\u001b[39m\u001b[39m*\u001b[39mkwargs)\n\u001b[1;32m    353\u001b[0m     \u001b[39melse\u001b[39;00m:\n\u001b[0;32m--> 354\u001b[0m         applied \u001b[39m=\u001b[39m \u001b[39mgetattr\u001b[39;49m(b, f)(\u001b[39m*\u001b[39;49m\u001b[39m*\u001b[39;49mkwargs)\n\u001b[1;32m    355\u001b[0m     result_blocks \u001b[39m=\u001b[39m extend_blocks(applied, result_blocks)\n\u001b[1;32m    357\u001b[0m out \u001b[39m=\u001b[39m \u001b[39mtype\u001b[39m(\u001b[39mself\u001b[39m)\u001b[39m.\u001b[39mfrom_blocks(result_blocks, \u001b[39mself\u001b[39m\u001b[39m.\u001b[39maxes)\n",
      "File \u001b[0;32m~/predmeti/pandas/venv/lib/python3.11/site-packages/pandas/core/internals/blocks.py:1758\u001b[0m, in \u001b[0;36mEABackedBlock.setitem\u001b[0;34m(self, indexer, value, using_cow)\u001b[0m\n\u001b[1;32m   1755\u001b[0m check_setitem_lengths(indexer, value, values)\n\u001b[1;32m   1757\u001b[0m \u001b[39mtry\u001b[39;00m:\n\u001b[0;32m-> 1758\u001b[0m     values[indexer] \u001b[39m=\u001b[39m value\n\u001b[1;32m   1759\u001b[0m \u001b[39mexcept\u001b[39;00m (\u001b[39mValueError\u001b[39;00m, \u001b[39mTypeError\u001b[39;00m) \u001b[39mas\u001b[39;00m err:\n\u001b[1;32m   1760\u001b[0m     _catch_deprecated_value_error(err)\n",
      "File \u001b[0;32m~/predmeti/pandas/venv/lib/python3.11/site-packages/pandas/core/arrays/_mixins.py:253\u001b[0m, in \u001b[0;36mNDArrayBackedExtensionArray.__setitem__\u001b[0;34m(self, key, value)\u001b[0m\n\u001b[1;32m    251\u001b[0m \u001b[39mdef\u001b[39;00m \u001b[39m__setitem__\u001b[39m(\u001b[39mself\u001b[39m, key, value) \u001b[39m-\u001b[39m\u001b[39m>\u001b[39m \u001b[39mNone\u001b[39;00m:\n\u001b[1;32m    252\u001b[0m     key \u001b[39m=\u001b[39m check_array_indexer(\u001b[39mself\u001b[39m, key)\n\u001b[0;32m--> 253\u001b[0m     value \u001b[39m=\u001b[39m \u001b[39mself\u001b[39;49m\u001b[39m.\u001b[39;49m_validate_setitem_value(value)\n\u001b[1;32m    254\u001b[0m     \u001b[39mself\u001b[39m\u001b[39m.\u001b[39m_ndarray[key] \u001b[39m=\u001b[39m value\n",
      "File \u001b[0;32m~/predmeti/pandas/venv/lib/python3.11/site-packages/pandas/core/arrays/categorical.py:1562\u001b[0m, in \u001b[0;36mCategorical._validate_setitem_value\u001b[0;34m(self, value)\u001b[0m\n\u001b[1;32m   1560\u001b[0m     \u001b[39mreturn\u001b[39;00m \u001b[39mself\u001b[39m\u001b[39m.\u001b[39m_validate_listlike(value)\n\u001b[1;32m   1561\u001b[0m \u001b[39melse\u001b[39;00m:\n\u001b[0;32m-> 1562\u001b[0m     \u001b[39mreturn\u001b[39;00m \u001b[39mself\u001b[39;49m\u001b[39m.\u001b[39;49m_validate_scalar(value)\n",
      "File \u001b[0;32m~/predmeti/pandas/venv/lib/python3.11/site-packages/pandas/core/arrays/categorical.py:1587\u001b[0m, in \u001b[0;36mCategorical._validate_scalar\u001b[0;34m(self, fill_value)\u001b[0m\n\u001b[1;32m   1585\u001b[0m     fill_value \u001b[39m=\u001b[39m \u001b[39mself\u001b[39m\u001b[39m.\u001b[39m_unbox_scalar(fill_value)\n\u001b[1;32m   1586\u001b[0m \u001b[39melse\u001b[39;00m:\n\u001b[0;32m-> 1587\u001b[0m     \u001b[39mraise\u001b[39;00m \u001b[39mTypeError\u001b[39;00m(\n\u001b[1;32m   1588\u001b[0m         \u001b[39m\"\u001b[39m\u001b[39mCannot setitem on a Categorical with a new \u001b[39m\u001b[39m\"\u001b[39m\n\u001b[1;32m   1589\u001b[0m         \u001b[39mf\u001b[39m\u001b[39m\"\u001b[39m\u001b[39mcategory (\u001b[39m\u001b[39m{\u001b[39;00mfill_value\u001b[39m}\u001b[39;00m\u001b[39m), set the categories first\u001b[39m\u001b[39m\"\u001b[39m\n\u001b[1;32m   1590\u001b[0m     ) \u001b[39mfrom\u001b[39;00m \u001b[39mNone\u001b[39;00m\n\u001b[1;32m   1591\u001b[0m \u001b[39mreturn\u001b[39;00m fill_value\n",
      "\u001b[0;31mTypeError\u001b[0m: Cannot setitem on a Categorical with a new category (rdeca), set the categories first"
     ]
    }
   ],
   "source": [
    "s_barve[9] = \"rdeca\"\n",
    "print(s_barve)"
   ]
  },
  {
   "cell_type": "markdown",
   "metadata": {},
   "source": [
    "Za razliko od tega, prirejanje vrednosti iz množice možnih vrednosti je uspešno:"
   ]
  },
  {
   "cell_type": "code",
   "execution_count": 19,
   "metadata": {},
   "outputs": [
    {
     "name": "stdout",
     "output_type": "stream",
     "text": [
      "['modra', 'rdeča', 'zelena']\n",
      "0     rdeča\n",
      "1    zelena\n",
      "2    zelena\n",
      "3     rdeča\n",
      "4     rdeča\n",
      "5     modra\n",
      "6     rdeča\n",
      "7     rdeča\n",
      "8    zelena\n",
      "9     rdeča\n",
      "dtype: category\n",
      "Categories (3, object): ['modra', 'rdeča', 'zelena']\n"
     ]
    }
   ],
   "source": [
    "print(s_barve.cat.categories.tolist())\n",
    "s_barve[9] = \"rdeča\"\n",
    "print(s_barve)"
   ]
  },
  {
   "cell_type": "markdown",
   "metadata": {},
   "source": [
    "### Dodatne prednosti kategorij\n",
    "\n",
    "Poleg kontrole nad množico možnih vrednosti, imajo kategorije še dve pomembni lastnosti, ki še posebej pridejo do izraza pri obdelavi in analizi podatkov.\n",
    "   * Zmanjšanje porabe pomnilnika: kategorije zasedajo manj pomnilnika kot nizi ali števila, saj se vsaka možna vrednost shrani samo enkrat, in nato se uporabijo celoštevilski indeksi za sklicevanje nanje.\n",
    "   * Hitrejše delovanje: ker so kategorije predhodno določene, so operacije, kot je iskanje ali filtriranje, običajno hitrejše v primerjavi z nizi znakov.\n",
    "   * Bolj pregledne statistične obdelave in vizualizacijo: lahko npr. izračunamo porazdelitev vrednosti zaporedja po kategorijah ali pa izračunamo povprečne vrednosti neke druge spremenljivke za različne kategorije in podobno.\n",
    "\n",
    "*Pozor*: v zadnji alineji zgoraj smo besedo kategorije uporabili kot okrajšavo za `možne vrednosti kategorije`. To se dogaja pogosto v obdelavi podatkov, beseda kategorija bo včasih uporabljena za določanje tipa zaporedja, včasih pa za eno možno vrednost elementov zaporedja. Običajno je iz konteksta razviden specifičen pomen besede.\n",
    "   \n",
    "\n",
    "### Dodajanje novih možnih vrednosti\n",
    "\n",
    "Kot smo videli v zgornjem primeru, je seznam možnih kategorij dosegljiv čez lastnost `cat` zaporedja tipa kategorije. Spomnimo se:"
   ]
  },
  {
   "cell_type": "code",
   "execution_count": 20,
   "metadata": {},
   "outputs": [
    {
     "name": "stdout",
     "output_type": "stream",
     "text": [
      "['modra', 'rdeča', 'zelena']\n"
     ]
    }
   ],
   "source": [
    "print(s_barve.cat.categories.tolist())"
   ]
  },
  {
   "cell_type": "markdown",
   "metadata": {},
   "source": [
    "Isto lastnost lahko uporabimo tudi za spreminjanje nabora možnih vrednosti. Lahko dodamo novo barvo, ali zbrišemo obstoječo:"
   ]
  },
  {
   "cell_type": "code",
   "execution_count": 21,
   "metadata": {},
   "outputs": [
    {
     "name": "stdout",
     "output_type": "stream",
     "text": [
      "0     rdeča\n",
      "1    zelena\n",
      "2    zelena\n",
      "3     rdeča\n",
      "4     rdeča\n",
      "5     modra\n",
      "6     rdeča\n",
      "7     rdeča\n",
      "8    zelena\n",
      "9     rdeča\n",
      "dtype: category\n",
      "Categories (4, object): ['modra', 'rdeča', 'zelena', 'rumena']\n",
      "0       NaN\n",
      "1    zelena\n",
      "2    zelena\n",
      "3       NaN\n",
      "4       NaN\n",
      "5     modra\n",
      "6       NaN\n",
      "7       NaN\n",
      "8    zelena\n",
      "9       NaN\n",
      "dtype: category\n",
      "Categories (3, object): ['modra', 'rumena', 'zelena']\n"
     ]
    }
   ],
   "source": [
    "s_barve = s_barve.cat.add_categories(\"rumena\")\n",
    "print(s_barve)\n",
    "s_barve = s_barve.cat.remove_categories(\"rdeča\")\n",
    "print(s_barve)"
   ]
  },
  {
   "cell_type": "markdown",
   "metadata": {},
   "source": [
    "Pojasni pojav neznanih vrednosti `NaN` v zadnjem zaporedju."
   ]
  },
  {
   "cell_type": "markdown",
   "metadata": {},
   "source": [
    "### Urejene kategorije\n",
    "\n",
    "Možne vrednosti kategorije so v splošnem neurejene. V zgornjem primeru z barvami je to seveda prav, saj ne poznamo relacije urejenost med barvami, a pri kakšnih kategorijah je smiselno imeti urejenost možnih vrednosti. Vzemimo za primer starostne skupine:"
   ]
  },
  {
   "cell_type": "code",
   "execution_count": 22,
   "metadata": {},
   "outputs": [
    {
     "name": "stdout",
     "output_type": "stream",
     "text": [
      "0          otrok\n",
      "1        odrasla\n",
      "2      najstnica\n",
      "3        odrasla\n",
      "4    mladostnica\n",
      "5      najstnica\n",
      "6    mladostnica\n",
      "7      najstnica\n",
      "8          otrok\n",
      "9    mladostnica\n",
      "dtype: category\n",
      "Categories (4, object): ['otrok' < 'najstnica' < 'mladostnica' < 'odrasla']\n"
     ]
    }
   ],
   "source": [
    "from pandas.api.types import CategoricalDtype\n",
    "\n",
    "starostne_skupine = [\"otrok\", \"najstnica\", \"mladostnica\", \"odrasla\"]\n",
    "kat_ss = CategoricalDtype(starostne_skupine, ordered = True)\n",
    "starost = pd.Series(sample(starostne_skupine, counts = [10 for _ in range(len(starostne_skupine))], k = 10))\n",
    "s_starost = starost.astype(kat_ss)\n",
    "print(s_starost)"
   ]
  },
  {
   "cell_type": "markdown",
   "metadata": {},
   "source": [
    "Znaki `<` v seznamu kategorij na koncu izpisa nakazujejo, da je kategorija starostna skupina urejena ter hkrati nakazujejo urejenost možnih vrednosti kategorije.\n",
    "\n",
    "Urejene kategorije pogosto tvorimo z *diskretizacijo* numeričnih vrednosti. Diskretizacija pomeni, da numerično spremenljivko (zaporedje) spremenimo v zaporedje diskretnih, običajno urejenih, vrednosti. V primeru starosti, pri osebah običajno opazujemo starost v letih. Z uporabo funkcije `cut` lahko starost podano v letih pretvorimo v starostne skupine iz prejšnjega primera:"
   ]
  },
  {
   "cell_type": "code",
   "execution_count": 23,
   "metadata": {},
   "outputs": [
    {
     "name": "stdout",
     "output_type": "stream",
     "text": [
      "0    20\n",
      "1    89\n",
      "2    54\n",
      "3    43\n",
      "4    35\n",
      "5    19\n",
      "6    27\n",
      "7    97\n",
      "8    13\n",
      "9    11\n",
      "dtype: int64\n",
      "0    mladostnica\n",
      "1        odrasla\n",
      "2        odrasla\n",
      "3        odrasla\n",
      "4        odrasla\n",
      "5      najstnica\n",
      "6    mladostnica\n",
      "7        odrasla\n",
      "8      najstnica\n",
      "9          otrok\n",
      "dtype: category\n",
      "Categories (4, object): ['otrok' < 'najstnica' < 'mladostnica' < 'odrasla']\n"
     ]
    }
   ],
   "source": [
    "starost_v_letih = pd.Series(sample(range(100), k = 10))\n",
    "print(starost_v_letih)\n",
    "starostne_meje = [-100, 12, 19, 27, 1000]\n",
    "starost_kat = pd.cut(starost_v_letih, starostne_meje, labels = starostne_skupine)\n",
    "print(starost_kat)"
   ]
  },
  {
   "cell_type": "markdown",
   "metadata": {},
   "source": [
    "Rezultat funkcije `cut` je torej urejena kategorija, nabor določenih vrednosti pa sledi vrednosti argumenta `labels`. Drugi argument funkcije določa seznam mej med starostnimi skupinami in mora biti torej z ena daljši od argumenta `labels`. Prvi argument funkcije je pa originalno zaporedje z numeričnimi vrednostmi.\n",
    "\n",
    "## Datum in čas\n",
    "\n",
    "V podatkovni analizi pogosto srečujemo časovna zaporedja, ki jih knjižnica `pandas` podpira s tremi podatkovnimi tipi:\n",
    "    * *Časovna točka* (angl. _Date times_) je tipa `Timestamp`,\n",
    "    * *Časovna razlika* (angl. _Time deltas_) je tipa `Timedelta`, in\n",
    "    * *Časovno obdobje* (angl. _Period_) je tipa `Period`.\n",
    "\n",
    "### Časovne točke\n",
    "\n",
    "Časovno zaporedje lahko ustvarimo iz seznama nizov znakov, ki vsebuje datume zapisane v različnih formatih, s funkcijo `pd.to_datetime`:"
   ]
  },
  {
   "cell_type": "code",
   "execution_count": 24,
   "metadata": {},
   "outputs": [],
   "source": [
    "s_datumi = pd.to_datetime(pd.Series([\"Jul 31, 2009\", \"Jan 10, 2010\", \"10-Oct-2023\", None]), format = \"mixed\")"
   ]
  },
  {
   "cell_type": "markdown",
   "metadata": {},
   "source": [
    "Ko izhodiščni seznam vključuje datume različnih formatov, je ključnega pomena, da pri pretvorbi nastavimo vrednost argumenta `format = \"mixed\"`.\n",
    "\n",
    "Drugi, zelo pogosto način ustvarjanja časovnih zaporedij je z uporabo funkcije `pd.date_range`:"
   ]
  },
  {
   "cell_type": "code",
   "execution_count": 25,
   "metadata": {},
   "outputs": [
    {
     "name": "stdout",
     "output_type": "stream",
     "text": [
      "0   2023-10-01\n",
      "1   2023-10-02\n",
      "2   2023-10-03\n",
      "3   2023-10-04\n",
      "4   2023-10-05\n",
      "5   2023-10-06\n",
      "6   2023-10-07\n",
      "7   2023-10-08\n",
      "8   2023-10-09\n",
      "9   2023-10-10\n",
      "dtype: datetime64[ns]\n",
      "0   2022-09-05\n",
      "1   2022-09-12\n",
      "2   2022-09-19\n",
      "3   2022-09-26\n",
      "4   2022-10-03\n",
      "5   2022-10-10\n",
      "6   2022-10-17\n",
      "7   2022-10-24\n",
      "8   2022-10-31\n",
      "9   2022-11-07\n",
      "dtype: datetime64[ns]\n"
     ]
    }
   ],
   "source": [
    "s_ct1 = pd.Series(pd.date_range(\"2023-10\", freq = \"D\", periods = 10))\n",
    "print(s_ct1)\n",
    "s_ct2 = pd.Series(pd.date_range(\"2022-09\", freq = \"W-Mon\", periods = 10))\n",
    "print(s_ct2)"
   ]
  },
  {
   "cell_type": "markdown",
   "metadata": {},
   "source": [
    "V prvem primeru smo ustvarili zaporedje desetih zaporednih dni na začetku oktobra 2023. V drugem primeru pa zaporedje desetih ponedeljkov od začetka septembra 2022.\n",
    "\n",
    "Časovno zaporedje lahko uporabimo tudi kot indeks za neko drugo zaporedje opazovanih vrednosti, pravzaprav časovno vrsto opazovanih vrednosti:"
   ]
  },
  {
   "cell_type": "code",
   "execution_count": 26,
   "metadata": {},
   "outputs": [
    {
     "name": "stdout",
     "output_type": "stream",
     "text": [
      "2022-09-05    0.0\n",
      "2022-09-12    0.1\n",
      "2022-09-19    0.2\n",
      "2022-09-26    0.3\n",
      "2022-10-03    0.4\n",
      "2022-10-10    0.5\n",
      "2022-10-17    0.6\n",
      "2022-10-24    0.7\n",
      "2022-10-31    0.8\n",
      "2022-11-07    0.9\n",
      "dtype: float64\n"
     ]
    }
   ],
   "source": [
    "cv = pd.Series([i / 10 for i in range(10)], index = s_ct2)\n",
    "print(cv)"
   ]
  },
  {
   "cell_type": "markdown",
   "metadata": {},
   "source": [
    "Indeksiranje v takih primerih zelo prilagodljivo upošteva podan datum, tudi kot časovno obdobje. Tako na primer, zelo enostavno zajamemo del časovne vrste izmerjen v oktobru 2022:"
   ]
  },
  {
   "cell_type": "code",
   "execution_count": 27,
   "metadata": {},
   "outputs": [
    {
     "name": "stdout",
     "output_type": "stream",
     "text": [
      "2022-10-03    0.4\n",
      "2022-10-10    0.5\n",
      "2022-10-17    0.6\n",
      "2022-10-24    0.7\n",
      "2022-10-31    0.8\n",
      "dtype: float64\n"
     ]
    }
   ],
   "source": [
    "cv_oktobra_22 = cv[\"2022-10\"]\n",
    "print(cv_oktobra_22)"
   ]
  },
  {
   "cell_type": "markdown",
   "metadata": {},
   "source": [
    "Časovna zaporedja imajo lastnost `dt`, ki ima veliko različnih metod za računanje različnih datumskih funkcij:"
   ]
  },
  {
   "cell_type": "code",
   "execution_count": 28,
   "metadata": {},
   "outputs": [
    {
     "name": "stdout",
     "output_type": "stream",
     "text": [
      "0    6\n",
      "1    0\n",
      "2    1\n",
      "3    2\n",
      "4    3\n",
      "5    4\n",
      "6    5\n",
      "7    6\n",
      "8    0\n",
      "9    1\n",
      "dtype: int32\n",
      "0       Sunday\n",
      "1       Monday\n",
      "2      Tuesday\n",
      "3    Wednesday\n",
      "4     Thursday\n",
      "5       Friday\n",
      "6     Saturday\n",
      "7       Sunday\n",
      "8       Monday\n",
      "9      Tuesday\n",
      "dtype: object\n"
     ]
    }
   ],
   "source": [
    "print(s_ct1.dt.day_of_week)\n",
    "print(s_ct1.dt.day_name())"
   ]
  },
  {
   "cell_type": "markdown",
   "metadata": {},
   "source": [
    "Lahko torej za podan datum dobimo dan v tednu z indeksom ali imenom v angleščini. Indeks je na mojem računalniku izračunan tako, da vrednost `0` ustreza ponedeljku, `6` pa nedelji.\n",
    "\n",
    "Preveri indekse dneva v tednu na svojem računalniki. Za vajo napiši funkcijo, ki za podano datumsko zaporedje vrne zaporedje imen dni v tednu v slovenščini. Pri tem lahko seveda uporabiš zgornjo funkcijo, ki vrne indeks dneva v tednu.\n",
    "\n",
    "S pomočjo lastnosti časovne točke `dt` lahko izračunamo še veliko drugih časovnih in datumskih funkcij, na primer:"
   ]
  },
  {
   "cell_type": "code",
   "execution_count": 29,
   "metadata": {},
   "outputs": [
    {
     "name": "stdout",
     "output_type": "stream",
     "text": [
      "0    36\n",
      "1    37\n",
      "2    38\n",
      "3    39\n",
      "4    40\n",
      "5    41\n",
      "6    42\n",
      "7    43\n",
      "8    44\n",
      "9    45\n",
      "Name: week, dtype: UInt32\n",
      "0    248\n",
      "1    255\n",
      "2    262\n",
      "3    269\n",
      "4    276\n",
      "5    283\n",
      "6    290\n",
      "7    297\n",
      "8    304\n",
      "9    311\n",
      "dtype: int32\n"
     ]
    }
   ],
   "source": [
    "print(s_ct2.dt.isocalendar().week)\n",
    "print(s_ct2.dt.day_of_year)"
   ]
  },
  {
   "cell_type": "markdown",
   "metadata": {},
   "source": [
    "### Časovne razlike\n",
    "\n",
    "Časovna razlika nastane npr. z odštevanjem časovnih točk:"
   ]
  },
  {
   "cell_type": "code",
   "execution_count": 30,
   "metadata": {},
   "outputs": [
    {
     "data": {
      "text/plain": [
       "0   391 days\n",
       "1   385 days\n",
       "2   379 days\n",
       "3   373 days\n",
       "4   367 days\n",
       "5   361 days\n",
       "6   355 days\n",
       "7   349 days\n",
       "8   343 days\n",
       "9   337 days\n",
       "dtype: timedelta64[ns]"
      ]
     },
     "execution_count": 30,
     "metadata": {},
     "output_type": "execute_result"
    }
   ],
   "source": [
    "s_ct1 - s_ct2"
   ]
  },
  {
   "cell_type": "markdown",
   "metadata": {},
   "source": [
    "Lahko jo tudi ustvarimo s funkcijami `pd.Timedelta`:"
   ]
  },
  {
   "cell_type": "code",
   "execution_count": 31,
   "metadata": {},
   "outputs": [
    {
     "name": "stdout",
     "output_type": "stream",
     "text": [
      "0    1 days\n",
      "1    2 days\n",
      "2    3 days\n",
      "3    4 days\n",
      "4    5 days\n",
      "5    6 days\n",
      "6    7 days\n",
      "7    8 days\n",
      "8    9 days\n",
      "9   10 days\n",
      "dtype: timedelta64[ns]\n"
     ]
    }
   ],
   "source": [
    "s_cr1 = pd.Series([pd.Timedelta(i, unit = \"d\") for i in range(1, 11)])\n",
    "print(s_cr1)"
   ]
  },
  {
   "cell_type": "markdown",
   "metadata": {},
   "source": [
    "ali pa `pd.to_timedelta`:"
   ]
  },
  {
   "cell_type": "code",
   "execution_count": 32,
   "metadata": {},
   "outputs": [
    {
     "name": "stdout",
     "output_type": "stream",
     "text": [
      "0 days 00:00:01    0\n",
      "0 days 00:00:02    1\n",
      "0 days 00:00:03    2\n",
      "0 days 00:00:04    3\n",
      "0 days 00:00:05    4\n",
      "0 days 00:00:06    5\n",
      "0 days 00:00:07    6\n",
      "0 days 00:00:08    7\n",
      "0 days 00:00:09    8\n",
      "0 days 00:00:10    9\n",
      "dtype: int64\n"
     ]
    }
   ],
   "source": [
    "s_cv = pd.Series(range(10), index = pd.to_timedelta(range(1, 11), unit=\"s\"))\n",
    "print(s_cv)"
   ]
  },
  {
   "cell_type": "markdown",
   "metadata": {},
   "source": [
    "Časovne razlike torej, tako kot časovne točke, lahko uporabljamo kot indekse zaporedja.\n",
    "\n",
    "### Časovna obdobja\n",
    "\n",
    "Morebiti manj uporaben podatkovni tip kot prejšnja dva je še časovno obdobje. Poglejmo uporabo funkcije `period_range` za ustvarjanje časovnih obdobij:"
   ]
  },
  {
   "cell_type": "code",
   "execution_count": 33,
   "metadata": {},
   "outputs": [
    {
     "name": "stdout",
     "output_type": "stream",
     "text": [
      "0    2023-10-01\n",
      "1    2023-10-02\n",
      "2    2023-10-03\n",
      "3    2023-10-04\n",
      "4    2023-10-05\n",
      "5    2023-10-06\n",
      "6    2023-10-07\n",
      "7    2023-10-08\n",
      "8    2023-10-09\n",
      "9    2023-10-10\n",
      "dtype: period[D]\n",
      "0    2022-08-30/2022-09-05\n",
      "1    2022-09-06/2022-09-12\n",
      "2    2022-09-13/2022-09-19\n",
      "3    2022-09-20/2022-09-26\n",
      "4    2022-09-27/2022-10-03\n",
      "5    2022-10-04/2022-10-10\n",
      "6    2022-10-11/2022-10-17\n",
      "7    2022-10-18/2022-10-24\n",
      "8    2022-10-25/2022-10-31\n",
      "9    2022-11-01/2022-11-07\n",
      "dtype: period[W-MON]\n"
     ]
    }
   ],
   "source": [
    "s_co1 = pd.Series(pd.period_range(\"2023-10\", freq = \"D\", periods = 10))\n",
    "print(s_co1)\n",
    "s_co2 = pd.Series(pd.period_range(\"2022-09\", freq = \"W-Mon\", periods = 10))\n",
    "print(s_co2)"
   ]
  },
  {
   "cell_type": "markdown",
   "metadata": {},
   "source": [
    "Primerjaj rezultat s primeri časovnih točk zgoraj. Delo s časovnimi obdobji je podobno delu s časovnimi točkami.\n",
    "\n",
    "## Naloge za vajo\n",
    "\n",
    "1. Denimo, da smo Alešu, Barbari, Cirilu in Darji izmerili višine v centimetrih (180, 165, 160, 193) in teže v kilogramih (87, 58, 65, 100). Naredi dve zaporedji `v` in `t` z izmerjenimi podatki. Indeks telesne mase (ITM) izračunamo po formuli\n",
    "\n",
    "    $$ \\text{ITM} = \\frac{\\text{teža v kilogramih}}{(\\text{višina v metrih})^2}. $$\n",
    "\n",
    "    Izračunaj zaporedje vrednosti ITM s poimenovanimi indeski za štiri osebe, kjer so indeksi elementov dejanska imena oseb (Aleš, Barbara, Ciril in Darja). Nato izračunaj zaporedje naravnih logaritmov vrednosti ITM. Na koncu izpiši zaporedje imen oseb, ki imajo ITM večji od 25, ter izračunaj njihov povprečni ITM.\n",
    "\n",
    "1. Sestavi zaporedja z naslednjimi elementi:\n",
    "\n",
    "    * $3^1/1, 3^2/2, \\ldots, 3^{50}/50$;\n",
    "    * \"A1\", \"A2\", $\\ldots$, \"A50\";\n",
    "    * $e^x \\sin x$ izračunanimi v točkah $x = 3, 3.1, 3.2, \\ldots, 6$.<br><br>\n",
    "\n",
    "1. Z uporabo zaporedij definiraj funkcijo, ki kot argument sprejme naravno število `x > 2`, vrne rezultat `True`, če je `x` praštevilo, in `False` sicer. Namig: zaporedje gradi postopoma. Najprej izračunaj zaporedje ostankov deljenja `x` z vsemi števili od `2` do `x - 1`. Nato preveri, če je `0` element tega zaporedja.\n",
    "\n",
    "1. Izračunaj dve zaporedji `x` in `y` dolžine 250 tako, da s ponavljanjem naključno izbiraš naravna števila iz intervala $[0, 999]$. Označimo z $x_1, x_2, \\ldots, x_{250}$ in $y_1, y_2, \\ldots, y_{250}$ elemente zaporedij `x` in `y`. Izračunaj:\n",
    "\n",
    "    * Zaporedje z elementi $y_2 - x_1, y_3 - x_2, \\ldots, y_{250} - x_{249}$.\n",
    "    * Vsoto $\\sum_{i=1}^{249} e^{- x_{i+1}} / (x_i + 10)$.<br><br>\n"
   ]
  }
 ],
 "metadata": {
  "kernelspec": {
   "display_name": "Python 3",
   "language": "python",
   "name": "python3"
  },
  "language_info": {
   "codemirror_mode": {
    "name": "ipython",
    "version": 3
   },
   "file_extension": ".py",
   "mimetype": "text/x-python",
   "name": "python",
   "nbconvert_exporter": "python",
   "pygments_lexer": "ipython3",
   "version": "3.11.5"
  },
  "widgets": {
   "application/vnd.jupyter.widget-state+json": {
    "state": {},
    "version_major": 2,
    "version_minor": 0
   }
  }
 },
 "nbformat": 4,
 "nbformat_minor": 4
}
