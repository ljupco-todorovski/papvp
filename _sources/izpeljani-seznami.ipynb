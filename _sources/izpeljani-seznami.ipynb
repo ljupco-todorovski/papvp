{
 "cells": [
  {
   "cell_type": "markdown",
   "metadata": {},
   "source": [
    "# Izpeljani seznami (angl. _list comprehensions_)\n",
    "\n",
    "Izpeljani seznami v programskem jeziku Python omogočajo _učinkovito_ ustvarjanje novih seznamov. Splošna oblika izpeljanega seznama je `[izraz for e in iterator if pogoj]`:\n",
    "\n",
    "  * `iterator` je _vir_ za ustvarjanje elementov izpeljanega seznama: lahko je seznam ali poljuben iterator,\n",
    "  * `e` je spremenljivka, ki predstavlja vrednost trenutnega elementa v viru `iterator`,\n",
    "  * `izraz` je Pythonovski izraz, ki na osnovi vrednosti `e` izračuna vrednost elementa izpeljanega seznama,\n",
    "  * `pogoj` je logični Pythonovski izraz, ki odloča o tem ali bo element vira `e` uporabljen za izračun elementa v izpeljanem seznamu.\n",
    "\n",
    "Zadnji del splošne oblike izpeljanega seznama `if pogoj` ni obvezen. Poenostavljena oblika izpeljanega seznama je tako `[izraz for e in iterator]`.\n",
    "\n",
    "Pri podatkovni analizi bomo pogosto obravnavali podatke spravljene v tabelah in opravljali izračune na obstoječih stolpcih tabele ter izračunavali nove stolpce. Zato bodo izpeljani seznami pogosto prišli prav, četudi v knjižnici `pandas` imamo na voljo funkcije, ki nam omogočajo dosego rezultatov brez uporabe izpeljanih seznamov. Kljub temu razumevanje koncepta izpeljanega seznama, ki se tesno navezuje na koncept funkcij višjega reda, je zelo pomemben za podatkovno analizo. Tako začnemo z ogrevanjem za \"ta pravo\" podatkovno analizo s Pythonom.\n",
    "\n",
    "## Enostaven primer in alternativi\n",
    "\n",
    "Oglejmo si primer enostavnega izpeljanega seznama, ki vsebuje kvadrate prvih deset naravnih števil:"
   ]
  },
  {
   "cell_type": "code",
   "execution_count": 1,
   "metadata": {},
   "outputs": [
    {
     "name": "stdout",
     "output_type": "stream",
     "text": [
      "[0, 1, 4, 9, 16, 25, 36, 49, 64, 81]\n"
     ]
    }
   ],
   "source": [
    "kvadrati = [e ** 2 for e in range(10)]\n",
    "print(kvadrati)"
   ]
  },
  {
   "cell_type": "markdown",
   "metadata": {},
   "source": [
    "Obstajata dva alternativna načina, da ustvarimo seznam `kvadrati` iz zgornjega primera. Prvi uporabi zanko:"
   ]
  },
  {
   "cell_type": "code",
   "execution_count": 2,
   "metadata": {},
   "outputs": [
    {
     "name": "stdout",
     "output_type": "stream",
     "text": [
      "[0, 1, 4, 9, 16, 25, 36, 49, 64, 81]\n"
     ]
    }
   ],
   "source": [
    "kvadrati_a = []\n",
    "for e in range(10):\n",
    "    kvadrati_a.append(e ** 2)\n",
    "print(kvadrati_a)"
   ]
  },
  {
   "cell_type": "markdown",
   "metadata": {},
   "source": [
    "Drugi način uporablja klic funkcije `map(f, iterator)`, ki kliče funkcijo `f` za vsak element iteratorja `iterator`:"
   ]
  },
  {
   "cell_type": "code",
   "execution_count": 3,
   "metadata": {},
   "outputs": [
    {
     "name": "stdout",
     "output_type": "stream",
     "text": [
      "<map object at 0x105d85c30>\n"
     ]
    }
   ],
   "source": [
    "kvadrati_b = map(lambda e: e ** 2, range(10))\n",
    "print(kvadrati_b)"
   ]
  },
  {
   "cell_type": "markdown",
   "metadata": {},
   "source": [
    "Hm, je nekaj narobe? Pravzaprav ni, rezultat funkcije `map` je iterabilni objekt, ki ga lahko s klicem funkcije `list` pretvorimo v seznam takole:"
   ]
  },
  {
   "cell_type": "code",
   "execution_count": 4,
   "metadata": {},
   "outputs": [
    {
     "name": "stdout",
     "output_type": "stream",
     "text": [
      "[0, 1, 4, 9, 16, 25, 36, 49, 64, 81]\n"
     ]
    }
   ],
   "source": [
    "kvadrati_b = list(map(lambda e: e ** 2, range(10)))\n",
    "print(kvadrati_b)"
   ]
  },
  {
   "cell_type": "markdown",
   "metadata": {},
   "source": [
    "Primerjava alternativnih načinov tvorjenja seznama kvadratov naravnih števil pokaže prvo pomembno prednost izpeljanih seznamov pred alternativnimi načini za ustvarjanje tega seznama. Z uporabo izpeljanega seznama napišemo programsko kodo, ki je krajša in bolj razumljiva."
   ]
  },
  {
   "cell_type": "markdown",
   "metadata": {},
   "source": [
    "## Primer s pogojem"
   ]
  },
  {
   "cell_type": "markdown",
   "metadata": {},
   "source": [
    "Ustvarimo zdaj seznam kvadratov za liha naravna števila, ki so manjša od 10:"
   ]
  },
  {
   "cell_type": "code",
   "execution_count": 5,
   "metadata": {},
   "outputs": [
    {
     "name": "stdout",
     "output_type": "stream",
     "text": [
      "[1, 9, 25, 49, 81]\n"
     ]
    }
   ],
   "source": [
    "kvadrati_lihi = [e ** 2 for e in range(10) if e % 2 == 1]\n",
    "print(kvadrati_lihi)"
   ]
  },
  {
   "cell_type": "markdown",
   "metadata": {},
   "source": [
    "Za vajo sestavi program, ki ustvari seznam `kvadrati_lihi_a` z zanko. Tukaj bomo sestavili program, ki to naredi s kombinacijo funkcij `map` in `filter`. Slednja namreč izbere elemente seznama, ki zadostujejo podanemu pogoju takole:"
   ]
  },
  {
   "cell_type": "code",
   "execution_count": 6,
   "metadata": {},
   "outputs": [
    {
     "data": {
      "text/plain": [
       "[1, 3, 5, 7, 9]"
      ]
     },
     "execution_count": 6,
     "metadata": {},
     "output_type": "execute_result"
    }
   ],
   "source": [
    "list(filter(lambda e: e % 2 == 1, range(10)))"
   ]
  },
  {
   "cell_type": "markdown",
   "metadata": {},
   "source": [
    "Zdaj okrog tega klica funkcije `filter` ovijemo še klic funkcije `map`:"
   ]
  },
  {
   "cell_type": "code",
   "execution_count": 7,
   "metadata": {},
   "outputs": [
    {
     "name": "stdout",
     "output_type": "stream",
     "text": [
      "[1, 9, 25, 49, 81]\n"
     ]
    }
   ],
   "source": [
    "kvadrati_lihi_b = list(map(lambda e: e ** 2, filter(lambda e: e % 2 == 1, range(10))))\n",
    "print(kvadrati_lihi_b)"
   ]
  },
  {
   "cell_type": "markdown",
   "metadata": {},
   "source": [
    "## Gnezdenje izpeljanih seznamov\n",
    "\n",
    "Izpeljane sezname lahko poljubno gnezdimo na ta način tako, da je vrednost izraza `izraz` izpeljan seznam s svojim izrazom, pogojem in iteratorjem. Z ugnezdenimi izpeljanimi seznami lahko tvorimo izpeljane matrike. Primer ustvarjanja identične matrike dimenzije 3:"
   ]
  },
  {
   "cell_type": "code",
   "execution_count": 8,
   "metadata": {},
   "outputs": [
    {
     "name": "stdout",
     "output_type": "stream",
     "text": [
      "[[1, 0, 0], [0, 1, 0], [0, 0, 1]]\n"
     ]
    }
   ],
   "source": [
    "im_3 = [[1 if (i == j) else 0 for j in range(3)] for i in range(3)]\n",
    "print(im_3)"
   ]
  },
  {
   "cell_type": "markdown",
   "metadata": {},
   "source": [
    "Na tem mestu lahko opazujemo pomembno razliko med pogojem izpeljanega seznama in pogojem, ki smo ga v tem primeru uporabili znotraj izraza izpeljanega seznama. Slednji namreč določa _kako_ izračunamo element izpeljanega seznama iz vira. Pogoj izpeljanega seznama pa določa _katere_ elemente vira uporabimo za izračun elementov izpeljanega seznama.\n",
    "\n",
    "Zanke `for` lahko gnezdimo tudi brez gnezdenja seznamov, npr. takole: "
   ]
  },
  {
   "cell_type": "code",
   "execution_count": 9,
   "metadata": {},
   "outputs": [
    {
     "data": {
      "text/plain": [
       "[1, 0, 0, 0, 1, 0, 0, 0, 1]"
      ]
     },
     "execution_count": 9,
     "metadata": {},
     "output_type": "execute_result"
    }
   ],
   "source": [
    "[1 if (i == j) else 0 for j in range(3) for i in range(3)]"
   ]
  },
  {
   "cell_type": "markdown",
   "metadata": {},
   "source": [
    "Za vajo primerjaj rezultata zadnjih dveh primerov kode in pojasni razliko.\n",
    "\n",
    "Zdaj, ko vemo kaj vse nam omogočajo izpeljani seznami, definirajmo funkcijo `diag`, ki ustvari diagonalno matriko iz podanega seznama elementov na diagonali."
   ]
  },
  {
   "cell_type": "code",
   "execution_count": 10,
   "metadata": {},
   "outputs": [
    {
     "name": "stdout",
     "output_type": "stream",
     "text": [
      "[[-2, 0, 0, 0, 0], [0, -1, 0, 0, 0], [0, 0, 0, 0, 0], [0, 0, 0, 1, 0], [0, 0, 0, 0, 2]]\n"
     ]
    }
   ],
   "source": [
    "def diag(d):\n",
    "    n = len(d)\n",
    "    return [[d[i] if (i == j) else 0 for j in range(n)] for i in range(n)]\n",
    "\n",
    "print(diag([-2, -1, 0, 1, 2]))"
   ]
  },
  {
   "cell_type": "markdown",
   "metadata": {},
   "source": [
    "Za vajo napiši dve alternativni definiciji funkcije `diag`: ena naj uporablja zanke, druga pa funkcijo `map`. Primerjaj alternativni definiciji z zgornjo definicijo v smislu kratkosti in razumljivost kode ter učinkovitosti izvajanja. Kaj opažaš?\n",
    "\n",
    "## Kombiniranje seznamov\n",
    "\n",
    "Na prvi pogled izpeljani seznam je omejen na uporabo enega vira oziroma enega izvirnega seznama ali iteratorja. To je le navidezno, ker bi lahko z enim virom indeksirali in kombinirali več seznamov. Primer tukaj je funkcija `plus`, ki sešteva elemente dveh seznamov, pod predpostavko, da sta podana seznama enako dolga."
   ]
  },
  {
   "cell_type": "code",
   "execution_count": 11,
   "metadata": {},
   "outputs": [
    {
     "data": {
      "text/plain": [
       "[0, 0, 0]"
      ]
     },
     "execution_count": 11,
     "metadata": {},
     "output_type": "execute_result"
    }
   ],
   "source": [
    "def plus(x, y):\n",
    "    assert len(x) == len(y), f\"Napaka: Seznama {x} in {y} sta različnih dolžin.\"\n",
    "    return [x[i] + y[i] for i in range(len(x))]\n",
    "\n",
    "plus([-1, 0, 1], [1, 0, -1])"
   ]
  },
  {
   "cell_type": "markdown",
   "metadata": {},
   "source": [
    "Za vajo posploši funkcijo `plus`, tako, da lahko sprejme in sešteje elemente poljubnega števila seznamov in ne zgolj dveh. Namig: spomni se na kakšen način definiramo funkcijo v Pythonu, ki sprejme poljubno število argumentov, ki ni znano vnaprej.\n",
    "\n",
    "## Prednosti in slabosti izpeljanih seznamov\n",
    "\n",
    "Prednosti:\n",
    "  * Lahko poenostavijo programsko kodo in ji izboljšajo berljivost\n",
    "  * So običajno bolj učinkoviti od alternativnih načinov tvorjenja seznamov\n",
    "\n",
    "Slabosti:\n",
    "  * Če je pogojev veliko ali izračun novih elementov zapleten, lahko postane programska koda izpeljanega seznama preveč zapletena in težko berljiva\n",
    "  * Pri izračunu naslednjega elementa izpeljanega seznama ne moremo upoštevati vrednosti prejšnjih elementov"
   ]
  },
  {
   "cell_type": "markdown",
   "metadata": {},
   "source": [
    "# Funkcije višjega reda\n",
    "\n",
    "V Pythonu so funkcije enakopravne ostalim podatkovnim tipom, kar nam omogoča, da eno funkcijo podamo kot argument druge funkcije ali pa celo to, da je funkcija rezultat neke funkcije. Funkcijam, ki kot argument sprejmejo funkcijo ali vrnejo funkcijo kot rezultat rečemo funkcije višjega reda.\n",
    "\n",
    "## Funkciji `map` in `filter`\n",
    "Primer funkcij višjega reda sta prej omenjeni funkciji `map` in `filter`: obe kot prvi argument sprejmeta funkcijo. Ti dve funkciji bi lahko implementirali z izpeljanimi seznami takole:"
   ]
  },
  {
   "cell_type": "code",
   "execution_count": 12,
   "metadata": {},
   "outputs": [],
   "source": [
    "def map_is(f, iterator):\n",
    "    return [f(e) for e in iterator]\n",
    "\n",
    "def filter_is(f, iterator):\n",
    "    return [e for e in iterator if f(e)]"
   ]
  },
  {
   "cell_type": "markdown",
   "metadata": {},
   "source": [
    "Argument `f` funkcije `filter_is` seveda mora biti funkcija, ki kot rezultat vrne Boolovo vrednost `true` ali `false`, saj njen rezultat uporabimo kot pogoj v izpeljanem seznamu.\n",
    "\n",
    "Preverimo, če funkciji delujeta po pričakovanjih."
   ]
  },
  {
   "cell_type": "code",
   "execution_count": 13,
   "metadata": {},
   "outputs": [
    {
     "name": "stdout",
     "output_type": "stream",
     "text": [
      "[0, 1, 4, 9, 16, 25, 36, 49, 64, 81]\n",
      "[1, 3, 5, 7, 9]\n",
      "[1, 9, 25, 49, 81]\n"
     ]
    }
   ],
   "source": [
    "print(map_is(lambda e: e ** 2, range(10)))\n",
    "print(filter_is(lambda e: e % 2  == 1, range(10)))\n",
    "print(map_is(lambda e: e ** 2, filter_is(lambda e: e % 2  == 1, range(10))))"
   ]
  },
  {
   "cell_type": "markdown",
   "metadata": {},
   "source": [
    "## Funkcija kot argument\n",
    "\n",
    "Funkcije višjega reda omogočajo definicijo splošnih algoritmov, ki so uporabni za različne funkcije. Primer take funkcije je numerični izračun integrala\n",
    "\n",
    "$$\\int_{a}^{b} f(x) dx$$\n",
    "\n",
    "podane funkcije $f\\colon \\mathbb{R} \\to \\mathbb{R} $ na podanem intervalu $[a, b]$. Funkcijo za izracun dolocenega integrala s pomočjo trapezne formule lahko definiramo takole:"
   ]
  },
  {
   "cell_type": "code",
   "execution_count": 14,
   "metadata": {},
   "outputs": [
    {
     "name": "stdout",
     "output_type": "stream",
     "text": [
      "1.9999820650436648\n"
     ]
    }
   ],
   "source": [
    "def dolocen_integral(f, interval, h = 0.01):\n",
    "    \n",
    "    (a, b) = interval\n",
    "    assert a < b, \"Napaka: Spodnja meja {a} ni manjša od zgornje {b}.\"\n",
    "\n",
    "    vmesne_tocke = [a + h * i for i in range(int((b - a) / h))]\n",
    "    ploscine_trapezov = [(f(x) + f(x + h)) * h / 2 for x in vmesne_tocke]\n",
    "    return sum(ploscine_trapezov)\n",
    "\n",
    "from math import sin, pi\n",
    "print(dolocen_integral(sin, (0, pi)))"
   ]
  },
  {
   "cell_type": "markdown",
   "metadata": {},
   "source": [
    "Funkcija torej najprej iz podanega nabora `interval` prebere spodnjo in zgornjo mejo intervala. Nato preveri, če je spodnja meja `a` manjša od zgornje `b`. Na osnovi zgornje in spodnje meje uporabi izpeljan seznam za izračun vmesnih točke med `a` in `b` na medsebojni razdalji `h`. Nato še enkrat uporabi izpeljan seznam za izračun ploščin vseh nastalih trapezov. Vsota teh ploščin je približek za vrednost določenega integrala na podanem intervalu.\n",
    "\n",
    "Funkcija `dolocen_integral` je torej splošno uporabna, ker namreč, kot njen prvi argument lahko podamo poljubno funkcijo $f\\colon \\mathbb{R} \\to \\mathbb{R}$.\n",
    "\n",
    "## Funkcija kot rezultat\n",
    "\n",
    "Spomnimo se kaj pomeni kompozitum $f \\circ g$ funkcij $f$ in $g$: $f \\circ g: x \\mapsto f(g(x))$. Definirajmo funkcijo $f^2$ kot kompozitum funkcije $f$ same s sabo $f \\circ f$. Podobno definirajmo funkcijo $f^n$, za poljubno naravno število $n > 2$ kot kompozitum $f$ in $f^{n-1}$, torej $f^n(x) = f(f^{n-1}(x))$. Definirajmo zdaj funkcijo v Pythonu, ki za podano funkcijo $x$ in naravno število $n > 2$ vrne funkcijo $f^n$."
   ]
  },
  {
   "cell_type": "code",
   "execution_count": 15,
   "metadata": {},
   "outputs": [
    {
     "name": "stdout",
     "output_type": "stream",
     "text": [
      "<function fn.<locals>.kompozitum at 0x105d8dd00>\n",
      "10\n"
     ]
    }
   ],
   "source": [
    "def fn(f, n):\n",
    "\n",
    "    def kompozitum(x):\n",
    "        fx = f(x)\n",
    "        for _ in range(n - 1):\n",
    "            fx = f(fx)\n",
    "        return fx\n",
    "    \n",
    "    return kompozitum\n",
    "\n",
    "\n",
    "def povecaj(x): return x + 1\n",
    "\n",
    "print(fn(povecaj, 10))\n",
    "print(fn(povecaj, 10)(0))"
   ]
  },
  {
   "cell_type": "markdown",
   "metadata": {},
   "source": [
    "V funkciji `fn` smo najprej definirali funkcijo `kompozitum`, ki za podano vrednost argumenta $x$ izračuna in vrne vrednost kompozituma $f^n(x)$, nato smo funkcijo `kompozitum` vrnili kot rezultat `fn`. V definiciji ugnezdene funkcije `kompozitum` smo lahko uporabili vrednost argumenta `n` nadrejene funkcije `fn`.\n",
    "\n",
    "Rezultat funkcije `fn` je tako funkcija, ki za podano vrednost $x$ izračuna vrednost $f^n(x)$, kar je točno to kar smo si želeli. Če izpišemo vrednost izraza `fn(povecaj, 10)`, dobimo funkcijo, vrednost izraza `fn(povecaj, 10)(0)` pa sproži klic in izračun dobljene funkcije za podano vrednost argumenta (v tem primeru je podana vrednost 0)."
   ]
  }
 ],
 "metadata": {
  "kernelspec": {
   "display_name": "Python 3",
   "language": "python",
   "name": "python3"
  },
  "language_info": {
   "codemirror_mode": {
    "name": "ipython",
    "version": 3
   },
   "file_extension": ".py",
   "mimetype": "text/x-python",
   "name": "python",
   "nbconvert_exporter": "python",
   "pygments_lexer": "ipython3",
   "version": "3.11.5"
  },
  "widgets": {
   "application/vnd.jupyter.widget-state+json": {
    "state": {},
    "version_major": 2,
    "version_minor": 0
   }
  }
 },
 "nbformat": 4,
 "nbformat_minor": 4
}
