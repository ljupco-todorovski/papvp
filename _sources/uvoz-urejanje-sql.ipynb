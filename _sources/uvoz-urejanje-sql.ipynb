{
 "cells": [
  {
   "cell_type": "markdown",
   "metadata": {},
   "source": [
    "# Od podatkov do podatkovnih tabel\n",
    "\n",
    "Podatki za analizo lahko zbiramo na različne načine. Lahko jih pripravimo iz lastnih meritev in jih sami vnašamo v `pandas` v obliki zaporedij in podatkovnih tabel. Lahko jih pridobimo v obliki preglednic Excel iz nekega standardnega vira statističnih podatkov, kot je [podatkovna baza SiStat](https://pxweb.stat.si/) Statističnega urada Republike Slovenije, [podatkovna baza Eurostat](https://ec.europa.eu/eurostat/data/database) evropskega statističnega urada ali pa [podatkovna baza undata](https://data.un.org/) Organizacije združenih narodov. Spletna enciklopedija [Wikipedia](https://www.wikipedia.org/) je tudi bogat vir podatkovnih tabel, kot je na primer [tabela s podatki o bruto domačem proizvodu držav](https://en.wikipedia.org/wiki/List_of_countries_by_GDP_(nominal)).\n",
    "\n",
    "Kot bomo spoznali v nadaljevanju, `pandas` ponuja priročne funkcije za branje podatkov iz datotek s preglednicami Excel ali iz podatkovnih tabel v spletni enciklopediji Wikipedia. Pridobivanje takih podatkov in njihovo branje oziroma transformacija v `pandas` podatkovne tabele je zato relativno enostavno. Ker se običajno zaplete je, da imajo podatki pridobljeni iz različnih podatkovnih virov različno _strukturo_.\n",
    "\n",
    "## Uvoz neurejenih podatkov\n",
    "\n",
    "Profesorica, ki na FMF izvaja dve-semestrski predmet, si je v datoteki [`rezultati-kolokvijev.xlsx`](https://kt.ijs.si/~ljupco/lectures/papvp-2324/rezultati-kolokvijev.xlsx) zapisovala rezultate kolokvijev v prvem in drugem semestru. Naš cilj je napisati program v `pandas`, ki prebere podatke iz vseh listov preglednice in jih uredi v podatkovne tabele za analizo.\n",
    "\n",
    "Uvoz podatkov iz preglednic v programu Excel nam omogoča funkcija [`read_excel`](https://pandas.pydata.org/docs/reference/api/pandas.read_excel.html). Običajno uporabimo prva dva argumenta funkcije, in sicer:\n",
    "\n",
    "  * `io` določa enotni naslov (URL) podatkovnega vira, t.j., spletni naslov ali pa pot na disku do preglednice Excel, ki jo želimo uvoziti. Argument nima privzete vrednosti.\n",
    "\n",
    "  * `sheet_name` določa pozicijski indeks (celoštevilska vrednost) ali ime lista (niz znakov) iz preglednice, ki ga hočemo uvoziti. Lahko določimo tudi seznam, ki podaja kombinacijo imen in pozicijskih indeksov želenih listov. Z vrednostjo argumenta `None` zahtevamo uvoz vseh listov v slovar podatkovnih tabel. Privzeta vrednost argumenta je `0`, kar pomeni, da uvozimo prvi list preglednice.\n",
    "\n",
    "V našem primeru rabimo vse liste, zato bomo preglednico uvozili takole:"
   ]
  },
  {
   "cell_type": "code",
   "execution_count": 4,
   "metadata": {},
   "outputs": [
    {
     "name": "stdout",
     "output_type": "stream",
     "text": [
      "{'prvi kolokvij':       ime  telefon spol in starost  prvi semester  drugi semester\n",
      "0     Ana      431            ž-19             80              97\n",
      "1  Branko      720            m-20             78              74\n",
      "2   David      141            m-19             75              68\n",
      "3     Eva      210            ž-20             63              82\n",
      "4   Franc      592            m-21             95              82, 'drugi kolokvij':       ime  telefon spol in starost  prvi semester  drugi semester\n",
      "0     Ana      431            ž-19             82              95\n",
      "1  Cvetka      761            ž-21             63              87\n",
      "2   David      141            m-19             92              81\n",
      "3     Eva      210            ž-20             82              63\n",
      "4   Franc      592            m-21             99              54}\n"
     ]
    }
   ],
   "source": [
    "import pandas as pd\n",
    "\n",
    "vse_pt = pd.read_excel(\n",
    "    \"https://kt.ijs.si/~ljupco/lectures/papvp-2324/rezultati-kolokvijev.xlsx\",\n",
    "    sheet_name = None\n",
    ")\n",
    "print(vse_pt)"
   ]
  },
  {
   "cell_type": "markdown",
   "metadata": {},
   "source": [
    "Rezultat je torej slovar dveh elementov, kjer sta ključa imena listov (`prvi kolokvij` in `drugi kolokvij`), vsaka vrednost je podatkovna tabela s podatki iz ustreznega lista v preglednici.\n",
    "\n",
    "Če bi podatke hoteli uvoziti iz datoteke tipa CSV (angl. _comma separated values_, z vejico ločene vrednosti), bi lahko uporabili funkcijo [`read_csv`](https://pandas.pydata.org/docs/reference/api/pandas.read_csv.html), ki je še bolj enostavna za uporabo kot zgoraj opisana funkcija za uvoz podatkov iz preglednice Excel.\n",
    "\n",
    "Če bi obe vrednosti v zgornjem slovarju takoj združili v skupno tabelo, bi zgubili informacijo o zaporedni številki kolokvija, na katerega se nanašajo podatki. Funkcija, ki nam omogoča združevanje tabel po vrsticah je `concat`:"
   ]
  },
  {
   "cell_type": "code",
   "execution_count": 5,
   "metadata": {},
   "outputs": [
    {
     "name": "stdout",
     "output_type": "stream",
     "text": [
      "      ime  telefon spol in starost  prvi semester  drugi semester\n",
      "0     Ana      431            ž-19             80              97\n",
      "1  Branko      720            m-20             78              74\n",
      "2   David      141            m-19             75              68\n",
      "3     Eva      210            ž-20             63              82\n",
      "4   Franc      592            m-21             95              82\n",
      "0     Ana      431            ž-19             82              95\n",
      "1  Cvetka      761            ž-21             63              87\n",
      "2   David      141            m-19             92              81\n",
      "3     Eva      210            ž-20             82              63\n",
      "4   Franc      592            m-21             99              54\n"
     ]
    }
   ],
   "source": [
    "pt = pd.concat(vse_pt.values())\n",
    "print(pt)"
   ]
  },
  {
   "cell_type": "markdown",
   "metadata": {},
   "source": [
    "Zato se bomo združevanja lotili drugače, najprej bomo vsaki podatkovni tabeli v slovarju dodali nov stolpec `kolokvij`, ki si zapomni zaporedno številko kolokvija (pravzaprav ime lista v preglednici), nato pa uporabili `concat` za združevanje:"
   ]
  },
  {
   "cell_type": "code",
   "execution_count": 8,
   "metadata": {},
   "outputs": [
    {
     "name": "stdout",
     "output_type": "stream",
     "text": [
      "      ime  telefon spol in starost  prvi semester  drugi semester  \\\n",
      "0     Ana      431            ž-19             80              97   \n",
      "1  Branko      720            m-20             78              74   \n",
      "2   David      141            m-19             75              68   \n",
      "3     Eva      210            ž-20             63              82   \n",
      "4   Franc      592            m-21             95              82   \n",
      "0     Ana      431            ž-19             82              95   \n",
      "1  Cvetka      761            ž-21             63              87   \n",
      "2   David      141            m-19             92              81   \n",
      "3     Eva      210            ž-20             82              63   \n",
      "4   Franc      592            m-21             99              54   \n",
      "\n",
      "         kolokvij  \n",
      "0   prvi kolokvij  \n",
      "1   prvi kolokvij  \n",
      "2   prvi kolokvij  \n",
      "3   prvi kolokvij  \n",
      "4   prvi kolokvij  \n",
      "0  drugi kolokvij  \n",
      "1  drugi kolokvij  \n",
      "2  drugi kolokvij  \n",
      "3  drugi kolokvij  \n",
      "4  drugi kolokvij  \n"
     ]
    }
   ],
   "source": [
    "for list in vse_pt:\n",
    "    vse_pt[list][\"kolokvij\"] = list\n",
    "pt = pd.concat(vse_pt.values())\n",
    "print(pt)"
   ]
  },
  {
   "cell_type": "markdown",
   "metadata": {},
   "source": [
    "Na tem mestu se zdi, da smo podatke že uvozili in da lahko začnemo z njihovo analizo. A temu ni tako, saj moramo podatke urediti. Namreč, zgornja tabela ima nekaj zelo očitnih pomanjkljivosti:\n",
    "\n",
    "  * Vrednosti opazovanj za `spol` in `starost` so združene skupaj v vrednosti enega stolpca `spol in starost`.\n",
    "\n",
    "  * Osnovni podatki o študentih se po nepotrebnem ponovijo dvakrat.\n",
    "\n",
    "  * Podatek o zaporedni številki kolokvija je podan kot vrednost stolpca, podatek o zaporedni številki semestra pa kot ime stolpca.\n",
    "\n",
    "Preden nadaljujemo z odpravljanjem teh težav, spoznajmo najprej pojem _urejenih podatkov_.\n",
    "\n",
    "## Urejeni podatki (angl. _tidy data_)\n",
    "\n",
    "Dogovor o urejenih podatkih določa **tri enostavna pravila za podatkovne tabele**.\n",
    "\n",
    "  1. Vsak tip opazovane enote tvori svojo podatkovno tabelo.\n",
    "\n",
    "  1. Vsaka opazovana enota tvori vrstico.\n",
    "\n",
    "  1. Vsaka lastnost opazovanih enot je spremenljivka, ki tvori stolpec.\n",
    "\n",
    "Pri načrtovanju naših podatkovnih tabel začnemo s premislekom o prvem pravilu. Ključno vprašanje pri tem premisleku je **Kateri tipi opazovanih enot se pojavljajo v naših podatkih?** V našem primeru opažamo, da en del podatkov (ki se tudi po nepotrebnem podvaja) podaja osnovne podatke o študentih. Drugi del podatkov pa podaja rezultate, ki so jih dosegli na kolokvijih. Zato bi podatke ločili v dva tipa opazovanih enot oziroma v dve podatkovni tabeli:\n",
    "\n",
    "  * `studenti` z osnovnimi podatki o študentih, ki niso vezani na njihove dosežke na kolokvijih; in\n",
    "  \n",
    "  * `studenti_ocene` s podatki o dosežkih študentov na kolokvijih.\n",
    "  \n",
    "Drugo in tretje pravilo nama pomagata pri premisleku o vsebini posameznih tabel. Vsaka vrstica prve tabele `studenti` bo očitno vsebovala osnovne podatke o študentih. Vsaka vrstica v tej tabeli bo ustrezala enemu študentu, imela bo torej šest vrstic. Naši podatki iz preglednice vsebujejo štiri osnovne podatke o vsakem študentu: ime, telefon, spol in starost. Slednji seznam torej določa naše opazovane spremenljivke, zato bo tabela imela štiri ustrezno poimenovane stolpce. Torej prvi dve vrstici tabele `studenti` bosta:\n",
    "\n",
    "| ime | telefon | spol | starost |\n",
    "|:--|--:|:--:|--:|\n",
    "| Ana | 431 | ž | 19 |   \n",
    "| Branko | 720 | m | 20 |\n",
    "\n",
    "Spremenljivke v zgornji tabeli lahko razdelimo v dve skupini. V prvi skupini je spremenljivka `ime`, ki je **fiksna spremenljivka**, katere vrednost določa predmet opazovanja, v našem primeru tip objekta študent. Imenujemo jo tudi **dimenzijska spremenljivka**. Druge spremenljivke sodijo v skupino **merjenih spremenljivk**: njihove vrednost določimo z opazovanjem ali merjenjem izbranega predmeta opazovanja, v našem primeru z opazovanjem (ugotavljanjem) različnih podatkov o študentih. Imenujemo jih tudi **vrednostne spremenljivke**.\n",
    "\n",
    "Pri strukturi druge tabele `studenti_ocene` je potreben malo daljši premislek, ker je možnosti več. Ena, enostavna možnost je, da bi vsaka vrstica v tabeli bila en študent. Za vsakega študenta bi opazovali štiri spremenljivke, ki ustrezajo posameznim kolokvijem, dvema kolokvijema v prvem in dvema v drugem semestru. Taki predstavitvi podatkov se izogibamo in raje sledimo standardom (ali bolj dogovorom) za urejanje podatkov za analizo.\n",
    "\n",
    "En tak standard imenujemo *urejeni podatki* (angl. _tidy data_): ni ravno standard, temveč dogovor o standardni obliki zapisovanja podatkov v podatkovne tabele, ki omogoča njihovo enostavno analizo s pomočjo standardnih funkcij za podatkovno analizo. Razvit je bil sicer za funkcije iz R-jevskih paketov knjižnice [`tidyverse`](https://www.tidyverse.org/). Lahko ga uporabljamo tudi za podatkovno analizo s funkcijami Pythonovske knjižnice `pandas`, ki posnemajo funkcionalnost paketov iz `tidyverse` v R-ju. Več o standardu _urejeni podatki_ lahko preberete v članku Wigham, H. (2014) Tidy Data. _Jorunal of Statistical Software 59(10)_: 1-23. DOI: [10.18637/jss.v059.i10](https://doi.org/10.18637/jss.v059.i10). Koristno branje je tudi članek [Data set](https://en.wikipedia.org/wiki/Data_set) v spletni enciklopediji Wikipedia.\n",
    "\n",
    "Predlog zgoraj, da bi imeli za vsakega študenta štiri stolpce ne ustreza dogovoru _tidy data_. Slednji namreč določa, da spremenljivke ne ustrezajo opazovanim vrednostim v podatkih. Po taki interpretaciji stolpec `prvi kolokvij` ne ustreza pravi spremenljivki v urejenih podatkih, saj `prvi` je opazovana vrednost spremenljivke `semester`. Če upoštevamo to pravilo, potem bo imela podatkovna tabela z dosežki študentov štiri spremenljivke in ustrezne stolpce `ime`, `semester`, `kolokvij` in `rezultat`. Poglejmo prvih nekaj vrstic take tabele:\n",
    "\n",
    "| ime | semester | kolokvij | rezultat |\n",
    "|:--|--:|--:|--:|\n",
    "| Ana | 1 | 1 | 80 |\n",
    "| Ana | 2 | 1 | 97 |\n",
    "| Ana | 1 | 2 | 82 |\n",
    "| Ana | 2 | 2 | 95 |\n",
    "| Branko | 1 | 1 | 78 |\n",
    "| Branko | 2 | 1 | 74 |\n",
    "\n",
    "V tem primeru imam opravka s tremi dimenzijskimi spremenljivkami, ki določajo konkreten kolokvij (ime študentke, semester, zaporedna številka kolokvija v semestru) in eno vrednostno spremenljivko - rezultat, ki ga je študent dosegel na kolokviju določenem z vrednostmi dimenzijskih spremenljivk.\n",
    "\n",
    "Na tem mestu lahko tudi bolj formalno, matematično opredelimo osnovne pojme v sestavljeni tabeli:\n",
    "\n",
    "  * **Podatkovna tabela** zapisuje podatke o opazovanih objektih $o$. Množico opazovanih objektov označimo z $O$. Za vsak opazovani objekt torej velja $o \\in O$.\n",
    "\n",
    "  * **Spremenljivka** $X$ je preslikava $X\\colon O \\to D_X$, kjer je $D_X$ domena spremenljivke, t.j., množica vseh njenih možnih vrednosti. Vrednost spremenljivke $\\textrm{v}_X(o)$ za podan objekt $o$ dobimo torej kot rezultat preslikave (sliko objekta $o$), $X\\colon o \\mapsto \\textrm{v}_X(o)$, pri čemer velja $\\textrm{v}_X(o) \\in D_X$.\n",
    "\n",
    "  * Podatkovna tabela vsebuje $p$ spremenljivk: $d$ dimenzijskih in $p-d$ vrednostnih. Dimenzijske spremenljivke običajno ustrezajo prvim $d$ stolpcem podatkovne tabele $X_1, X_2, \\dots, X_d$, zadnjih $p-d$ stolpcev pa ustreza vrednostnim spremenljivkam $X_{d+1}, \\dots, X_{p}$.\n",
    "\n",
    "  * Podatkovna tabela je tabelarična predstavitev preslikave $f\\colon D_1 \\times D_2 \\times \\dots \\times D_d \\to D_{d+1} \\times \\dots \\times D_{p} $, pri čemer je vsak $D_i$ domena ustrezne spremenljivke $X_i$.\n",
    "\n",
    "  * Vsaka vrstica podatkovne tabele podaja vrednosti $\\textrm{v}_{X_i}(o)$ vseh spremenljivk $X_1, X_2, \\dots X_p$ za opazovani objekt $o$."
   ]
  },
  {
   "cell_type": "markdown",
   "metadata": {},
   "source": [
    "# Urejanje podatkov v `pandas`\n",
    "\n",
    "V nadaljevanju predavanja bomo skozi sestavljanje podatkovnih tabel `studenti` in `studenti_ocene` spoznali funkcije knjižnice `pandas`, ki jih uporabljamo pri urejanju podatkov iz osnovne tabele `pt` uvožene iz preglednice Excel.\n",
    "\n",
    "## Razdruževanje vrednosti\n",
    "\n",
    "Najprej se bomo lotili problema v stolpcu `spol in starost`, ki združuje vrednosti dveh spremenljivk, spol in starost. V ta namen bomo uporabili funkcijo [`str.split`](https://pandas.pydata.org/docs/reference/api/pandas.Series.str.split.html), ki je pravzaprav metoda podatkovnega tipa zaporedje:"
   ]
  },
  {
   "cell_type": "code",
   "execution_count": 14,
   "metadata": {},
   "outputs": [
    {
     "name": "stdout",
     "output_type": "stream",
     "text": [
      "0    [ž, 19]\n",
      "1    [m, 20]\n",
      "2    [m, 19]\n",
      "3    [ž, 20]\n",
      "4    [m, 21]\n",
      "0    [ž, 19]\n",
      "1    [ž, 21]\n",
      "2    [m, 19]\n",
      "3    [ž, 20]\n",
      "4    [m, 21]\n",
      "Name: spol in starost, dtype: object\n"
     ]
    }
   ],
   "source": [
    "print(pt[\"spol in starost\"].str.split(\"-\"))"
   ]
  },
  {
   "cell_type": "markdown",
   "metadata": {},
   "source": [
    "Rezultat funkcije je torej zaporedje seznamov. Če nastavimo argument `expand` te funkcije na vrednost `True`, dobimo kot rezultat podatkovno tabelo z ločenimi stolpci:"
   ]
  },
  {
   "cell_type": "code",
   "execution_count": 15,
   "metadata": {},
   "outputs": [
    {
     "name": "stdout",
     "output_type": "stream",
     "text": [
      "   0   1\n",
      "0  ž  19\n",
      "1  m  20\n",
      "2  m  19\n",
      "3  ž  20\n",
      "4  m  21\n",
      "0  ž  19\n",
      "1  ž  21\n",
      "2  m  19\n",
      "3  ž  20\n",
      "4  m  21\n"
     ]
    }
   ],
   "source": [
    "print(pt[\"spol in starost\"].str.split(\"-\", expand = True))"
   ]
  },
  {
   "cell_type": "markdown",
   "metadata": {},
   "source": [
    "S preprostim prirejanjem tega rezultata in posebnim indeksiranjem, ki smo ga spoznali na prejšnjih predavanjih, ga lahko pretvorimo v dva nova stolpca podatkovne tabele `pt`:"
   ]
  },
  {
   "cell_type": "code",
   "execution_count": 18,
   "metadata": {},
   "outputs": [
    {
     "name": "stdout",
     "output_type": "stream",
     "text": [
      "      ime  telefon spol in starost  prvi semester  drugi semester  \\\n",
      "0     Ana      431            ž-19             80              97   \n",
      "1  Branko      720            m-20             78              74   \n",
      "2   David      141            m-19             75              68   \n",
      "3     Eva      210            ž-20             63              82   \n",
      "4   Franc      592            m-21             95              82   \n",
      "0     Ana      431            ž-19             82              95   \n",
      "1  Cvetka      761            ž-21             63              87   \n",
      "2   David      141            m-19             92              81   \n",
      "3     Eva      210            ž-20             82              63   \n",
      "4   Franc      592            m-21             99              54   \n",
      "\n",
      "         kolokvij spol starost  \n",
      "0   prvi kolokvij    ž      19  \n",
      "1   prvi kolokvij    m      20  \n",
      "2   prvi kolokvij    m      19  \n",
      "3   prvi kolokvij    ž      20  \n",
      "4   prvi kolokvij    m      21  \n",
      "0  drugi kolokvij    ž      19  \n",
      "1  drugi kolokvij    ž      21  \n",
      "2  drugi kolokvij    m      19  \n",
      "3  drugi kolokvij    ž      20  \n",
      "4  drugi kolokvij    m      21  \n"
     ]
    }
   ],
   "source": [
    "pt[[\"spol\", \"starost\"]] = pt[\"spol in starost\"].str.split(\"-\", expand = True)\n",
    "print(pt)"
   ]
  },
  {
   "cell_type": "markdown",
   "metadata": {},
   "source": [
    "## Tvorjenje in urejanje tabele `studenti`\n",
    "\n",
    "Zdaj lahko z uporabo indeksiranja preprosto izberemo stolpce, ki tvorijo tabelo `studenti`:"
   ]
  },
  {
   "cell_type": "code",
   "execution_count": 43,
   "metadata": {},
   "outputs": [
    {
     "name": "stdout",
     "output_type": "stream",
     "text": [
      "      ime spol starost  telefon\n",
      "0     Ana    ž      19      431\n",
      "1  Branko    m      20      720\n",
      "2   David    m      19      141\n",
      "3     Eva    ž      20      210\n",
      "4   Franc    m      21      592\n",
      "0     Ana    ž      19      431\n",
      "1  Cvetka    ž      21      761\n",
      "2   David    m      19      141\n",
      "3     Eva    ž      20      210\n",
      "4   Franc    m      21      592\n"
     ]
    }
   ],
   "source": [
    "studenti = pt.loc[:, [\"ime\", \"spol\", \"starost\", \"telefon\"]]\n",
    "print(studenti)"
   ]
  },
  {
   "cell_type": "markdown",
   "metadata": {},
   "source": [
    "Ta tabela še vedno po nepotrebnem dva krat ponavlja vrstico za vsako študentko. Na prvi pogled, bi lahko zadevo rešili tako, da izberemo zgolj prvih pet vrstic tabele:"
   ]
  },
  {
   "cell_type": "code",
   "execution_count": 44,
   "metadata": {},
   "outputs": [
    {
     "name": "stdout",
     "output_type": "stream",
     "text": [
      "      ime spol starost  telefon\n",
      "0     Ana    ž      19      431\n",
      "0     Ana    ž      19      431\n",
      "1  Branko    m      20      720\n",
      "1  Cvetka    ž      21      761\n",
      "2   David    m      19      141\n",
      "2   David    m      19      141\n",
      "3     Eva    ž      20      210\n",
      "3     Eva    ž      20      210\n",
      "4   Franc    m      21      592\n",
      "4   Franc    m      21      592\n",
      "1  Branko    m      20      720\n",
      "1  Cvetka    ž      21      761\n"
     ]
    }
   ],
   "source": [
    "print(pt.loc[[0, 1, 2, 3, 4, 1], [\"ime\", \"spol\", \"starost\", \"telefon\"]])"
   ]
  },
  {
   "cell_type": "markdown",
   "metadata": {},
   "source": [
    "Zaradi ponavljajočih se indeksov vrstic ta poskus ni bil uspešen. Lahko bi pa to naredili s pozicijskimi indeksi:"
   ]
  },
  {
   "cell_type": "code",
   "execution_count": 46,
   "metadata": {},
   "outputs": [
    {
     "name": "stdout",
     "output_type": "stream",
     "text": [
      "      ime spol starost  telefon\n",
      "0     Ana    ž      19      431\n",
      "1  Branko    m      20      720\n",
      "2   David    m      19      141\n",
      "3     Eva    ž      20      210\n",
      "4   Franc    m      21      592\n",
      "1  Cvetka    ž      21      761\n"
     ]
    }
   ],
   "source": [
    "print(studenti.iloc[[0, 1, 2, 3, 4, 6]])"
   ]
  },
  {
   "cell_type": "markdown",
   "metadata": {},
   "source": [
    "Kar je malo zoprno, ker moramo šteti na roke. Tega seveda ne moremo narediti za velike tabele s podatki.\n",
    "\n",
    "Pravi pristop sloni na uporabi funkcije oziroma metode podatkovnega tipa podatkovna tabela [`drop_duplicates`](https://pandas.pydata.org/docs/reference/api/pandas.DataFrame.drop_duplicates.html), ki zbriše podvojene vrstice v podani podatkovni tabeli:"
   ]
  },
  {
   "cell_type": "code",
   "execution_count": 47,
   "metadata": {},
   "outputs": [
    {
     "name": "stdout",
     "output_type": "stream",
     "text": [
      "      ime spol starost  telefon\n",
      "0     Ana    ž      19      431\n",
      "1  Branko    m      20      720\n",
      "2   David    m      19      141\n",
      "3     Eva    ž      20      210\n",
      "4   Franc    m      21      592\n",
      "1  Cvetka    ž      21      761\n"
     ]
    }
   ],
   "source": [
    "studenti = studenti.drop_duplicates()\n",
    "print(studenti)"
   ]
  },
  {
   "cell_type": "markdown",
   "metadata": {},
   "source": [
    "Pri urejanju podatkov običajno poskrbimo, da so vrstice urejene v naraščajočem vrstnem redu glede na vrednost dimenzijske spremenljivke. V ta namen bomo uporabili metodo podatkovnega tipa podatkovna tabela [`sort_values`](https://pandas.pydata.org/docs/reference/api/pandas.DataFrame.sort_values.html). Njen prvi argument `by` nastavimo na ime stolpca (ali seznam imen stolpcev) za urejanje:"
   ]
  },
  {
   "cell_type": "code",
   "execution_count": 49,
   "metadata": {},
   "outputs": [
    {
     "name": "stdout",
     "output_type": "stream",
     "text": [
      "      ime spol starost  telefon\n",
      "0     Ana    ž      19      431\n",
      "1  Branko    m      20      720\n",
      "1  Cvetka    ž      21      761\n",
      "2   David    m      19      141\n",
      "3     Eva    ž      20      210\n",
      "4   Franc    m      21      592\n"
     ]
    }
   ],
   "source": [
    "studenti = studenti.sort_values(by = \"ime\")\n",
    "print(studenti)"
   ]
  },
  {
   "cell_type": "markdown",
   "metadata": {},
   "source": [
    "Preverimo zdaj tipe stolpcev v podatkovni tabeli:"
   ]
  },
  {
   "cell_type": "code",
   "execution_count": 50,
   "metadata": {},
   "outputs": [
    {
     "name": "stdout",
     "output_type": "stream",
     "text": [
      "ime        object\n",
      "spol       object\n",
      "starost    object\n",
      "telefon     int64\n",
      "dtype: object\n"
     ]
    }
   ],
   "source": [
    "print(studenti.dtypes)"
   ]
  },
  {
   "cell_type": "markdown",
   "metadata": {},
   "source": [
    "Dva stolpca imata napačna tipa. Stolpec spol bi mogel biti tipa kategorija, stolpec starost pa celoštevilskega tipa. Z indeksiranjem in prirejanjem lahko to uredimo takole (preverite zapiske iz prejšnjih predavanj):"
   ]
  },
  {
   "cell_type": "code",
   "execution_count": 54,
   "metadata": {},
   "outputs": [
    {
     "name": "stdout",
     "output_type": "stream",
     "text": [
      "      ime spol  starost  telefon\n",
      "0     Ana    ž       19      431\n",
      "1  Branko    m       20      720\n",
      "1  Cvetka    ž       21      761\n",
      "2   David    m       19      141\n",
      "3     Eva    ž       20      210\n",
      "4   Franc    m       21      592\n",
      "ime          object\n",
      "spol       category\n",
      "starost       int64\n",
      "telefon       int64\n",
      "dtype: object\n"
     ]
    }
   ],
   "source": [
    "from pandas.api.types import CategoricalDtype\n",
    "\n",
    "studenti.spol = studenti.spol.astype(CategoricalDtype(studenti.spol.drop_duplicates()))\n",
    "studenti.starost = studenti.starost.astype(\"int64\")\n",
    "\n",
    "print(studenti)\n",
    "print(studenti.dtypes)"
   ]
  },
  {
   "cell_type": "markdown",
   "metadata": {},
   "source": [
    "Zadnja podrobnost je indeksiranje. Za vajo spremenite indekse vrstic v zadnji tabeli `studenti` na dva načina. Najprej tako, da bodo indeksi vrstic naravna števila od `0` do `5`, brez ponavljanja. Nato pa tako, da so indeksi vrstic imena študentov.\n",
    "\n",
    "## Tvorjenje in urejanje tabele `studenti_ocene`\n",
    "\n",
    "Pripravimo zdaj podatke o dosežkih študentov:"
   ]
  },
  {
   "cell_type": "code",
   "execution_count": 82,
   "metadata": {},
   "outputs": [
    {
     "name": "stdout",
     "output_type": "stream",
     "text": [
      "      ime  prvi semester  drugi semester        kolokvij\n",
      "0     Ana             80              97   prvi kolokvij\n",
      "1  Branko             78              74   prvi kolokvij\n",
      "2   David             75              68   prvi kolokvij\n",
      "3     Eva             63              82   prvi kolokvij\n",
      "4   Franc             95              82   prvi kolokvij\n",
      "0     Ana             82              95  drugi kolokvij\n",
      "1  Cvetka             63              87  drugi kolokvij\n",
      "2   David             92              81  drugi kolokvij\n",
      "3     Eva             82              63  drugi kolokvij\n",
      "4   Franc             99              54  drugi kolokvij\n"
     ]
    }
   ],
   "source": [
    "studenti_ocene = pt[[\"ime\", \"prvi semester\", \"drugi semester\", \"kolokvij\"]]\n",
    "print(studenti_ocene)"
   ]
  },
  {
   "cell_type": "markdown",
   "metadata": {},
   "source": [
    "Zamenjajmo najprej vrednosti v zadnjem stolpcu s celoštevilskimi vrednostmi. Uporabimo funkcijo [`replace`](https://pandas.pydata.org/docs/reference/api/pandas.DataFrame.replace.html):"
   ]
  },
  {
   "cell_type": "code",
   "execution_count": 83,
   "metadata": {},
   "outputs": [
    {
     "name": "stdout",
     "output_type": "stream",
     "text": [
      "      ime  prvi semester  drugi semester  kolokvij\n",
      "0     Ana             80              97         1\n",
      "1  Branko             78              74         1\n",
      "2   David             75              68         1\n",
      "3     Eva             63              82         1\n",
      "4   Franc             95              82         1\n",
      "0     Ana             82              95         2\n",
      "1  Cvetka             63              87         2\n",
      "2   David             92              81         2\n",
      "3     Eva             82              63         2\n",
      "4   Franc             99              54         2\n"
     ]
    }
   ],
   "source": [
    "studenti_ocene = studenti_ocene.replace({\n",
    "    \"prvi kolokvij\": 1,\n",
    "    \"drugi kolokvij\": 2\n",
    "})\n",
    "print(studenti_ocene)"
   ]
  },
  {
   "cell_type": "markdown",
   "metadata": {},
   "source": [
    "Spomnimo se še, da je naslednja težava tabele `studenti_ocene` v tem, da bi imeni spremenljivk `prvi semester` in `drugi semester` morali pravzaprav biti vrednosti spremenljivke `semester`. Za pretvorbo imen stolpcev v spremenljivko uporabljamo funkcijo [`melt`](https://pandas.pydata.org/docs/reference/api/pandas.melt.html) z naslednjimi argumenti:\n",
    "\n",
    "  * `frame` je ime podatkovne tabele, ki jo hočemo spremeniti;\n",
    "\n",
    "  * `id_vars` je nabor ali seznam imen stolpcev, ki identificirajo vrstice, in katerih vrednosti se ne bodo spreminjale;\n",
    "\n",
    "  * `value_vars` je nabor ali seznam imen stolpcev, ki predstavljajo podatkovne vrednosti (privzeta vrednost so vsi stolpci `frame`, ki niso v seznamu `id_vars`);\n",
    "\n",
    "  * `var_name` je ime nove spremenljivke (stolpca), ki prevzame podatkovne vrednosti iz imena stolpca; in\n",
    "\n",
    "  * `value_name` je ime spremenljivke (stolpca), ki prevzame vrednosti v stolpcih `value_vars`."
   ]
  },
  {
   "cell_type": "code",
   "execution_count": 84,
   "metadata": {},
   "outputs": [
    {
     "name": "stdout",
     "output_type": "stream",
     "text": [
      "       ime  kolokvij        semester  rezultat\n",
      "0      Ana         1   prvi semester        80\n",
      "1   Branko         1   prvi semester        78\n",
      "2    David         1   prvi semester        75\n",
      "3      Eva         1   prvi semester        63\n",
      "4    Franc         1   prvi semester        95\n",
      "5      Ana         2   prvi semester        82\n",
      "6   Cvetka         2   prvi semester        63\n",
      "7    David         2   prvi semester        92\n",
      "8      Eva         2   prvi semester        82\n",
      "9    Franc         2   prvi semester        99\n",
      "10     Ana         1  drugi semester        97\n",
      "11  Branko         1  drugi semester        74\n",
      "12   David         1  drugi semester        68\n",
      "13     Eva         1  drugi semester        82\n",
      "14   Franc         1  drugi semester        82\n",
      "15     Ana         2  drugi semester        95\n",
      "16  Cvetka         2  drugi semester        87\n",
      "17   David         2  drugi semester        81\n",
      "18     Eva         2  drugi semester        63\n",
      "19   Franc         2  drugi semester        54\n"
     ]
    }
   ],
   "source": [
    "studenti_ocene = studenti_ocene.melt(\n",
    "    id_vars = [\"ime\", \"kolokvij\"],\n",
    "    value_vars = [\"prvi semester\", \"drugi semester\"],\n",
    "    var_name = \"semester\",\n",
    "    value_name = \"rezultat\"\n",
    ")\n",
    "print(studenti_ocene)"
   ]
  },
  {
   "cell_type": "markdown",
   "metadata": {},
   "source": [
    "Zamenjajmo vrednosti spremenljivke `semester` kot smo to storili zgoraj za `kolokvij`:"
   ]
  },
  {
   "cell_type": "code",
   "execution_count": 86,
   "metadata": {},
   "outputs": [
    {
     "name": "stdout",
     "output_type": "stream",
     "text": [
      "       ime  kolokvij  semester  rezultat\n",
      "0      Ana         1         1        80\n",
      "1   Branko         1         1        78\n",
      "2    David         1         1        75\n",
      "3      Eva         1         1        63\n",
      "4    Franc         1         1        95\n",
      "5      Ana         2         1        82\n",
      "6   Cvetka         2         1        63\n",
      "7    David         2         1        92\n",
      "8      Eva         2         1        82\n",
      "9    Franc         2         1        99\n",
      "10     Ana         1         2        97\n",
      "11  Branko         1         2        74\n",
      "12   David         1         2        68\n",
      "13     Eva         1         2        82\n",
      "14   Franc         1         2        82\n",
      "15     Ana         2         2        95\n",
      "16  Cvetka         2         2        87\n",
      "17   David         2         2        81\n",
      "18     Eva         2         2        63\n",
      "19   Franc         2         2        54\n"
     ]
    }
   ],
   "source": [
    "studenti_ocene.semester = studenti_ocene.semester.replace({\n",
    "    \"prvi semester\": 1,\n",
    "    \"drugi semester\": 2\n",
    "})\n",
    "print(studenti_ocene)"
   ]
  },
  {
   "cell_type": "markdown",
   "metadata": {},
   "source": [
    "Uredimo stolpce v želenem vrstnem redu in vrstice v naraščajočem vrstnem redu glede na vrednosti dimenzijskih spremenljivk:"
   ]
  },
  {
   "cell_type": "code",
   "execution_count": 87,
   "metadata": {},
   "outputs": [
    {
     "name": "stdout",
     "output_type": "stream",
     "text": [
      "       ime  semester  kolokvij  rezultat\n",
      "0      Ana         1         1        80\n",
      "5      Ana         1         2        82\n",
      "10     Ana         2         1        97\n",
      "15     Ana         2         2        95\n",
      "1   Branko         1         1        78\n",
      "11  Branko         2         1        74\n",
      "6   Cvetka         1         2        63\n",
      "16  Cvetka         2         2        87\n",
      "2    David         1         1        75\n",
      "7    David         1         2        92\n",
      "12   David         2         1        68\n",
      "17   David         2         2        81\n",
      "3      Eva         1         1        63\n",
      "8      Eva         1         2        82\n",
      "13     Eva         2         1        82\n",
      "18     Eva         2         2        63\n",
      "4    Franc         1         1        95\n",
      "9    Franc         1         2        99\n",
      "14   Franc         2         1        82\n",
      "19   Franc         2         2        54\n"
     ]
    }
   ],
   "source": [
    "studenti_ocene = studenti_ocene[[\"ime\", \"semester\", \"kolokvij\", \"rezultat\"]]\n",
    "studenti_ocene = studenti_ocene.sort_values(by = [\"ime\", \"semester\", \"kolokvij\"])\n",
    "\n",
    "print(studenti_ocene)"
   ]
  },
  {
   "cell_type": "markdown",
   "metadata": {},
   "source": [
    "In preverimo tipe:"
   ]
  },
  {
   "cell_type": "code",
   "execution_count": 88,
   "metadata": {},
   "outputs": [
    {
     "name": "stdout",
     "output_type": "stream",
     "text": [
      "ime         object\n",
      "semester     int64\n",
      "kolokvij     int64\n",
      "rezultat     int64\n",
      "dtype: object\n"
     ]
    }
   ],
   "source": [
    "print(studenti_ocene.dtypes)"
   ]
  },
  {
   "cell_type": "markdown",
   "metadata": {},
   "source": [
    "S tipi je načeloma vse v redu. Vseeno za vajo pretvori spremenljivki `semester` in `kolokvij` v kategoriji. Nadalje, za vajo izračunaj domeno (množico ali seznam možnih vrednosti) posamezne spremenljivke v tabeli.\n",
    "\n",
    "Zadnja stvar, ki še ostaja neurejena, je, da podatkovna tabela (in pripadajoča preslikava) ne pokriva vseh možnih kombinacij vrednosti dimenzijskih spremenljivk. Tako, na primer, ne vemo kakšen je bil dosežek Branka na drugem kolokviju v prvem semestru. Domnevamo lahko, da Branko ni pristopil k temu kolokviju in zato nima ocene. Bolj korekten zapis tega dejstva bi bila nova vrstica v tabeli `studenti_ocene` z vrednostmi `Branko`, `1`, `2` in `NaN`. Tako bomo prepričani, da pomanjkanje vrstice ni posledica napake pri vnosu ali prenosu podatkov.\n",
    "\n",
    "Zato, da dosežemo zahtevno dopolnjevanje podatkovne tabele, moramo najprej spoznati nekaj osnov poizvedovalnega jezika SQL.\n",
    "\n",
    "# Združevanje tabel v `pandas` in poizvedovalni jezik SQL\n",
    "\n",
    "SQL (_Structured Query Language_) je posebna **vrsta programskega jezika za poizvedovanje po podatkih** shranjenih v podatkovnih bazah. Ker so podatki v bazah običajno shranjeni v večjem številu tabel, nam SQL ponuja številne možnosti za združevanje podatkov iz različnih tabel v eno in operacije, ki obravnavajo tabele kot množice, katerih elementi ustrezajo vrsticam v tabelah. V nadaljevanju tega poglavja bomo videli zakaj nam to koristi pri urejanju tabel za analizo podatkov.\n",
    "\n",
    "## Operacija JOIN v jeziku SQL in `pandas`\n",
    "\n",
    "Združevanje tabel v jeziku SQL opravi operacija JOIN. Operacijo v knjižnici `pandas` opravlja funkcija [`merge`](https://pandas.pydata.org/docs/reference/api/pandas.merge.html). Funkcija združi dve tabeli tako, da naredi kartezični produkt vrstic prve (leve) in druge (desne) tabele. Število stolpcev združene tabele ima toliko stolpcev, kot je seštevek števila stolpcev v prvi in drugi tabeli. Taka operacija bi bila sicer omejeno uporabna, ker JOIN uporabljamo takrat, ko hočemo v kartezičnem produktu ohraniti zgolj tiste vrstice, ki imajo isto vrednost skupnih stolpcev v obeh tabelah.\n",
    "\n",
    "Preden si ogledamo primer, ki bodo razjasnile pomen opisa zgoraj, poglejmo argumente funkcije `merge`.\n",
    "\n",
    "  * `left` podaja ime prve (leve) podatkovne tabele za združevanje.\n",
    "  \n",
    "  * `right` podaja ime druge (desne) podatkovne tabele za združevanje.\n",
    "\n",
    "  * `on` podaja ime ali seznam imen _izbranih_ spremenljivk (stolpcev), katerih vrednosti v združeni tabeli hočemo, da so enake.\n",
    "  \n",
    "  * `how` določa način združevanja in je lahko `left`, `right`, `outer`, `inner` ali `cross`:\n",
    "\n",
    "    * `left` v združeno tabelo upošteva vrednosti _izbranih_ spremenljivk iz leve tabele;\n",
    "\n",
    "    * `right` v združeno tabelo upošteva vrednosti _izbranih_ spremenljivk iz desne tabele;\n",
    "\n",
    "    * `inner` v združeno tabelo upošteva zgolj _presek_ množic vrednosti _izbranih_ spremenljivk iz leve in desne tabele;\n",
    "\n",
    "    * `outer` v združeno tabelo upošteva zgolj _unijo_ množic vrednosti _izbranih_ spremenljivk iz leve in desne tabele; in\n",
    "    \n",
    "    * `cross` v združeni tabeli naredi kartezični produkt podanih podatkovnih tabel.\n",
    "\n",
    "Naredimo zdaj dve tabeli in poglejmo rezultate različnih načinov združevanja, kjer bo izbrana spremenljivka `id`."
   ]
  },
  {
   "cell_type": "code",
   "execution_count": 89,
   "metadata": {},
   "outputs": [
    {
     "name": "stdout",
     "output_type": "stream",
     "text": [
      "   id vrednost\n",
      "0   1      x11\n",
      "1   1      x12\n",
      "2   2      x21\n",
      "3   2      x22\n",
      "4   3       x3\n",
      "   id vrednost\n",
      "0   1       y1\n",
      "1   2      y21\n",
      "2   2      y22\n",
      "3   4      y41\n",
      "4   4      y42\n"
     ]
    }
   ],
   "source": [
    "dt_x = pd.DataFrame({\n",
    "  \"id\": pd.Series([1, 1, 2, 2, 3]),\n",
    "  \"vrednost\": pd.Series([\"x11\", \"x12\", \"x21\", \"x22\", \"x3\"])\n",
    "})\n",
    "print(dt_x)\n",
    "\n",
    "dt_y = pd.DataFrame({\n",
    "  \"id\": pd.Series([1, 2, 2, 4, 4]),\n",
    "  \"vrednost\": pd.Series([\"y1\", \"y21\", \"y22\", \"y41\", \"y42\"])\n",
    "})\n",
    "print(dt_y)"
   ]
  },
  {
   "cell_type": "markdown",
   "metadata": {},
   "source": [
    "Levo združevanje ohrani vse vrstice iz leve tabele `dt_x`. Če v desni tabeli ni vrstice z vrednostjo izbrane spremenljivke iz leve tabele, potem je vrednost `NaN`."
   ]
  },
  {
   "cell_type": "code",
   "execution_count": 90,
   "metadata": {},
   "outputs": [
    {
     "name": "stdout",
     "output_type": "stream",
     "text": [
      "   id vrednost_x vrednost_y\n",
      "0   1        x11         y1\n",
      "1   1        x12         y1\n",
      "2   2        x21        y21\n",
      "3   2        x21        y22\n",
      "4   2        x22        y21\n",
      "5   2        x22        y22\n",
      "6   3         x3        NaN\n"
     ]
    }
   ],
   "source": [
    "print(dt_x.merge(dt_y, on = \"id\", how = \"left\"))"
   ]
  },
  {
   "cell_type": "markdown",
   "metadata": {},
   "source": [
    "Desno združevanje naredi obratno in ohrani vse vrstice iz desne tabele:"
   ]
  },
  {
   "cell_type": "code",
   "execution_count": 91,
   "metadata": {},
   "outputs": [
    {
     "name": "stdout",
     "output_type": "stream",
     "text": [
      "   id vrednost_x vrednost_y\n",
      "0   1        x11         y1\n",
      "1   1        x12         y1\n",
      "2   2        x21        y21\n",
      "3   2        x22        y21\n",
      "4   2        x21        y22\n",
      "5   2        x22        y22\n",
      "6   4        NaN        y41\n",
      "7   4        NaN        y42\n"
     ]
    }
   ],
   "source": [
    "print(dt_x.merge(dt_y, on = \"id\", how = \"right\"))"
   ]
  },
  {
   "cell_type": "markdown",
   "metadata": {},
   "source": [
    "Poglejmo še `inner` in `outer`:"
   ]
  },
  {
   "cell_type": "code",
   "execution_count": 92,
   "metadata": {},
   "outputs": [
    {
     "name": "stdout",
     "output_type": "stream",
     "text": [
      "   id vrednost_x vrednost_y\n",
      "0   1        x11         y1\n",
      "1   1        x12         y1\n",
      "2   2        x21        y21\n",
      "3   2        x21        y22\n",
      "4   2        x22        y21\n",
      "5   2        x22        y22\n",
      "   id vrednost_x vrednost_y\n",
      "0   1        x11         y1\n",
      "1   1        x12         y1\n",
      "2   2        x21        y21\n",
      "3   2        x21        y22\n",
      "4   2        x22        y21\n",
      "5   2        x22        y22\n",
      "6   3         x3        NaN\n",
      "7   4        NaN        y41\n",
      "8   4        NaN        y42\n"
     ]
    }
   ],
   "source": [
    "print(dt_x.merge(dt_y, on = \"id\", how = \"inner\"))\n",
    "print(dt_x.merge(dt_y, on = \"id\", how = \"outer\"))"
   ]
  },
  {
   "cell_type": "markdown",
   "metadata": {},
   "source": [
    "Po pričakovanjih, podatkovna tabela združena z `inner` nima neznanih vrednosti, saj upošteva zgolj vrednosti izbrane spremenljivke `id`, ki so skupne obema tabelama. Podatkovna tabela združena z `outer` pa vključuje vse vrednosti spremenljivke `id` in zato vpelje tri neznane vrednosti.\n",
    "\n",
    "Nenazadnje združevanje tipa `cross` vrne kartezični produkt vrstic leve in desne tabele, ne da bi pri tem upoštevali izbrane skupne spremenljivke:"
   ]
  },
  {
   "cell_type": "code",
   "execution_count": 94,
   "metadata": {},
   "outputs": [
    {
     "name": "stdout",
     "output_type": "stream",
     "text": [
      "    id_x vrednost_x  id_y vrednost_y\n",
      "0      1        x11     1         y1\n",
      "1      1        x11     2        y21\n",
      "2      1        x11     2        y22\n",
      "3      1        x11     4        y41\n",
      "4      1        x11     4        y42\n",
      "5      1        x12     1         y1\n",
      "6      1        x12     2        y21\n",
      "7      1        x12     2        y22\n",
      "8      1        x12     4        y41\n",
      "9      1        x12     4        y42\n",
      "10     2        x21     1         y1\n",
      "11     2        x21     2        y21\n",
      "12     2        x21     2        y22\n",
      "13     2        x21     4        y41\n",
      "14     2        x21     4        y42\n",
      "15     2        x22     1         y1\n",
      "16     2        x22     2        y21\n",
      "17     2        x22     2        y22\n",
      "18     2        x22     4        y41\n",
      "19     2        x22     4        y42\n",
      "20     3         x3     1         y1\n",
      "21     3         x3     2        y21\n",
      "22     3         x3     2        y22\n",
      "23     3         x3     4        y41\n",
      "24     3         x3     4        y42\n"
     ]
    }
   ],
   "source": [
    "print(dt_x.merge(dt_y, how = \"cross\"))"
   ]
  },
  {
   "cell_type": "markdown",
   "metadata": {},
   "source": [
    "## Dokončno urejanje tabele `studenti_ocene`\n",
    "\n",
    "Zdaj imamo v rokah vsa orodja za dokončno urejanje tabele `studenti_ocene` z dodajanjem manjkajočih vrstic, tako, da bo podatkovna tabela vsebovala vrstico za vse možne kombinacije vrednosti dimenzijskih spremenljivk. Najprej bomo izračunali tabelo vseh možnih kombinacij tako, da bomo izračunali kartezični produkt domen dimenzijskih spremenljivk:"
   ]
  },
  {
   "cell_type": "code",
   "execution_count": 102,
   "metadata": {},
   "outputs": [
    {
     "name": "stdout",
     "output_type": "stream",
     "text": [
      "       ime  semester  kolokvij\n",
      "0      Ana         1         1\n",
      "1      Ana         1         2\n",
      "2      Ana         2         1\n",
      "3      Ana         2         2\n",
      "4   Branko         1         1\n",
      "5   Branko         1         2\n",
      "6   Branko         2         1\n",
      "7   Branko         2         2\n",
      "8   Cvetka         1         1\n",
      "9   Cvetka         1         2\n",
      "10  Cvetka         2         1\n",
      "11  Cvetka         2         2\n",
      "12   David         1         1\n",
      "13   David         1         2\n",
      "14   David         2         1\n",
      "15   David         2         2\n",
      "16     Eva         1         1\n",
      "17     Eva         1         2\n",
      "18     Eva         2         1\n",
      "19     Eva         2         2\n",
      "20   Franc         1         1\n",
      "21   Franc         1         2\n",
      "22   Franc         2         1\n",
      "23   Franc         2         2\n"
     ]
    }
   ],
   "source": [
    "d_ime = pd.DataFrame({\n",
    "    \"ime\": studenti_ocene.ime.drop_duplicates()\n",
    "})\n",
    "d_semester = pd.DataFrame({\n",
    "    \"semester\": studenti_ocene.semester.drop_duplicates()\n",
    "})\n",
    "d_kolokvij = pd.DataFrame({\n",
    "    \"kolokvij\": studenti_ocene.kolokvij.drop_duplicates()\n",
    "})\n",
    "\n",
    "d_vse = d_ime.merge(d_semester, how = \"cross\").merge(d_kolokvij, how = \"cross\")\n",
    "print(d_vse)"
   ]
  },
  {
   "cell_type": "markdown",
   "metadata": {},
   "source": [
    "Po pričakovanjih, ima tabela s kartezičnim produktom 24 vrstic (za vajo ugotovi zakaj oziroma kako na osnovi vrednosti dimenzijskih spremenljivk v tabeli `studenti_ocene` pridemo do tega števila vrstic).\n",
    "\n",
    "Zdaj lahko dopolnimo tabelo `studenti_ocene` tako, da jo s klicem funkcije `merge` združimo z zgornjo tabelo in tako torej tabeli s kartezičnim produktom dodamo rezultate kolokvijev:"
   ]
  },
  {
   "cell_type": "code",
   "execution_count": 105,
   "metadata": {},
   "outputs": [
    {
     "name": "stdout",
     "output_type": "stream",
     "text": [
      "       ime  semester  kolokvij  rezultat\n",
      "0      Ana         1         1      80.0\n",
      "1      Ana         1         2      82.0\n",
      "2      Ana         2         1      97.0\n",
      "3      Ana         2         2      95.0\n",
      "4   Branko         1         1      78.0\n",
      "5   Branko         1         2       NaN\n",
      "6   Branko         2         1      74.0\n",
      "7   Branko         2         2       NaN\n",
      "8   Cvetka         1         1       NaN\n",
      "9   Cvetka         1         2      63.0\n",
      "10  Cvetka         2         1       NaN\n",
      "11  Cvetka         2         2      87.0\n",
      "12   David         1         1      75.0\n",
      "13   David         1         2      92.0\n",
      "14   David         2         1      68.0\n",
      "15   David         2         2      81.0\n",
      "16     Eva         1         1      63.0\n",
      "17     Eva         1         2      82.0\n",
      "18     Eva         2         1      82.0\n",
      "19     Eva         2         2      63.0\n",
      "20   Franc         1         1      95.0\n",
      "21   Franc         1         2      99.0\n",
      "22   Franc         2         1      82.0\n",
      "23   Franc         2         2      54.0\n"
     ]
    }
   ],
   "source": [
    "studenti_ocene = d_vse.merge(studenti_ocene, how = \"left\")\n",
    "print(studenti_ocene)"
   ]
  },
  {
   "cell_type": "markdown",
   "metadata": {},
   "source": [
    "Vidimo lahko, da ima sedaj tabela `studenti_ocene` vseh 24 vrstic, ki ustrezajo vsem možnim kombinacijam vrednosti njenih dimenzijskih spremenljivk. S tem je urejanje podatkov o rezultatih kolokvijev končano. Tabeli `studenti` in `studenti_ocene` sta pripravljeni za podatkovno analizo in vizualizacijo."
   ]
  },
  {
   "cell_type": "markdown",
   "metadata": {},
   "source": [
    "# Naloge\n",
    "\n",
    "1. V datoteki [`izidi.xlsx`](https://kt.ijs.si/~ljupco/lectures/papvp-2324/izidi.xlsx) je preglednica s podatki o numeričnih izidih uporabe dveh različnih terapij na treh pacientih. Prazne celice ustrezajo neznanim vrednostim izidov. Napiši program, ki prebere podatke iz preglednice in iz njih sestavi podatkovno tabelo z urejenimi podatki. Namig: rabiš sestaviti eno tabelo z dvema dimenzijskima in eno merjeno spremenljivko.\n",
    "\n",
    "1. V nekem bistroju poimenovanem Mafija strežejo tri vrste kavnih napitkov: črno kavo, kavo z mlekom in kavo s smetano. Pri izdelavi letne bilance si zapišejo koliko skodelic vsake vrste kavnega napitka so postregli v opazovanem letu. Spodnja tabela podaja podatke o petih letnih bilancah bistroja Mafija:\n",
    "\n",
    "    | Vrsta kavnega napitka | 2018 | 2019 | 2020 | 2021 | 2022 |\n",
    "    |:---|---:|---:|---:|---:|---:|\n",
    "    | Črna kava | 23,100 | 3,500 | 6,200 | 18,700 | 21,400 |\n",
    "    | Kava z mlekom | 18,300 | 2,800 | 4,900 | 14,000 | 18,000 |\n",
    "    | Kava s smetano | 11,500 | 1,600 | 3,400 | 7,600 | 11,100 |\n",
    "\n",
    "    Premisli kako bi iz zgornje tabele sestavili podatkovne tabele urejenih podatkov. Sestavi ustrezne podatkovne tabele v `pandas`.\n",
    "\n",
    "\n",
    "1. Statistični urad Slovenije v svoji podatkovni bazi [SiStat](https://pxweb.stat.si/) ponuja podatke o selitvenem gibanju prebivalstva v Sloveniji med regijami in tujino. Bazo teh podatkov lahko najdemo v področju _Regionalni pregled_ pod rubriko _Statistične regije_ in _Prebivalstvo - statistične regije_. Podatki iz te baze so na voljo v preglednici [`05I2004S_20221025-231704.xlsx`](https://kt.ijs.si/~ljupco/lectures/papvp-2324/05I2004S_20221025-231704.xlsx). Napiši program, ki sestavi urejeno tabelo s podatki o selitvenem gibanju prebivalstva v Sloveniji.\n",
    "\n",
    "1. Spletna stran [Covid-19 sledilnik](https://covid-19.sledilnik.org/) ponuja dnevno osvežene podatke o stanju epidemije Covid-19 v Sloveniji. Podatki o dnevnem številu okužb ponujajo tudi skozi spletne storitve [GitHub](https://github.com/sledilnik/data/blob/master/csv/stats.csv): ti podatki so v obliki CSV dostopni na naslovu [https://raw.githubusercontent.com/sledilnik/data/master/csv/stats.csv](https://raw.githubusercontent.com/sledilnik/data/master/csv/stats.csv).\n",
    "\n",
    "    Napiši program, ki iz teh podatkov sestavi podatkovno tabelo z urejenimi dnevnimi podatki o številu okužb v posameznih regijah in celotni Sloveniji. Podatkovna tabela naj vsebuje naslednje tri spremenljivke:\n",
    "    \n",
    "    * `datum` je dimenzijska spremenljivka z datumom opazovanega števila okužb.\n",
    "    \n",
    "    * `regija` je dimenzijska spremenljivka, ki poda statistično regijo v kateri opazujemo število okužb. Domena spremenljivke naj vključuje vseh [statističnih regij Slovenije](https://sl.wikipedia.org/wiki/Statisti%C4%8Dne_regije_Slovenije) ter Slovenijo kot celoto.\n",
    "    \n",
    "    * `kumulativne_okuzbe` je merjena spremenljivka, ki za izbrano regijo poda kumulatinvo število okužb Covid-19 do izbranega datuma.\n",
    "\n",
    "1. Statistični urad Slovenije v svoji podatkovni bazi [SiStat](https://pxweb.stat.si/) ponuja podatke o številu prebivalcev v posameznih statističnih regijah in celotni Sloveniji po polletjih. Poišči te podatke v bazi in jih izvozi v obliko preglednice Excel: pri tem upoštevaj vse razpoložljive podatke od prvega polletja 2020. Nato jih uredi v podatkovno tabelo s stolpci `polletje`, `regija` in `prebivalstvo`.\n",
    "\n",
    "    Uporabi podatke iz te tabele in tabele sestavljene v prejšnji nalogi za izračun _deleža_ okuženih prebivalcev v posamezni regiji in celotni Sloveniji."
   ]
  }
 ],
 "metadata": {
  "kernelspec": {
   "display_name": "Python 3",
   "language": "python",
   "name": "python3"
  },
  "language_info": {
   "codemirror_mode": {
    "name": "ipython",
    "version": 3
   },
   "file_extension": ".py",
   "mimetype": "text/x-python",
   "name": "python",
   "nbconvert_exporter": "python",
   "pygments_lexer": "ipython3",
   "version": "3.11.5"
  },
  "widgets": {
   "application/vnd.jupyter.widget-state+json": {
    "state": {},
    "version_major": 2,
    "version_minor": 0
   }
  }
 },
 "nbformat": 4,
 "nbformat_minor": 4
}
