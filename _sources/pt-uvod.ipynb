{
 "cells": [
  {
   "cell_type": "markdown",
   "metadata": {},
   "source": [
    "# Knjižnica `pandas` in tabelarični podatki\n",
    "\n",
    "[`pandas`](https://pandas.pydata.org/) je najbolj znana in najbolj uporabljana Python-ovska knjižnica za podatkovno analizo. Omogoča pripravo, procesiranje, obdelavo in analizo podatkov, ki so shranjeni v podatkovnih tabelah, podobnih preglednicam v Excel-u ali tabelam v podatkovnih bazah. Ponuja podatkovne strukture za shranjevanje tabelaričnih podatkov in funkcije za delo z njimi.\n",
    "\n",
    "Pri podatkovni analizi je običajno, da podatke shranjujemo v podatkovnih tabelah. Vrstice podatkovne tabele ustrezajo opazovanim enotam (angl. _units_) za katere zbiramo podatke. Enote imenujemo tudi primerki ali primeri (angl. _examples_). Stolpci podatkovne tabele ustrezajo lastnostim ali značilnostim opazovanih enot, ki jih imenujemo atributi (angl. _attributes_) ali spremenljivke (angl. _variables_). Tako vrednost atributa (spremenljivke) za izbrano enoto podaja vrednost njene ustrezne lastnosti (značilnosti).\n",
    "\n",
    "Za ilustracijo sestavimo podatkovno tabelo za šest oseb. Očitno je, da bodo enote opazovanja osebe, izbrali bomo štiri atribute, ki opišejo osebo: ime, spol, višina in datum rojstva. Podatkovna tabela ima šest vrstic, v (dodatni) naslovni vrstici zapišemo imena atributov:\n",
    "\n",
    "| Ime | Spol | Višina | Datum rojstva |\n",
    "|:----|:----:|-------:|--------------:|\n",
    "| Aleš | m | 164 | 2001-04-15 |\n",
    "| Brina | ž | 153 | 2002-11-24 |\n",
    "| Ciril | m | 185 | 2002-07-13 |\n",
    "| Darja | ž | 181 | 2001-03-31 |\n",
    "| Ema | ž | 178 | 2002-08-28 |\n",
    "| Filip | m | 167 | 2002-03-09 |\n",
    "\n",
    "Podatki v posameznih stolpcih tabele so _istega tipa_. V zgornjem primeru je ime niz znakov, spol zavzame vrednost, ki je element množice ${m, ž}$, višina je celo število in zadnji stolpec je datumskega tipa. Zaradi te lastnosti, podatke v tabeli pogosto organiziramo in obravnavamo po stolpcih. Osnovni podatkovni tipi v knjižnici `pandas` sledijo tej organizaciji tabelaričnih podatkov. Za posamezne stolpce, imenovali jih bomo spremenljivke ali atributi, uporabljamo osnovni tip zaporedje (angl._Series_), stolpce nato sestavimo v podatkovni okvir (angl. _DataFrame_), ki ga bomo imenovali tudi podatkovna tabela.\n",
    "\n",
    "V nadaljevanju bomo najprej spoznali podatkovni tip zaporedje in se naučili delati s posameznimi stolpci, nato pa se naučili delati s podatkovnimi okviri. Pri obdelavi zaporedij si bomo pogosto pomagali z izpeljanimi seznami, ki smo jih obravnavali v okviru uvodnega predavanja."
   ]
  }
 ],
 "metadata": {
  "language_info": {
   "name": "python"
  }
 },
 "nbformat": 4,
 "nbformat_minor": 2
}
