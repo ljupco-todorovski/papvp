{
 "cells": [
  {
   "cell_type": "markdown",
   "metadata": {},
   "source": [
    "Knjižnica [`pandas`](https://pandas.pydata.org/) omogoča procesiranje, obdelavo in analizo podatkov, shranjenih v podatkovno tabelo. Na začetku dela s knjižnico bomo najprej spoznali osnovne podatkovne tipe za sestavljanje tabel: zaporedje (angl. _Series_) in podatkovni okvir (angl. _DataFrame_), ki ga bomo imenovali tudi podatkovna tabela.\n",
    "\n",
    "Podatkovna tabela v `pandas` je sestavljena iz vrstic in stolpcev, imenovanih tudi spremenljivke. Vsak stolpec v tabeli je tipe zaporedje. Stolpci (spremenljivke) so v podatkovnih tabelah posebnega pomena, saj večina operacij podatkovne obdelave in analize poteka na stolpcih. Zato bomo najprej dobro spoznali podatkovni tip zaporedje in se naučili delati s posameznimi stolpci tabele, nato pa se naučili delati s podatkovnimi okviri. Pri obdelavi zaporedij bomo si pogosto pomagali z izpeljanimi seznami, o katerih smo govorili v okviru uvodnega predavanja."
   ]
  },
  {
   "cell_type": "markdown",
   "metadata": {},
   "source": [
    "# Podatkovni okviri (tudi podatkovne tabele), _DataFrame_\n",
    "\n",
    "Pred analizo s knjižnico `pandas` podatke spravimo v tabelo. Ustrezni podatkovni tip je podatkovni okvir (`DataFrame`). V nadaljevanju bomo po eni strani spoznali ta podatkovni tip, po drugi pa običajno obliko tabel za shranjevanje podatkov za nadaljnjo analizo. **Pozor**: Med predavanji pri tem predmetu bomo podatkovni okvir poimenovali preprosto podatkovna tabela.\n",
    "\n",
    "## Tvorjenje podatkovnih okvirov\n",
    "\n",
    "Podatkovni okvir ustvarimo s konstruktorjem `pd.dataframe`, ki kot prvi argument lahko sprejme slovar. Njegovi ključi določajo imena stolpcev, vrednosti ustrezajo podatkom urejenim po stolpcih:"
   ]
  },
  {
   "cell_type": "code",
   "execution_count": 1,
   "metadata": {},
   "outputs": [
    {
     "name": "stdout",
     "output_type": "stream",
     "text": [
      "     ime spol\n",
      "0   Aleš    m\n",
      "1  Brina    ž\n",
      "2  Ciril    m\n",
      "3  Darja    ž\n",
      "4    Ema    ž\n",
      "5  Filip    m\n"
     ]
    }
   ],
   "source": [
    "import pandas as pd\n",
    "\n",
    "imena = [\"Aleš\", \"Brina\", \"Ciril\", \"Darja\", \"Ema\", \"Filip\"]\n",
    "spoli = [\"m\", \"ž\", \"m\", \"ž\", \"ž\", \"m\"]\n",
    "\n",
    "pt1 = pd.DataFrame({\n",
    "    \"ime\": pd.Series(imena),\n",
    "    \"spol\": pd.Series(spoli, dtype = \"category\")\n",
    "})\n",
    "print(pt1)"
   ]
  },
  {
   "cell_type": "markdown",
   "metadata": {},
   "source": [
    "V zgornjem primeru smo poskrbeli, da sta oba zaporedja enako dolga. Preveri za vajo, kaj se zgodi, če sta zaporedja različno dolga.\n",
    "\n",
    "Konstruktor lahko sprejme tudi podatke v obliki seznama seznamov. V tem primeru morajo biti podatki urejeni po vrsticah (in ne po stolpcih kot zgoraj).Imena stolpcev lahko nastavimo z uporabo argumenta `columns`."
   ]
  },
  {
   "cell_type": "code",
   "execution_count": 2,
   "metadata": {},
   "outputs": [
    {
     "name": "stdout",
     "output_type": "stream",
     "text": [
      "[['Aleš', 'm'], ['Brina', 'ž'], ['Ciril', 'm'], ['Darja', 'ž'], ['Ema', 'ž'], ['Filip', 'm']]\n",
      "     ime spol\n",
      "0   Aleš    m\n",
      "1  Brina    ž\n",
      "2  Ciril    m\n",
      "3  Darja    ž\n",
      "4    Ema    ž\n",
      "5  Filip    m\n"
     ]
    }
   ],
   "source": [
    "po_vrsticah = [[imena[i], spoli[i]] for i in range(len(imena))]\n",
    "print(po_vrsticah)\n",
    "\n",
    "pt2 = pd.DataFrame(po_vrsticah, columns = [\"ime\", \"spol\"])\n",
    "print(pt2)"
   ]
  },
  {
   "cell_type": "markdown",
   "metadata": {},
   "source": [
    "Dimenzije tabele hrani atribut podatkovnega okvira `shape`, število shranjenih vrednosti pa atribut `size`:"
   ]
  },
  {
   "cell_type": "code",
   "execution_count": 3,
   "metadata": {},
   "outputs": [
    {
     "name": "stdout",
     "output_type": "stream",
     "text": [
      "Število vrstic v pt1 je 6, število stolpcev 2, število vrednosti pa 12.\n"
     ]
    }
   ],
   "source": [
    "(nv, ns) = pt1.shape\n",
    "print(f\"Število vrstic v pt1 je {nv}, število stolpcev {ns}, število vrednosti pa {pt1.size}.\")"
   ]
  },
  {
   "cell_type": "markdown",
   "metadata": {},
   "source": [
    "V enem od naslednjem razdelkov bomo spoznali še več atributov podatkovne strukture podatkovni okvir. A preden nadaljujemo v to smer, poglejmo kako podatkovni tabeli dodajamo nove podatke.\n",
    "\n",
    "Dodajanje novega stolpca je zelo enostavno:"
   ]
  },
  {
   "cell_type": "code",
   "execution_count": 4,
   "metadata": {},
   "outputs": [
    {
     "name": "stdout",
     "output_type": "stream",
     "text": [
      "     ime spol  visina\n",
      "0   Aleš    m     164\n",
      "1  Brina    ž     153\n",
      "2  Ciril    m     185\n",
      "3  Darja    ž     181\n",
      "4    Ema    ž     178\n",
      "5  Filip    m     167\n"
     ]
    }
   ],
   "source": [
    "from random import randint, seed\n",
    "\n",
    "seed(42)\n",
    "\n",
    "pt1[\"visina\"] = pd.Series([randint(150, 220) for _ in range(pt1.ime.size)])\n",
    "print(pt1)"
   ]
  },
  {
   "cell_type": "markdown",
   "metadata": {},
   "source": [
    "Dovolj je torej, da indeksiramo tabelo z imenom novega stolpca. **Pozor**: Če je ime novega stolpca enako imenu enega izmed obstoječih stolpcev v tabeli, potem ne bomo dobili novega stolpca, temveč bomo zamenjali vrednosti obstoječemu. Še ena podrobnost, ki jo razkrije zgornja koda: stolpec z imenom `s` v podatkovnem okviru `pt` lahko indeksiramo z `pt[s]` ali pa kot atribut okvira z notacijo `pt.s`. Poglejmo še enkrat:"
   ]
  },
  {
   "cell_type": "code",
   "execution_count": 5,
   "metadata": {},
   "outputs": [
    {
     "name": "stdout",
     "output_type": "stream",
     "text": [
      "     ime spol  visina\n",
      "0   Aleš    m     164\n",
      "1  Brina    ž     153\n",
      "2  Ciril    m     185\n",
      "3  Darja    ž     181\n",
      "4    Ema    ž     178\n",
      "5  Filip    m     167\n"
     ]
    }
   ],
   "source": [
    "pt2[\"visina\"] = pt1.visina\n",
    "print(pt2)"
   ]
  },
  {
   "cell_type": "markdown",
   "metadata": {},
   "source": [
    "Dodajmo zdaj tabeli podatke o rojstnih datumih, ki jih bomo naključno izbrali med datumi v letih 2001 in 2022."
   ]
  },
  {
   "cell_type": "code",
   "execution_count": 6,
   "metadata": {},
   "outputs": [
    {
     "name": "stdout",
     "output_type": "stream",
     "text": [
      "     ime spol  visina datum_rojstva\n",
      "0   Aleš    m     164    2001-04-15\n",
      "1  Brina    ž     153    2002-11-24\n",
      "2  Ciril    m     185    2002-07-13\n",
      "3  Darja    ž     181    2001-03-31\n",
      "4    Ema    ž     178    2002-08-28\n",
      "5  Filip    m     167    2002-03-09\n"
     ]
    }
   ],
   "source": [
    "# Določimo začetni in končni datum želenega obdobja\n",
    "datum_od = pd.to_datetime(\"2001-01-01\")\n",
    "datum_do = pd.to_datetime(\"2002-12-31\")\n",
    "\n",
    "# Izračunamo število dni od začetka do konca obdobja\n",
    "ndni = (datum_do - datum_od).days + 1\n",
    "\n",
    "# Ustvarimo potrebno število naključnih časovnih razlik v dnevih\n",
    "casovne_razlike = pd.to_timedelta([randint(0, ndni) for _ in range(pt1.ime.size)], unit = \"D\")\n",
    "# in jih prištejmo začetnemu datumu\n",
    "datumi = datum_od + casovne_razlike\n",
    "\n",
    "pt1[\"datum_rojstva\"] = datumi\n",
    "pt2[\"datum_rojstva\"] = datumi\n",
    "print(pt1)"
   ]
  },
  {
   "cell_type": "markdown",
   "metadata": {},
   "source": [
    "Zato, da tabeli dodamo nove vrstice bomo najprej spoznali atribute podatkovnih okvirov.\n",
    "\n",
    "## Atributi podatkovnih okvirov\n",
    "\n",
    "Spoznajmo zdaj nekaj koristnih atributov podatkovnih okvirov.\n",
    "\n",
    "| Atribut | Opis vrednosti |\n",
    "|:---|:---|\n",
    "| `shape` | Nabor oblike (število vrstic, število stolpcev) |\n",
    "| `size` | število elementov podatkovne tabele |\n",
    "| `columns` | imena (indeksi) stolpcev v podatkovni tabeli |\n",
    "| `dtypes` | podatkovni tipi stolpcev v tabeli |\n",
    "| `index` | indeksi (imena) vrstic v podatkovni tabeli |\n",
    "| `values` | polje tipa `np.array` z vrednostmi elementov tabele |\n",
    "| `at` in `iat` | indeksiranje _posameznih elementov tabele_ z imeni ali pozicijskimi indeksi |\n",
    "| `loc` in `iloc` | indeksiranje _poljubnih izsekov tabele_ z imeni ali pozicijskimi indeksi |\n",
    "\n",
    "Nekaj atributov si podatkovni okviri delijo z zaporedji in te že (delno) poznamo. Poglejmo za začetek `columns` in `dtypes`:"
   ]
  },
  {
   "cell_type": "code",
   "execution_count": 7,
   "metadata": {},
   "outputs": [
    {
     "name": "stdout",
     "output_type": "stream",
     "text": [
      "Index(['ime', 'spol', 'visina', 'datum_rojstva'], dtype='object')\n",
      "ime                      object\n",
      "spol                   category\n",
      "visina                    int64\n",
      "datum_rojstva    datetime64[ns]\n",
      "dtype: object\n"
     ]
    }
   ],
   "source": [
    "print(pt1.columns)\n",
    "print(pt1.dtypes)"
   ]
  },
  {
   "cell_type": "markdown",
   "metadata": {},
   "source": [
    "Atribut `columns` torej zaporedje tipa indeks z elementi enakimi imenom stolpcev v podatkovni tabeli. Atribut `dtypes` pa vrne zaporedje z omenjenimi indeksi (imena stolpcev), kjer je vrednost posameznega elementa enaka tipu podatkov v stolpcu. Spomnimo se, da zaporedje lahko hitro spremenimo v seznam njegovih elementov z uporabo metode `to_list`:"
   ]
  },
  {
   "cell_type": "code",
   "execution_count": 8,
   "metadata": {},
   "outputs": [
    {
     "name": "stdout",
     "output_type": "stream",
     "text": [
      "['ime', 'spol', 'visina', 'datum_rojstva']\n"
     ]
    }
   ],
   "source": [
    "print(pt1.columns.to_list())"
   ]
  },
  {
   "cell_type": "markdown",
   "metadata": {},
   "source": [
    "Atribut `index` je identičen po imenu in pomenu atributu zaporedij: vrne zaporedje tipa indeks z elementi enakimi indeksom vrstic v podatkovni tabeli. Na tem mestu je najbrž jasno, da je število elementov atributa `index` enako številu vrstic v tabeli, število elementov atributa `columns` pa številu stolpcev:"
   ]
  },
  {
   "cell_type": "code",
   "execution_count": 9,
   "metadata": {},
   "outputs": [
    {
     "name": "stdout",
     "output_type": "stream",
     "text": [
      "True\n"
     ]
    }
   ],
   "source": [
    "print((len(pt1.index), len(pt1.columns)) == pt1.shape)"
   ]
  },
  {
   "cell_type": "markdown",
   "metadata": {},
   "source": [
    "Zmnožek obeh pa število elementov v podatkovni tabeli:"
   ]
  },
  {
   "cell_type": "code",
   "execution_count": 10,
   "metadata": {},
   "outputs": [
    {
     "name": "stdout",
     "output_type": "stream",
     "text": [
      "True\n"
     ]
    }
   ],
   "source": [
    "print(pt1.shape[0] * pt1.shape[1] == pt1.size)"
   ]
  },
  {
   "cell_type": "markdown",
   "metadata": {},
   "source": [
    "Kot pove tabela, atribut `values` hrani polje tipa `np.array` z vrednostmi elementov podatkovne tabele:"
   ]
  },
  {
   "cell_type": "code",
   "execution_count": 11,
   "metadata": {},
   "outputs": [
    {
     "name": "stdout",
     "output_type": "stream",
     "text": [
      "[['Aleš' 'm' 164 Timestamp('2001-04-15 00:00:00')]\n",
      " ['Brina' 'ž' 153 Timestamp('2002-11-24 00:00:00')]\n",
      " ['Ciril' 'm' 185 Timestamp('2002-07-13 00:00:00')]\n",
      " ['Darja' 'ž' 181 Timestamp('2001-03-31 00:00:00')]\n",
      " ['Ema' 'ž' 178 Timestamp('2002-08-28 00:00:00')]\n",
      " ['Filip' 'm' 167 Timestamp('2002-03-09 00:00:00')]]\n"
     ]
    }
   ],
   "source": [
    "print(pt1.values)"
   ]
  },
  {
   "cell_type": "markdown",
   "metadata": {},
   "source": [
    "## Indeksiranje podatkovnih okvirov\n",
    "\n",
    "Atributa `loc` in `iloc` prav tako poznamo iz zaporedij.\n",
    "\n",
    "Atribut `loc` uporabljamo za indeksiranje tabele z naborom dveh seznamov (ali zaporedij). Prvi seznam podaja imena indeksiranih vrstic, drugi imena indeksiranih stolpcev. Če je vrednost elementa nabora `:`, dobimo kot rezultat indeksiranja vse vrstice oziroma stolpce. Znak `:` lahko uporabljamo kot ločilo za določanje _rezin_ indeksov, tako kot pri indeksiranju običajnih Pythonovih seznamov. Nekaj primerov:"
   ]
  },
  {
   "cell_type": "code",
   "execution_count": 12,
   "metadata": {},
   "outputs": [
    {
     "name": "stdout",
     "output_type": "stream",
     "text": [
      "0     Aleš\n",
      "1    Brina\n",
      "2    Ciril\n",
      "3    Darja\n",
      "4      Ema\n",
      "5    Filip\n",
      "Name: ime, dtype: object\n",
      "     ime\n",
      "0   Aleš\n",
      "1  Brina\n",
      "2  Ciril\n",
      "3  Darja\n",
      "4    Ema\n",
      "5  Filip\n",
      "     ime spol  visina\n",
      "2  Ciril    m     185\n",
      "1  Brina    ž     153\n",
      "0   Aleš    m     164\n",
      "     ime  visina\n",
      "0   Aleš     164\n",
      "3  Darja     181\n",
      "3  Darja     181\n",
      "5  Filip     167\n"
     ]
    }
   ],
   "source": [
    "print(pt1.loc[:, \"ime\"])\n",
    "print(pt1.loc[:, [\"ime\"]])\n",
    "print(pt1.loc[2:0:-1, \"ime\":\"visina\"])\n",
    "print(pt1.loc[[0, 3, 3, 5], [\"ime\", \"visina\"]])"
   ]
  },
  {
   "cell_type": "markdown",
   "metadata": {},
   "source": [
    "Za vajo pojasni razliko med prvim in drugim primerom indeksiranja zgoraj. Nato pojasni napako, ki jo dobimo, ko poskušamo primerjati rezultata obeh indeksiranj:"
   ]
  },
  {
   "cell_type": "code",
   "execution_count": 13,
   "metadata": {},
   "outputs": [
    {
     "ename": "ValueError",
     "evalue": "Operands are not aligned. Do `left, right = left.align(right, axis=1, copy=False)` before operating.",
     "output_type": "error",
     "traceback": [
      "\u001b[0;31m---------------------------------------------------------------------------\u001b[0m",
      "\u001b[0;31mValueError\u001b[0m                                Traceback (most recent call last)",
      "\u001b[0;32m/var/folders/g7/xgt9ckmj6g1404knwg8j5rkc0000gn/T/ipykernel_5466/4100154151.py\u001b[0m in \u001b[0;36m?\u001b[0;34m()\u001b[0m\n\u001b[0;32m----> 1\u001b[0;31m \u001b[0mpt1\u001b[0m\u001b[0;34m.\u001b[0m\u001b[0mloc\u001b[0m\u001b[0;34m[\u001b[0m\u001b[0;34m:\u001b[0m\u001b[0;34m,\u001b[0m \u001b[0;34m\"ime\"\u001b[0m\u001b[0;34m]\u001b[0m \u001b[0;34m==\u001b[0m \u001b[0mpt1\u001b[0m\u001b[0;34m.\u001b[0m\u001b[0mloc\u001b[0m\u001b[0;34m[\u001b[0m\u001b[0;34m:\u001b[0m\u001b[0;34m,\u001b[0m \u001b[0;34m[\u001b[0m\u001b[0;34m\"ime\"\u001b[0m\u001b[0;34m]\u001b[0m\u001b[0;34m]\u001b[0m\u001b[0;34m\u001b[0m\u001b[0;34m\u001b[0m\u001b[0m\n\u001b[0m",
      "\u001b[0;32m~/predmeti/pandas/venv/lib/python3.11/site-packages/pandas/core/ops/common.py\u001b[0m in \u001b[0;36m?\u001b[0;34m(self, other)\u001b[0m\n\u001b[1;32m     72\u001b[0m                     \u001b[0;32mreturn\u001b[0m \u001b[0mNotImplemented\u001b[0m\u001b[0;34m\u001b[0m\u001b[0;34m\u001b[0m\u001b[0m\n\u001b[1;32m     73\u001b[0m \u001b[0;34m\u001b[0m\u001b[0m\n\u001b[1;32m     74\u001b[0m         \u001b[0mother\u001b[0m \u001b[0;34m=\u001b[0m \u001b[0mitem_from_zerodim\u001b[0m\u001b[0;34m(\u001b[0m\u001b[0mother\u001b[0m\u001b[0;34m)\u001b[0m\u001b[0;34m\u001b[0m\u001b[0;34m\u001b[0m\u001b[0m\n\u001b[1;32m     75\u001b[0m \u001b[0;34m\u001b[0m\u001b[0m\n\u001b[0;32m---> 76\u001b[0;31m         \u001b[0;32mreturn\u001b[0m \u001b[0mmethod\u001b[0m\u001b[0;34m(\u001b[0m\u001b[0mself\u001b[0m\u001b[0;34m,\u001b[0m \u001b[0mother\u001b[0m\u001b[0;34m)\u001b[0m\u001b[0;34m\u001b[0m\u001b[0;34m\u001b[0m\u001b[0m\n\u001b[0m",
      "\u001b[0;32m~/predmeti/pandas/venv/lib/python3.11/site-packages/pandas/core/arraylike.py\u001b[0m in \u001b[0;36m?\u001b[0;34m(self, other)\u001b[0m\n\u001b[1;32m     38\u001b[0m     \u001b[0;34m@\u001b[0m\u001b[0munpack_zerodim_and_defer\u001b[0m\u001b[0;34m(\u001b[0m\u001b[0;34m\"__eq__\"\u001b[0m\u001b[0;34m)\u001b[0m\u001b[0;34m\u001b[0m\u001b[0;34m\u001b[0m\u001b[0m\n\u001b[1;32m     39\u001b[0m     \u001b[0;32mdef\u001b[0m \u001b[0m__eq__\u001b[0m\u001b[0;34m(\u001b[0m\u001b[0mself\u001b[0m\u001b[0;34m,\u001b[0m \u001b[0mother\u001b[0m\u001b[0;34m)\u001b[0m\u001b[0;34m:\u001b[0m\u001b[0;34m\u001b[0m\u001b[0;34m\u001b[0m\u001b[0m\n\u001b[0;32m---> 40\u001b[0;31m         \u001b[0;32mreturn\u001b[0m \u001b[0mself\u001b[0m\u001b[0;34m.\u001b[0m\u001b[0m_cmp_method\u001b[0m\u001b[0;34m(\u001b[0m\u001b[0mother\u001b[0m\u001b[0;34m,\u001b[0m \u001b[0moperator\u001b[0m\u001b[0;34m.\u001b[0m\u001b[0meq\u001b[0m\u001b[0;34m)\u001b[0m\u001b[0;34m\u001b[0m\u001b[0;34m\u001b[0m\u001b[0m\n\u001b[0m",
      "\u001b[0;32m~/predmeti/pandas/venv/lib/python3.11/site-packages/pandas/core/frame.py\u001b[0m in \u001b[0;36m?\u001b[0;34m(self, other, op)\u001b[0m\n\u001b[1;32m   7628\u001b[0m     \u001b[0;32mdef\u001b[0m \u001b[0m_cmp_method\u001b[0m\u001b[0;34m(\u001b[0m\u001b[0mself\u001b[0m\u001b[0;34m,\u001b[0m \u001b[0mother\u001b[0m\u001b[0;34m,\u001b[0m \u001b[0mop\u001b[0m\u001b[0;34m)\u001b[0m\u001b[0;34m:\u001b[0m\u001b[0;34m\u001b[0m\u001b[0;34m\u001b[0m\u001b[0m\n\u001b[1;32m   7629\u001b[0m         \u001b[0maxis\u001b[0m\u001b[0;34m:\u001b[0m \u001b[0mLiteral\u001b[0m\u001b[0;34m[\u001b[0m\u001b[0;36m1\u001b[0m\u001b[0;34m]\u001b[0m \u001b[0;34m=\u001b[0m \u001b[0;36m1\u001b[0m  \u001b[0;31m# only relevant for Series other case\u001b[0m\u001b[0;34m\u001b[0m\u001b[0;34m\u001b[0m\u001b[0m\n\u001b[1;32m   7630\u001b[0m \u001b[0;34m\u001b[0m\u001b[0m\n\u001b[0;32m-> 7631\u001b[0;31m         \u001b[0mself\u001b[0m\u001b[0;34m,\u001b[0m \u001b[0mother\u001b[0m \u001b[0;34m=\u001b[0m \u001b[0mself\u001b[0m\u001b[0;34m.\u001b[0m\u001b[0m_align_for_op\u001b[0m\u001b[0;34m(\u001b[0m\u001b[0mother\u001b[0m\u001b[0;34m,\u001b[0m \u001b[0maxis\u001b[0m\u001b[0;34m,\u001b[0m \u001b[0mflex\u001b[0m\u001b[0;34m=\u001b[0m\u001b[0;32mFalse\u001b[0m\u001b[0;34m,\u001b[0m \u001b[0mlevel\u001b[0m\u001b[0;34m=\u001b[0m\u001b[0;32mNone\u001b[0m\u001b[0;34m)\u001b[0m\u001b[0;34m\u001b[0m\u001b[0;34m\u001b[0m\u001b[0m\n\u001b[0m\u001b[1;32m   7632\u001b[0m \u001b[0;34m\u001b[0m\u001b[0m\n\u001b[1;32m   7633\u001b[0m         \u001b[0;31m# See GH#4537 for discussion of scalar op behavior\u001b[0m\u001b[0;34m\u001b[0m\u001b[0;34m\u001b[0m\u001b[0m\n\u001b[1;32m   7634\u001b[0m         \u001b[0mnew_data\u001b[0m \u001b[0;34m=\u001b[0m \u001b[0mself\u001b[0m\u001b[0;34m.\u001b[0m\u001b[0m_dispatch_frame_op\u001b[0m\u001b[0;34m(\u001b[0m\u001b[0mother\u001b[0m\u001b[0;34m,\u001b[0m \u001b[0mop\u001b[0m\u001b[0;34m,\u001b[0m \u001b[0maxis\u001b[0m\u001b[0;34m=\u001b[0m\u001b[0maxis\u001b[0m\u001b[0;34m)\u001b[0m\u001b[0;34m\u001b[0m\u001b[0;34m\u001b[0m\u001b[0m\n",
      "\u001b[0;32m~/predmeti/pandas/venv/lib/python3.11/site-packages/pandas/core/frame.py\u001b[0m in \u001b[0;36m?\u001b[0;34m(self, other, axis, flex, level)\u001b[0m\n\u001b[1;32m   7935\u001b[0m             \u001b[0;31m# axis=1 is default for DataFrame-with-Series op\u001b[0m\u001b[0;34m\u001b[0m\u001b[0;34m\u001b[0m\u001b[0m\n\u001b[1;32m   7936\u001b[0m             \u001b[0maxis\u001b[0m \u001b[0;34m=\u001b[0m \u001b[0maxis\u001b[0m \u001b[0;32mif\u001b[0m \u001b[0maxis\u001b[0m \u001b[0;32mis\u001b[0m \u001b[0;32mnot\u001b[0m \u001b[0;32mNone\u001b[0m \u001b[0;32melse\u001b[0m \u001b[0;36m1\u001b[0m\u001b[0;34m\u001b[0m\u001b[0;34m\u001b[0m\u001b[0m\n\u001b[1;32m   7937\u001b[0m             \u001b[0;32mif\u001b[0m \u001b[0;32mnot\u001b[0m \u001b[0mflex\u001b[0m\u001b[0;34m:\u001b[0m\u001b[0;34m\u001b[0m\u001b[0;34m\u001b[0m\u001b[0m\n\u001b[1;32m   7938\u001b[0m                 \u001b[0;32mif\u001b[0m \u001b[0;32mnot\u001b[0m \u001b[0mleft\u001b[0m\u001b[0;34m.\u001b[0m\u001b[0maxes\u001b[0m\u001b[0;34m[\u001b[0m\u001b[0maxis\u001b[0m\u001b[0;34m]\u001b[0m\u001b[0;34m.\u001b[0m\u001b[0mequals\u001b[0m\u001b[0;34m(\u001b[0m\u001b[0mright\u001b[0m\u001b[0;34m.\u001b[0m\u001b[0mindex\u001b[0m\u001b[0;34m)\u001b[0m\u001b[0;34m:\u001b[0m\u001b[0;34m\u001b[0m\u001b[0;34m\u001b[0m\u001b[0m\n\u001b[0;32m-> 7939\u001b[0;31m                     raise ValueError(\n\u001b[0m\u001b[1;32m   7940\u001b[0m                         \u001b[0;34m\"Operands are not aligned. Do \"\u001b[0m\u001b[0;34m\u001b[0m\u001b[0;34m\u001b[0m\u001b[0m\n\u001b[1;32m   7941\u001b[0m                         \u001b[0;34m\"`left, right = left.align(right, axis=1, copy=False)` \"\u001b[0m\u001b[0;34m\u001b[0m\u001b[0;34m\u001b[0m\u001b[0m\n\u001b[1;32m   7942\u001b[0m                         \u001b[0;34m\"before operating.\"\u001b[0m\u001b[0;34m\u001b[0m\u001b[0;34m\u001b[0m\u001b[0m\n",
      "\u001b[0;31mValueError\u001b[0m: Operands are not aligned. Do `left, right = left.align(right, axis=1, copy=False)` before operating."
     ]
    }
   ],
   "source": [
    "pt1.loc[:, \"ime\"] == pt1.loc[:, [\"ime\"]]"
   ]
  },
  {
   "cell_type": "markdown",
   "metadata": {},
   "source": [
    "Atribut `loc` nam torej omogoča indeksiranje podatkovnih tabel (pa tudi zaporedij) s seznami ali zaporedji imen (indeksov) stolpcev in vrstic. To presega običajne zmožnosti indeksiranja običajnih Pythonovih seznamov.\n",
    "\n",
    "Podoben in zelo koristen presežek ponuja indeksiranje s seznami logičnih (Boolovih) vrednosti:"
   ]
  },
  {
   "cell_type": "code",
   "execution_count": 14,
   "metadata": {},
   "outputs": [
    {
     "name": "stdout",
     "output_type": "stream",
     "text": [
      "     ime spol  visina datum_rojstva\n",
      "1  Brina    ž     153    2002-11-24\n",
      "4    Ema    ž     178    2002-08-28\n"
     ]
    }
   ],
   "source": [
    "print(pt1.loc[[False, True, False, False, True, False], :])"
   ]
  },
  {
   "cell_type": "markdown",
   "metadata": {},
   "source": [
    "Na prvi pogled indeksiranje s seznamom Boolovih vrednosti ne zgleda ravno koristno. To možnost skoraj vedno uporabljamo v kombinaciji z zmožnostjo primerjave zaporedij in skalarjev, ki ga omogoča knjižnica `pandas`:"
   ]
  },
  {
   "cell_type": "code",
   "execution_count": 15,
   "metadata": {},
   "outputs": [
    {
     "name": "stdout",
     "output_type": "stream",
     "text": [
      "0     True\n",
      "1    False\n",
      "2     True\n",
      "3    False\n",
      "4    False\n",
      "5     True\n",
      "Name: spol, dtype: bool\n"
     ]
    }
   ],
   "source": [
    "print(pt1.spol == \"m\")"
   ]
  },
  {
   "cell_type": "markdown",
   "metadata": {},
   "source": [
    "S to kombinacijo lahko hitro napišemo zelo koristno indeksiranje, ki nam omogoča hitre podatkovne poizvedbe. Primer take poizvedbe je \"Izpiši imena oseb moškega spola\":"
   ]
  },
  {
   "cell_type": "code",
   "execution_count": 16,
   "metadata": {},
   "outputs": [
    {
     "name": "stdout",
     "output_type": "stream",
     "text": [
      "['Aleš', 'Ciril', 'Filip']\n"
     ]
    }
   ],
   "source": [
    "print(pt1.loc[pt1.spol == \"m\", \"ime\"].to_list())"
   ]
  },
  {
   "cell_type": "markdown",
   "metadata": {},
   "source": [
    "V zgornjem primeru kombiniramo indeksiranje vrstic s seznamom Boolovih vrednosti in indeksiranje stolpca z njegovim imenom. Dobljeno zaporedje z metodo `to_list` pretvorimo v seznam.\n",
    "\n",
    "Podobno lahko dobimo podatke za osebe, ki so rojene leta 2002 ali pozneje:"
   ]
  },
  {
   "cell_type": "code",
   "execution_count": 17,
   "metadata": {},
   "outputs": [
    {
     "name": "stdout",
     "output_type": "stream",
     "text": [
      "     ime spol  visina datum_rojstva\n",
      "1  Brina    ž     153    2002-11-24\n",
      "2  Ciril    m     185    2002-07-13\n",
      "4    Ema    ž     178    2002-08-28\n",
      "5  Filip    m     167    2002-03-09\n"
     ]
    }
   ],
   "source": [
    "print(pt1.loc[(pt1.datum_rojstva > pd.to_datetime(\"2001-12-31\")), :])"
   ]
  },
  {
   "cell_type": "markdown",
   "metadata": {},
   "source": [
    "Za razliko od atributa `loc`, `iloc` nam omogoča bolj enostavno, običajno Pythonovsko indeksiranje podatkovnih tabel s pozicijskimi indeksi (celimi števili) in rezinami (izrazi zgrajeni s kombinacijo celih števil in znaka `:`). Na primer:"
   ]
  },
  {
   "cell_type": "code",
   "execution_count": 18,
   "metadata": {},
   "outputs": [
    {
     "name": "stdout",
     "output_type": "stream",
     "text": [
      "     ime spol\n",
      "2  Ciril    m\n",
      "3  Darja    ž\n",
      "4    Ema    ž\n"
     ]
    }
   ],
   "source": [
    "print(pt1.iloc[2:-1, :2])"
   ]
  },
  {
   "cell_type": "markdown",
   "metadata": {},
   "source": [
    "Poglejmo zdaj kombinacijo atributov `iloc` in `shape`, ki nam omogoča dodajanje nove vrstice podatkovni tabeli:"
   ]
  },
  {
   "cell_type": "code",
   "execution_count": 19,
   "metadata": {},
   "outputs": [
    {
     "name": "stdout",
     "output_type": "stream",
     "text": [
      "      ime spol  visina datum_rojstva\n",
      "0    Aleš    m     164    2001-04-15\n",
      "1   Brina    ž     153    2002-11-24\n",
      "2   Ciril    m     185    2002-07-13\n",
      "3   Darja    ž     181    2001-03-31\n",
      "4     Ema    ž     178    2002-08-28\n",
      "5   Filip    m     167    2002-03-09\n",
      "6  Gregor    m     181    2002-07-29\n"
     ]
    }
   ],
   "source": [
    "nova_vrstica = [\"Gregor\", \"m\", 181, pd.to_datetime(\"2002-07-29\")]\n",
    "pt1.loc[pt1.shape[0]] = nova_vrstica\n",
    "pt2.loc[pt2.shape[0]] = nova_vrstica\n",
    "print(pt1)"
   ]
  },
  {
   "cell_type": "markdown",
   "metadata": {},
   "source": [
    "Nazadnje, `at` in `iat` nam podobno kot `loc` in `iloc` omogočata indeksiranje posameznih elementov podatkovne tabele:"
   ]
  },
  {
   "cell_type": "code",
   "execution_count": 20,
   "metadata": {},
   "outputs": [
    {
     "name": "stdout",
     "output_type": "stream",
     "text": [
      "Brina\n",
      "2002-07-29 00:00:00\n"
     ]
    }
   ],
   "source": [
    "print(pt1.at[1, \"ime\"])\n",
    "print(pt1.iat[-1, -1])"
   ]
  },
  {
   "cell_type": "markdown",
   "metadata": {},
   "source": [
    "---"
   ]
  },
  {
   "cell_type": "markdown",
   "metadata": {},
   "source": [
    "# Poravnava indeksov\n",
    "\n",
    "Poravnava (angl. _allignment_) indeksov je postopek samodejnega usklajevanja imen (indeksov) vrstic in stolpcev med različnimi podatkovnimi strukturami, kot so zaporedja in podatkovne tabele. Poravnava poskrbi, da se elementi z enakimi indeksi poravnajo in upoštevajo njihove vrednosti. Elementi pri neobstoječih indeksih so označeni kot manjkajoči podatki (`NaN`).\n",
    "\n",
    "## Samodejna poravnava\n",
    "\n",
    "Poglejmo primer obravnave časovne vrste za prvih deset dni meseca oktobra leta 2023:"
   ]
  },
  {
   "cell_type": "code",
   "execution_count": 21,
   "metadata": {},
   "outputs": [
    {
     "name": "stdout",
     "output_type": "stream",
     "text": [
      "2023-10-01    0.278854\n",
      "2023-10-02   -0.949978\n",
      "2023-10-03   -0.449941\n",
      "2023-10-04   -0.553579\n",
      "2023-10-05    0.472942\n",
      "2023-10-06    0.353399\n",
      "2023-10-07    0.784359\n",
      "2023-10-08   -0.826122\n",
      "2023-10-09   -0.156156\n",
      "2023-10-10   -0.940406\n",
      "dtype: float64\n"
     ]
    }
   ],
   "source": [
    "from random import uniform\n",
    "\n",
    "seed(42)\n",
    "\n",
    "datumi = pd.Series(pd.date_range(\"2023-10\", freq = \"D\", periods = 10))\n",
    "vrednosti = [uniform(-1, 1) for _ in range(len(datumi))]\n",
    "\n",
    "z0 = pd.Series(vrednosti, index = datumi)\n",
    "#z0 = pd.Series(vrednosti)\n",
    "print(z0)"
   ]
  },
  {
   "cell_type": "markdown",
   "metadata": {},
   "source": [
    "Denimo zdaj, da želimo sestaviti podatkovno tabelo s tremi stolpci $z_t$, $z_{t+1}$ in $z_{t+2}$ imenovanimi `Z_t`, `Z_t_1` in `Z_t_2`, kjer indeks hrani datum `t`, prvi stolpec hrani vrednost časovne vrste v časovni točki `t`, drugi stolpec vrednost v točki `t+1` in tretji vrednost v točki `t+2`.\n",
    "\n",
    "Prvi stolpec te podatkovne tabele smo že ustvarili v prejšnjem primeru, indeksi v zaporedju `z0` tečejo po datumih, vrednosti elementov so vrednosti časovne. Drugi stolpec želene tabele bi lahko dobili tako, da bi elemente tega zaporedja zamaknili za eno pozicijo levo (oziroma, če opazujemo izpis zaporedja, za eno pozicijo navzgor). Najprej naredimo funkcijo, ki naredi zamik zaporedja, nato originalno in oba zamaknjena zaporedja združimo v želeno podatkovno tabelo:"
   ]
  },
  {
   "cell_type": "code",
   "execution_count": 22,
   "metadata": {},
   "outputs": [
    {
     "name": "stdout",
     "output_type": "stream",
     "text": [
      "                 Z_t     Z_t_1     Z_t_2\n",
      "2023-10-01  0.278854       NaN       NaN\n",
      "2023-10-02 -0.949978 -0.949978       NaN\n",
      "2023-10-03 -0.449941 -0.449941 -0.449941\n",
      "2023-10-04 -0.553579 -0.553579 -0.553579\n",
      "2023-10-05  0.472942  0.472942  0.472942\n",
      "2023-10-06  0.353399  0.353399  0.353399\n",
      "2023-10-07  0.784359  0.784359  0.784359\n",
      "2023-10-08 -0.826122 -0.826122 -0.826122\n",
      "2023-10-09 -0.156156 -0.156156 -0.156156\n",
      "2023-10-10 -0.940406 -0.940406 -0.940406\n"
     ]
    }
   ],
   "source": [
    "def zamik(z):\n",
    "    return z[1:]\n",
    "\n",
    "z1 = zamik(z0)\n",
    "z2 = zamik(z1)\n",
    "\n",
    "pt_z = pd.DataFrame({\n",
    "    \"Z_t\": z0,\n",
    "    \"Z_t_1\": z1,\n",
    "    \"Z_t_2\": z2\n",
    "})\n",
    "print(pt_z)"
   ]
  },
  {
   "cell_type": "markdown",
   "metadata": {},
   "source": [
    "Rezultat ne ustreza našemu pričakovanju, saj bi si želeli, da so elementi prve vrstice podatkovne tabele enaki prvemu, drugemu in tretjemu elementu časovne vrste.\n",
    "\n",
    "Zakaj se to ni zgodilo? Prvič zato, ker iz zgornjega zapisa vidimo, da pri združevanju zaporedij v podatkovne tabele, `pandas` upošteva indekse: elemente zaporedij v združeni tabeli **poravna** tako, da elementi zaporedij ohranijo indekse, torej delijo enak skupni indeks in so združeni v eni vrstici. Drugič zato, ker funkcija `zamik` vrne rezultat z naslednjimi indeksi:"
   ]
  },
  {
   "cell_type": "code",
   "execution_count": 23,
   "metadata": {},
   "outputs": [
    {
     "name": "stdout",
     "output_type": "stream",
     "text": [
      "2023-10-02   -0.949978\n",
      "2023-10-03   -0.449941\n",
      "2023-10-04   -0.553579\n",
      "2023-10-05    0.472942\n",
      "2023-10-06    0.353399\n",
      "2023-10-07    0.784359\n",
      "2023-10-08   -0.826122\n",
      "2023-10-09   -0.156156\n",
      "2023-10-10   -0.940406\n",
      "dtype: float64\n"
     ]
    }
   ],
   "source": [
    "print(zamik(z0))"
   ]
  },
  {
   "cell_type": "markdown",
   "metadata": {},
   "source": [
    "Iz zgornjega izpisa lahko ugotovimo, da zamaknjena časovna vrsta nima ustreznih indeksov, saj bi mi želeli, da bi bila vrednost spremenljivke $z_{t+1}$ enaka drugemu elementu časovne $z_2$ v prvi časovni točki `2023-10-01`. Rezultat funkcije `zamik` pa dodeli točki `z_2` indeks enak drugi časovni točki `2023-10-02`.\n",
    "\n",
    "Kako to popravimo? Tako, da smo previdni pri zamikanju elementov zaporedja:"
   ]
  },
  {
   "cell_type": "code",
   "execution_count": 24,
   "metadata": {},
   "outputs": [
    {
     "name": "stdout",
     "output_type": "stream",
     "text": [
      "2023-10-01   -0.949978\n",
      "2023-10-02   -0.449941\n",
      "2023-10-03   -0.553579\n",
      "2023-10-04    0.472942\n",
      "2023-10-05    0.353399\n",
      "2023-10-06    0.784359\n",
      "2023-10-07   -0.826122\n",
      "2023-10-08   -0.156156\n",
      "2023-10-09   -0.940406\n",
      "dtype: float64\n"
     ]
    }
   ],
   "source": [
    "def zamik(z):\n",
    "    zz = z[1:]\n",
    "    zz.index = z.index[:-1]\n",
    "    return zz\n",
    "\n",
    "print(zamik(z0))"
   ]
  },
  {
   "cell_type": "markdown",
   "metadata": {},
   "source": [
    "Indeksi so zdaj pravilni, poskusimo še enkrat:"
   ]
  },
  {
   "cell_type": "code",
   "execution_count": 25,
   "metadata": {},
   "outputs": [
    {
     "name": "stdout",
     "output_type": "stream",
     "text": [
      "                 Z_t     Z_t_1     Z_t_2\n",
      "2023-10-01  0.278854 -0.949978 -0.449941\n",
      "2023-10-02 -0.949978 -0.449941 -0.553579\n",
      "2023-10-03 -0.449941 -0.553579  0.472942\n",
      "2023-10-04 -0.553579  0.472942  0.353399\n",
      "2023-10-05  0.472942  0.353399  0.784359\n",
      "2023-10-06  0.353399  0.784359 -0.826122\n",
      "2023-10-07  0.784359 -0.826122 -0.156156\n",
      "2023-10-08 -0.826122 -0.156156 -0.940406\n",
      "2023-10-09 -0.156156 -0.940406       NaN\n",
      "2023-10-10 -0.940406       NaN       NaN\n"
     ]
    }
   ],
   "source": [
    "z1 = zamik(z0)\n",
    "z2 = zamik(z1)\n",
    "\n",
    "pt_z = pd.DataFrame({\n",
    "    \"Z_t\": z0,\n",
    "    \"Z_t_1\": z1,\n",
    "    \"Z_t_2\": z2\n",
    "})\n",
    "print(pt_z)"
   ]
  },
  {
   "cell_type": "markdown",
   "metadata": {},
   "source": [
    "## Ročna poravnava ali poravnava na zahtevo\n",
    "\n",
    "Klic funkcije `align` nam omogoča opraviti poravnavo indeksov dveh zaporedij pred njihovim združevanjem v podatkovno tabelo. Koristna je takrat, ko so elementi vsakega zaporedja opazovani pri različnih vrednostih indeksov."
   ]
  },
  {
   "cell_type": "code",
   "execution_count": 26,
   "metadata": {},
   "outputs": [],
   "source": [
    "z1 = pd.Series([1, 2, 3, 4], index = [3, 5, 2, 0])\n",
    "z2 = pd.Series([1, 2, 3, 4], index = [5, 0, 1, 4])"
   ]
  },
  {
   "cell_type": "markdown",
   "metadata": {},
   "source": [
    "Če ta dva zaporedja združimo v podatkovno tabelo dobimo naslednji rezultat:"
   ]
  },
  {
   "cell_type": "code",
   "execution_count": 27,
   "metadata": {},
   "outputs": [
    {
     "name": "stdout",
     "output_type": "stream",
     "text": [
      "    Z1   Z2\n",
      "0  4.0  2.0\n",
      "1  NaN  3.0\n",
      "2  3.0  NaN\n",
      "3  1.0  NaN\n",
      "4  NaN  4.0\n",
      "5  2.0  1.0\n"
     ]
    }
   ],
   "source": [
    "pt = pd.DataFrame({\"Z1\": z1, \"Z2\": z2})\n",
    "print(pt)"
   ]
  },
  {
   "cell_type": "markdown",
   "metadata": {},
   "source": [
    "Rezultat je pričakovan, saj pri združevanju zaporedij `pandas` opravi samodejno poravnavo indeksov zaporedij `z1` in `z2`. Tam, kjer manjka element z ustreznim indeksom ima element podatkovne tabele neznano vrednost `NaN`.\n",
    "\n",
    "Funkcija `align` nam omogoča ročno in hkrati bolj fleksibilno poravnavo indeksov z uporabo argumenta `join`. Slednji ima štiri možne vrednosti, ki določajo različne oblike poravnave:\n",
    "\n",
    "  * `left`: uporabi zgolj _indekse prvega (levega) zaporedja_ in ohrani njihov vrstni red,\n",
    "  * `right`: uporabi zgolj _indekse drugega (desnega) zaporedja_ in ohrani njihov vrstni red,\n",
    "  * `inner`: uporabi indekse, ki se _pojavijo v obeh zaporedjih_, in upoštevaj vrstni red indeksov v prvem zaporedju; ter\n",
    "  * `outer`, privzeta vrednost: uporabi indekse, ki se _pojavijo vsaj v enem zaporedju_, in uredi indekse leksikografsko, v \"naravnem\" vrstnem redu.\n",
    "\n",
    "Poglejmo primere različnih nastavitev argumenta `join`:"
   ]
  },
  {
   "cell_type": "code",
   "execution_count": 28,
   "metadata": {},
   "outputs": [
    {
     "name": "stdout",
     "output_type": "stream",
     "text": [
      "   Z1   Z2\n",
      "3   1  NaN\n",
      "5   2  1.0\n",
      "2   3  NaN\n",
      "0   4  2.0\n"
     ]
    }
   ],
   "source": [
    "z1p, z2p = z1.align(z2, join = \"left\")\n",
    "pt = pd.DataFrame({\"Z1\": z1p, \"Z2\": z2p})\n",
    "print(pt)"
   ]
  },
  {
   "cell_type": "code",
   "execution_count": 29,
   "metadata": {},
   "outputs": [
    {
     "name": "stdout",
     "output_type": "stream",
     "text": [
      "    Z1  Z2\n",
      "5  2.0   1\n",
      "0  4.0   2\n",
      "1  NaN   3\n",
      "4  NaN   4\n"
     ]
    }
   ],
   "source": [
    "z1p, z2p = z1.align(z2, join = \"right\")\n",
    "pt = pd.DataFrame({\"Z1\": z1p, \"Z2\": z2p})\n",
    "print(pt)"
   ]
  },
  {
   "cell_type": "code",
   "execution_count": 30,
   "metadata": {},
   "outputs": [
    {
     "name": "stdout",
     "output_type": "stream",
     "text": [
      "   Z1  Z2\n",
      "5   2   1\n",
      "0   4   2\n"
     ]
    }
   ],
   "source": [
    "z1p, z2p = z1.align(z2, join = \"inner\")\n",
    "pt = pd.DataFrame({\"Z1\": z1p, \"Z2\": z2p})\n",
    "print(pt)"
   ]
  },
  {
   "cell_type": "code",
   "execution_count": 31,
   "metadata": {},
   "outputs": [
    {
     "name": "stdout",
     "output_type": "stream",
     "text": [
      "    Z1   Z2\n",
      "0  4.0  2.0\n",
      "1  NaN  3.0\n",
      "2  3.0  NaN\n",
      "3  1.0  NaN\n",
      "4  NaN  4.0\n",
      "5  2.0  1.0\n"
     ]
    }
   ],
   "source": [
    "z1p, z2p = z1.align(z2, join = \"outer\")\n",
    "pt = pd.DataFrame({\"Z1\": z1p, \"Z2\": z2p})\n",
    "print(pt)"
   ]
  },
  {
   "cell_type": "markdown",
   "metadata": {},
   "source": [
    "Kot vidimo iz zgornjih primerov, samodejna poravnava zaporedij pri njihovem združevanju v podatkovno tabelo uporablja privzeto nastavitev argumenta `join = \"outer\"`.\n",
    "\n",
    "Drugi način poravnave indeksov, ki se izogne vpeljevanju neznanih vrednosti, ponuja funkcija `reindex`. S klicem te funkcije na novo indeksiramo elemente enega zaporedja s podanim indeksom drugega zaporedja. Pri tem imamo na voljo argument `method`: če nastavimo njegovo vrednost na `\"nearest\"`, bodo indeksi prvega zaporedja nastavljeni _čim bližje_ podanim novim indeksom, t.j., indeksom drugega zaporedja. Pri uporabi te metode moramo poskrbeti, da so indeksi prvega zaporedja urejeni, kar lahko dosežemo z uporabo funkcije (metode) `sort_index`."
   ]
  },
  {
   "cell_type": "code",
   "execution_count": 32,
   "metadata": {},
   "outputs": [
    {
     "name": "stdout",
     "output_type": "stream",
     "text": [
      "Zaporedje pred poravnavo:\n",
      "0    4\n",
      "2    3\n",
      "3    1\n",
      "5    2\n",
      "dtype: int64\n",
      "Novi indeks:Index([5, 0, 1, 4], dtype='int64')\n",
      "Zaporedje po poravnavi:\n",
      "5    2\n",
      "0    4\n",
      "1    3\n",
      "4    2\n",
      "dtype: int64\n"
     ]
    }
   ],
   "source": [
    "z1s = z1.sort_index()\n",
    "print(f\"Zaporedje pred poravnavo:\\n{z1s}\")\n",
    "z1p = z1s.reindex(z2.index, method = \"nearest\")\n",
    "print(f\"Novi indeks:{z2.index}\")\n",
    "print(f\"Zaporedje po poravnavi:\\n{z1p}\")"
   ]
  },
  {
   "cell_type": "markdown",
   "metadata": {},
   "source": [
    "Vidimo torej, da je zaporedje `z1` po poravnavi (ponovnem indeksiranju) ima enake indekse kot zaporedje `z2`, indeksi so tudi v istem vrstnem redu. Metoda `nearest` poskrbi za ustrezno nastatitev vrednosti elementov v poravnanem zaporedju. Element z novim indeksom 1 dobi vrednost elementa z najbližjim že obstoječim indeksom 2 (vrednost elementa s tem indeksom je 3). Podobno, element z novim indeksom 4 dobi vrednost elementa z najbližjim obstoječim indeksom 5. Iz zaporedja pred poravnavo izpadeta indeksa 2 in 3 (in ustrezna elementa).\n",
    "\n",
    "Tako poravnani zaporedji `z1` in `z2` lahko združimo v podatkovno tabelo takole:"
   ]
  },
  {
   "cell_type": "code",
   "execution_count": 33,
   "metadata": {},
   "outputs": [
    {
     "name": "stdout",
     "output_type": "stream",
     "text": [
      "   Z1  Z2\n",
      "5   2   1\n",
      "0   4   2\n",
      "1   3   3\n",
      "4   2   4\n"
     ]
    }
   ],
   "source": [
    "pt = pd.DataFrame({\"Z1\": z1p, \"Z2\": z2})\n",
    "print(pt)"
   ]
  },
  {
   "cell_type": "markdown",
   "metadata": {},
   "source": [
    "Za vajo preveri, kaj se zgodi, če ponovno indeksiramo zaporedje `z2` na osnovi indeksov zaporedja `z1`. Ali je rezultat združevanja tako poravnanih zaporedij enak zgornjemu?\n",
    "\n",
    "Izpeljava poravnave v zgornjem primeru je pomnilniško potratna, saj iz `z1` ustvari novo zaporedje z urejenimi indeksi `z1s`, nato pa še zaporedje s poravnanimi indeksi `z1p`. Temu se lahko izognemo z uporabo Boolovega argumenta `inplace`. Nastavitev njegove vrednosti na `True` zahteva od `pandas`, da spremembe opravi znotraj podanega zaporedja in torej zaporedje ustrezno spremeni, brez potrebe po ustvarjanju novega zaporedja. To je sicer možno le v primerih, ko spreminjamo vsebino podatkovne tabele in ne njenih indeksov, zato metoda `reindex` še vedno ustvari novo zaporedje:"
   ]
  },
  {
   "cell_type": "code",
   "execution_count": 34,
   "metadata": {},
   "outputs": [
    {
     "name": "stdout",
     "output_type": "stream",
     "text": [
      "   Z1  Z2\n",
      "5   2   1\n",
      "0   4   2\n",
      "1   3   3\n",
      "4   2   4\n"
     ]
    }
   ],
   "source": [
    "z1.sort_index(inplace = True)\n",
    "z1p = z1.reindex(z2.index, method = \"nearest\")\n",
    "pt = pd.DataFrame({\"Z1\": z1p, \"Z2\": z2})\n",
    "print(pt)"
   ]
  }
 ],
 "metadata": {
  "kernelspec": {
   "display_name": "Python 3",
   "language": "python",
   "name": "python3"
  },
  "language_info": {
   "codemirror_mode": {
    "name": "ipython",
    "version": 3
   },
   "file_extension": ".py",
   "mimetype": "text/x-python",
   "name": "python",
   "nbconvert_exporter": "python",
   "pygments_lexer": "ipython3",
   "version": "3.11.5"
  },
  "widgets": {
   "application/vnd.jupyter.widget-state+json": {
    "state": {},
    "version_major": 2,
    "version_minor": 0
   }
  }
 },
 "nbformat": 4,
 "nbformat_minor": 4
}
