{
 "cells": [
  {
   "cell_type": "markdown",
   "metadata": {},
   "source": [
    "# Funkcije višjega reda\n",
    "\n",
    "V Pythonu so funkcije enakopravne ostalim podatkovnim tipom, kar nam omogoča, da eno funkcijo podamo kot argument druge funkcije ali pa celo to, da je funkcija rezultat neke funkcije. Funkcijam, ki kot argument sprejmejo funkcijo ali vrnejo funkcijo kot rezultat rečemo funkcije višjega reda.\n",
    "\n",
    "## Funkciji `map` in `filter`\n",
    "Primer funkcij višjega reda sta prej omenjeni funkciji `map` in `filter`: obe kot prvi argument sprejmeta funkcijo. Ti dve funkciji bi lahko implementirali z izpeljanimi seznami takole:"
   ]
  },
  {
   "cell_type": "code",
   "execution_count": 12,
   "metadata": {},
   "outputs": [],
   "source": [
    "def map_is(f, iterator):\n",
    "    return [f(e) for e in iterator]\n",
    "\n",
    "def filter_is(f, iterator):\n",
    "    return [e for e in iterator if f(e)]"
   ]
  },
  {
   "cell_type": "markdown",
   "metadata": {},
   "source": [
    "Argument `f` funkcije `filter_is` seveda mora biti funkcija, ki kot rezultat vrne Boolovo vrednost `true` ali `false`, saj njen rezultat uporabimo kot pogoj v izpeljanem seznamu.\n",
    "\n",
    "Preverimo, če funkciji delujeta po pričakovanjih."
   ]
  },
  {
   "cell_type": "code",
   "execution_count": 13,
   "metadata": {},
   "outputs": [
    {
     "name": "stdout",
     "output_type": "stream",
     "text": [
      "[0, 1, 4, 9, 16, 25, 36, 49, 64, 81]\n",
      "[1, 3, 5, 7, 9]\n",
      "[1, 9, 25, 49, 81]\n"
     ]
    }
   ],
   "source": [
    "print(map_is(lambda e: e ** 2, range(10)))\n",
    "print(filter_is(lambda e: e % 2  == 1, range(10)))\n",
    "print(map_is(lambda e: e ** 2, filter_is(lambda e: e % 2  == 1, range(10))))"
   ]
  },
  {
   "cell_type": "markdown",
   "metadata": {},
   "source": [
    "Definiraj funkcijo `reduce`, ki prejme tri argumente, funkcijo `f`,enoto `e` in seznam `s`. Funkcija `f` združi vrednosti dveh podanih argumentov v eno vrednost, ki je potem rezultat funkcije. Primer take funkcije je `lambda a, b: a + b`. Enota `e` je taka vrednost argumenta funkcije `f`, da sta rezultata klicev `f(a, e)` in `f(e, a)` enaka `a`. Enota za prej podan primer funkcije je `0`. Funkcija `reduce` naj zaporedoma uporabi funkcijo `f` na elementih seznama `s`, tako da jih združi v eno vrednost, ki jo vrne kot rezultat.\n",
    "\n",
    "Premisli kakšne lastnosti mora imeti funkcija `f`, da je zgoraj opisana operacija združevanja `reduce` dobro definirana."
   ]
  },
  {
   "cell_type": "markdown",
   "metadata": {},
   "source": [
    "## Funkcija kot argument\n",
    "\n",
    "Funkcije višjega reda omogočajo definicijo splošnih algoritmov, ki so uporabni za različne funkcije. Primer take funkcije je numerični izračun integrala\n",
    "\n",
    "$$\\int_{a}^{b} f(x) dx$$\n",
    "\n",
    "podane funkcije $f\\colon \\mathbb{R} \\to \\mathbb{R} $ na podanem intervalu $[a, b]$. Funkcijo za izracun dolocenega integrala s pomočjo trapezne formule lahko definiramo takole:"
   ]
  },
  {
   "cell_type": "code",
   "execution_count": 14,
   "metadata": {},
   "outputs": [
    {
     "name": "stdout",
     "output_type": "stream",
     "text": [
      "1.9999820650436648\n"
     ]
    }
   ],
   "source": [
    "def dolocen_integral(f, interval, h = 0.01):\n",
    "    \n",
    "    (a, b) = interval\n",
    "    assert a < b, f\"Napaka: Spodnja meja {a} ni manjša od zgornje {b}.\"\n",
    "\n",
    "    vmesne_tocke = [a + h * i for i in range(int((b - a) / h))]\n",
    "    ploscine_trapezov = [(f(x) + f(x + h)) * h / 2 for x in vmesne_tocke]\n",
    "    return sum(ploscine_trapezov)\n",
    "\n",
    "from math import sin, pi\n",
    "print(dolocen_integral(sin, (0, pi)))"
   ]
  },
  {
   "cell_type": "markdown",
   "metadata": {},
   "source": [
    "Funkcija torej najprej iz podanega nabora `interval` prebere spodnjo in zgornjo mejo intervala. Nato preveri, če je spodnja meja `a` manjša od zgornje `b`. Na osnovi zgornje in spodnje meje uporabi izpeljan seznam za izračun vmesnih točke med `a` in `b` na medsebojni razdalji `h`. Nato še enkrat uporabi izpeljan seznam za izračun ploščin vseh nastalih trapezov. Vsota teh ploščin je približek za vrednost določenega integrala na podanem intervalu.\n",
    "\n",
    "Funkcija `dolocen_integral` je torej splošno uporabna, ker namreč, kot njen prvi argument lahko podamo poljubno funkcijo $f\\colon \\mathbb{R} \\to \\mathbb{R}$.\n",
    "\n",
    "Za potrebe podatkovne analize v Python-u je dovolj, da znamo uporabljati funkcije višjega reda, ki sprejmejo funkcijo kot argument. V nadaljevanju bomo obravnavali še eno lepo lastnost funkcij višjega reda, a kot napredno temo, ki jo ne bomo potrebovali pri podatkovni analizi v nadaljevanju semestra.\n",
    "\n",
    "## Napredna tema: Funkcija kot rezultat\n",
    "\n",
    "Spomnimo se definicije kompozituma $f \\circ g$ funkcij $f$ in $g$: $f \\circ g: x \\mapsto f(g(x))$. Definirajmo funkcijo $f^2$ kot kompozitum funkcije $f$ same s sabo $f \\circ f$. Podobno definirajmo funkcijo $f^n$, za poljubno naravno število $n > 2$ kot kompozitum $f$ in $f^{n-1}$, torej $f^n(x) = f(f^{n-1}(x))$. Definirajmo zdaj funkcijo v Pythonu, ki za podano funkcijo $x$ in naravno število $n > 2$ izračuna vrednost funkcije $f^n$."
   ]
  },
  {
   "cell_type": "code",
   "execution_count": 15,
   "metadata": {},
   "outputs": [
    {
     "name": "stdout",
     "output_type": "stream",
     "text": [
      "<function fn.<locals>.kompozitum at 0x105d8dd00>\n",
      "10\n"
     ]
    }
   ],
   "source": [
    "def fn(f, n):\n",
    "\n",
    "    def kompozitum(x):\n",
    "        fx = f(x)\n",
    "        for _ in range(n - 1):\n",
    "            fx = f(fx)\n",
    "        return fx\n",
    "    \n",
    "    return kompozitum\n",
    "\n",
    "\n",
    "def povecaj(x): return x + 1\n",
    "\n",
    "print(fn(povecaj, 10))\n",
    "print(fn(povecaj, 10)(0))"
   ]
  },
  {
   "cell_type": "markdown",
   "metadata": {},
   "source": [
    "V funkciji `fn` smo najprej definirali funkcijo `kompozitum`, ki za podano vrednost argumenta $x$ izračuna in vrne vrednost kompozituma $f^n(x)$, nato smo funkcijo `kompozitum` vrnili kot rezultat `fn`. V definiciji ugnezdene funkcije `kompozitum` smo lahko uporabili vrednost argumenta `n` nadrejene funkcije `fn`.\n",
    "\n",
    "Rezultat funkcije `fn` je tako funkcija, ki za podano vrednost $x$ izračuna vrednost $f^n(x)$, kar je točno to kar smo si želeli. Če izpišemo vrednost izraza `fn(povecaj, 10)`, dobimo funkcijo, vrednost izraza `fn(povecaj, 10)(0)` pa sproži klic in izračun dobljene funkcije za podano vrednost argumenta (v tem primeru je podana vrednost 0)."
   ]
  }
 ],
 "metadata": {
  "kernelspec": {
   "display_name": "Python 3",
   "language": "python",
   "name": "python3"
  },
  "language_info": {
   "codemirror_mode": {
    "name": "ipython",
    "version": 3
   },
   "file_extension": ".py",
   "mimetype": "text/x-python",
   "name": "python",
   "nbconvert_exporter": "python",
   "pygments_lexer": "ipython3",
   "version": "3.11.5"
  },
  "widgets": {
   "application/vnd.jupyter.widget-state+json": {
    "state": {},
    "version_major": 2,
    "version_minor": 0
   }
  }
 },
 "nbformat": 4,
 "nbformat_minor": 4
}
