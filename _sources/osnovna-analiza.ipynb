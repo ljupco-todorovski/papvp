{
 "cells": [
  {
   "cell_type": "markdown",
   "metadata": {},
   "source": [
    "# Osnovna analiza podatkov\n",
    "\n",
    "V tem predavanju bomo obravnavali osnovne funkcije za analizo podatkov, ki smo jih uvozili in spravili v format `tidy_data`. Spoznali jih bomo na primerih njihove uporabe za analizo podatkovne tabele `pt` z umetnimi podatki. Podatkovno tabelo bomo sestavili iz treh stolpcev (spremenljivk), `d`, `c` in `t`, ki bodo datumskega, kategoričnega in numeričnega tipa, z naključnimi vrednostmi.\n",
    "\n",
    "Nato bomo iste funkcije uporabili za analizo podatkov o dosežkih študentov FMF, ki smo jih pripravili na prejšnjih predavanjih.\n",
    "\n",
    "Vse funkcije, ki jih bomo obravnavali na tem predavanju delujejo na zaporedjih (_series_) in podatkovnih tabelah (_dataframe_). Mi bomo vedno uporabljali različice za zaporedja. Uporaba na tabelah je identična ali zelo podobna. Vsaka funkcija ima dvojno dokumentacijo, po eno stran za vsako različico. Tako na primer, lahko preberemo dokumentacijo za različico funkcije [`mean` za zaporedja](https://pandas.pydata.org/docs/reference/api/pandas.Series.mean.html) ali pa [za podatkovne tabele](https://pandas.pydata.org/docs/reference/api/pandas.DataFrame.mean.html)."
   ]
  },
  {
   "cell_type": "code",
   "execution_count": 90,
   "metadata": {},
   "outputs": [
    {
     "name": "stdout",
     "output_type": "stream",
     "text": [
      "            d    k     x\n",
      "0  2023-11-10    a -54.0\n",
      "1  2023-10-08    a -86.0\n",
      "2  2023-10-02    b -70.0\n",
      "3  2023-11-17    b   NaN\n",
      "4  2023-10-18    a  70.0\n",
      "5  2023-10-16    b -39.0\n",
      "6  2023-10-15    a -99.0\n",
      "7  2023-10-09  NaN   NaN\n",
      "8  2023-11-17  NaN -28.0\n",
      "9  2023-10-07  NaN   NaN\n",
      "10 2023-11-13    b -34.0\n",
      "11 2023-11-17    b  91.0\n",
      "12 2023-11-27  NaN -37.0\n",
      "13 2023-11-04    b  29.0\n",
      "14 2023-10-06    b -58.0\n",
      "15 2023-11-07    a  81.0\n",
      "16 2023-10-28    a   NaN\n",
      "17 2023-10-03    a  61.0\n",
      "18 2023-10-02    b  -8.0\n",
      "19 2023-10-06    b  12.0\n"
     ]
    }
   ],
   "source": [
    "import pandas as pd\n",
    "from random import seed, sample, randint\n",
    "\n",
    "n = 20\n",
    "seed(42)\n",
    "\n",
    "def nakljucni_datumi(datum_od, datum_do, n):\n",
    "    ndni = (datum_do - datum_od).days + 1\n",
    "    return datum_od + pd.to_timedelta([randint(0, ndni) for _ in range(n)], unit = \"D\")\n",
    "ds = nakljucni_datumi(pd.to_datetime(\"2023-10-01\"), pd.to_datetime(\"2023-11-30\"), n)\n",
    "\n",
    "def nakljucne_kategorije(kategorije, n):\n",
    "    return sample(kategorije, n, counts = [n for _ in kategorije])\n",
    "ks = pd.Series(nakljucne_kategorije([\"a\", \"b\", pd.NA], n), dtype = \"category\")\n",
    "\n",
    "xs = [x if abs(x) < 100 else None for x in sample(range(-125, 125), n)]\n",
    "\n",
    "pt = pd.DataFrame({\"d\": ds, \"k\": ks, \"x\": xs})\n",
    "print(pt)"
   ]
  },
  {
   "cell_type": "markdown",
   "metadata": {},
   "source": [
    "## Osnovne statistike\n",
    "\n",
    "Spoznajmo najprej funkcije, ki so definirane na zaporedjih in nam omogočajo izračun osnovnih agregatnih statistik vrednosti v zaporedju. Prvi argument vseh teh funkcij je zaporedje, vse jih lahko uporabljamo oziroma kličemo kot metode objekta tipa zaporedje.\n",
    "\n",
    "| Funkcija | Opis delovanja |\n",
    "|:---|:---|\n",
    "| `count` |\tŠtevilo _znanih_ vrednosti |\n",
    "| `nunique` | Število _različnih znanih_ vrednosti |\n",
    "| `sum` | Vsota _znanih_ vrednosti |\n",
    "| `mean` | Povprečna vrednost |\n",
    "| `mad` | Povprečno absolutno odstopanje |\n",
    "| `median` | Mediana, srednja vrednost |\n",
    "| `min` | Minimalna vrednost |\n",
    "| `max` | Maksimalna vrednost |\n",
    "| `quantile` | Kvantil za podan procent, npr. pri 50% dobimo mediano |\n",
    "| `value_counts` | Število pojavitev različnih vrednosti |\n",
    "| `mode` | Modus, najbolj pogosta vrednost |\n",
    "| `prod` | Produkt vrednosti |\n",
    "| `std` | Standardni odklon, nepristranski |\n",
    "| `var` | Standardna variance, nepristranska |\n",
    "| `skew` | Asimetrija, nepristranska, tretji moment |\n",
    "| `kurt` | Sploščenost, nepristranska, četrti moment |\n",
    "| `cumsum` | Kumulativne vsote |\n",
    "| `cumprod` | Kumulativni produkti |\n",
    "| `cummax` | Kumulativne maksimalne vrednosti |\n",
    "| `cummin` | Kumulativne minimalne vrednosti |\n",
    "\n",
    "Poglejmo si primere uporabe zgornjih funkcij:"
   ]
  },
  {
   "cell_type": "code",
   "execution_count": 67,
   "metadata": {},
   "outputs": [
    {
     "name": "stdout",
     "output_type": "stream",
     "text": [
      "Stolpec x ima 16 znanih vrednosti.\n",
      "Njihova vsota je -55.0, povprečje -3.438, mediana pa -1.5.\n"
     ]
    }
   ],
   "source": [
    "print(f\"Stolpec x ima {pt.x.count()} znanih vrednosti.\")\n",
    "print(f\"Njihova vsota je {pt.x.sum()}, povprečje {pt.x.mean():.4}, mediana pa {pt.x.median()}.\")"
   ]
  },
  {
   "cell_type": "markdown",
   "metadata": {},
   "source": [
    "Podobne funkcije lahko uporabimo tudi za datumsko spremenljivko:"
   ]
  },
  {
   "cell_type": "code",
   "execution_count": 91,
   "metadata": {},
   "outputs": [
    {
     "name": "stdout",
     "output_type": "stream",
     "text": [
      "Datumi v d so od 2023-10-02 00:00:00 do 2023-11-27 00:00:00.\n",
      "Povprečna vrednost d je 2023-10-24 00:00:00, srednja pa 2023-10-17 00:00:00.\n"
     ]
    }
   ],
   "source": [
    "print(f\"Datumi v d so od {pt.d.min()} do {pt.d.max()}.\")\n",
    "print(f\"Povprečna vrednost d je {pt.d.mean()}, srednja pa {pt.d.median()}.\")"
   ]
  },
  {
   "cell_type": "markdown",
   "metadata": {},
   "source": [
    "Poglejmo zakaj srednja vrednost pade ravno ob poldne. Pri računanju mediane, namreč, najprej uredimo vrednosti spremenljivke `d` v naraščajočem ali padajočem vrstnem redu:"
   ]
  },
  {
   "cell_type": "code",
   "execution_count": 92,
   "metadata": {},
   "outputs": [
    {
     "name": "stdout",
     "output_type": "stream",
     "text": [
      "2    2023-10-02\n",
      "18   2023-10-02\n",
      "17   2023-10-03\n",
      "19   2023-10-06\n",
      "14   2023-10-06\n",
      "9    2023-10-07\n",
      "1    2023-10-08\n",
      "7    2023-10-09\n",
      "6    2023-10-15\n",
      "5    2023-10-16\n",
      "4    2023-10-18\n",
      "16   2023-10-28\n",
      "13   2023-11-04\n",
      "15   2023-11-07\n",
      "0    2023-11-10\n",
      "10   2023-11-13\n",
      "8    2023-11-17\n",
      "11   2023-11-17\n",
      "3    2023-11-17\n",
      "12   2023-11-27\n",
      "Name: d, dtype: datetime64[ns]\n"
     ]
    }
   ],
   "source": [
    "print(pt.d.sort_values())\n"
   ]
  },
  {
   "cell_type": "markdown",
   "metadata": {},
   "source": [
    "V tem urejenem seznamu nas zanima katera vrednost je na sredini tega zaporedja. V primeru zaporedja z liho dolžino, je zgolj en element točno v sredini, zato je tudi vrednost mediane enaka vrednosti tega elementa. V tem primeru, ko ima zaporedje sodo število elementov, sta dva elementa (s pozicijskima indeksoma `9` in `10`) na sredini tega seznama. Mediano oziroma srednjo vrednost v tem primeru izračunamo takole:"
   ]
  },
  {
   "cell_type": "code",
   "execution_count": 93,
   "metadata": {},
   "outputs": [
    {
     "name": "stdout",
     "output_type": "stream",
     "text": [
      "2023-10-17 00:00:00\n"
     ]
    }
   ],
   "source": [
    "print(pt.d.sort_values().iloc[[9,10]].mean())"
   ]
  },
  {
   "cell_type": "markdown",
   "metadata": {},
   "source": [
    "Srednja vrednost je kvantil zaporedja pri 50%: je vrednost elementa (ali povprečna vrednost elementov), ki je na taki poziciji (pozicijah) v urejenem zaporedju, ki predstavlja polovico (50%) dolžine zaporedja. Funkcija `quantile` izračuna kvantil za poljubno podano vrednost v odstotkih:"
   ]
  },
  {
   "cell_type": "code",
   "execution_count": 94,
   "metadata": {},
   "outputs": [
    {
     "name": "stdout",
     "output_type": "stream",
     "text": [
      "Q(pt.x, 0.0) = -99.0\n",
      "Q(pt.x, 0.25) = -55.0\n",
      "Q(pt.x, 0.5) = -31.0\n",
      "Q(pt.x, 0.75) = 37.0\n",
      "Q(pt.x, 1.0) = 91.0\n"
     ]
    }
   ],
   "source": [
    "print(\"\\n\".join([f\"Q(pt.x, {p}) = {pt.x.quantile(p)}\" for p in [n / 4 for n in range(5)]]))"
   ]
  },
  {
   "cell_type": "markdown",
   "metadata": {},
   "source": [
    "Za vajo ugotovi, kako iz zaporedja ali seznama urejenih vrednosti zaporedja `pt.x` izračunamo zgornje kvantile.\n",
    "\n",
    "Na koncu si poglejmo še funkcijo `mode`, ki izračuna modus, t.j., najbolj zastopano vrednost v zaporedju tipa kategorija:"
   ]
  },
  {
   "cell_type": "code",
   "execution_count": 111,
   "metadata": {},
   "outputs": [
    {
     "name": "stdout",
     "output_type": "stream",
     "text": [
      "k\n",
      "b    9\n",
      "a    7\n",
      "Name: count, dtype: int64\n",
      "0    b\n",
      "Name: k, dtype: category\n",
      "Categories (2, object): ['a', 'b']\n"
     ]
    }
   ],
   "source": [
    "print(pt.k.mode())"
   ]
  },
  {
   "cell_type": "markdown",
   "metadata": {},
   "source": [
    "Za kategorično zaporedje `pt.k` poskušaj izračunati srednjo ali povprečno vrednost. Pojasni rezultat poskusa. Preveri spremembe rezultata, če bi imeli zaporedje tipa urejena kategorija.\n",
    "\n",
    "Za vajo preizkusi delovanje vseh funkcij iz tabele na začetku tega razdelka."
   ]
  },
  {
   "cell_type": "markdown",
   "metadata": {},
   "source": [
    "## Preverjanje in spreminjanje vrednosti\n",
    "\n",
    "Preden nadaljujemo, poglejmo na hitro še nekaj funkcij, ki nam omogočajo preverjanje in spreminjanje (nastavljanje) vrednosti elementov zaporedja ali podatkovne tabele.\n",
    "\n",
    "Pogosto uporabljena funkcija je `isna`, ki za podano zaporedje vrne zaporedje Boolovih vrednosti. Vrednost elementa rezultata, ki je enaka `True`, nakazuje, da ima isto ležeči element podanega zaporedja _neznano_ vrednost, vrednost element `False`, da ima _znano_ vrednost. Poglejmo:"
   ]
  },
  {
   "cell_type": "code",
   "execution_count": 102,
   "metadata": {},
   "outputs": [
    {
     "name": "stdout",
     "output_type": "stream",
     "text": [
      "0     False\n",
      "1     False\n",
      "2     False\n",
      "3      True\n",
      "4     False\n",
      "5     False\n",
      "6     False\n",
      "7      True\n",
      "8     False\n",
      "9      True\n",
      "10    False\n",
      "11    False\n",
      "12    False\n",
      "13    False\n",
      "14    False\n",
      "15    False\n",
      "16     True\n",
      "17    False\n",
      "18    False\n",
      "19    False\n",
      "Name: x, dtype: bool\n"
     ]
    }
   ],
   "source": [
    "print(pt.x.isna())"
   ]
  },
  {
   "cell_type": "markdown",
   "metadata": {},
   "source": [
    "Če seštejemo vrednosti dobljenega zaporedja, dobimo število neznanih vrednosti za podano zaporedje. Ker je to lahko uporabno, bi lahko napisali funkcijo `n_na`, ki za podano zaporedje vrne število neznanih vrednosti v zaporedju:"
   ]
  },
  {
   "cell_type": "code",
   "execution_count": 109,
   "metadata": {},
   "outputs": [
    {
     "name": "stdout",
     "output_type": "stream",
     "text": [
      "n_na(pt.d)=0, n_na(pt.k)=4, n_na(pt.x)=4\n"
     ]
    }
   ],
   "source": [
    "def n_na(s):\n",
    "    return s.isna().sum()\n",
    "\n",
    "print(f\"{n_na(pt.d)=}, {n_na(pt.k)=}, {n_na(pt.x)=}\")"
   ]
  },
  {
   "cell_type": "markdown",
   "metadata": {},
   "source": [
    "Za vajo definiraj funkcijo `n_na` brez uporabe funkcije `isna`, zgolj s pomočjo funkcij iz prejšnjega razdelka (namig: potrebuješ funkcijo `count`).\n",
    "\n",
    "Pogosto smo v situaciji, ko neznane vrednosti zaporedja moramo nadomestiti z nekimi znanimi vrednostmi. To nam omogoča funkcija [`fillna`](https://pandas.pydata.org/docs/reference/api/pandas.Series.fillna.html), ki v najbolj enostavni različici nadomesti neznane vrednosti z vnaprej podano, fiksno vrednostjo, npr. `0`:"
   ]
  },
  {
   "cell_type": "code",
   "execution_count": 112,
   "metadata": {},
   "outputs": [
    {
     "name": "stdout",
     "output_type": "stream",
     "text": [
      "0    -54.0\n",
      "1    -86.0\n",
      "2    -70.0\n",
      "3      0.0\n",
      "4     70.0\n",
      "5    -39.0\n",
      "6    -99.0\n",
      "7      0.0\n",
      "8    -28.0\n",
      "9      0.0\n",
      "10   -34.0\n",
      "11    91.0\n",
      "12   -37.0\n",
      "13    29.0\n",
      "14   -58.0\n",
      "15    81.0\n",
      "16     0.0\n",
      "17    61.0\n",
      "18    -8.0\n",
      "19    12.0\n",
      "Name: x, dtype: float64\n"
     ]
    }
   ],
   "source": [
    "print(pt.x.fillna(0))"
   ]
  },
  {
   "cell_type": "markdown",
   "metadata": {},
   "source": [
    "Poglejmo zdaj kako se spremeni povprečna vrednost v podanem zaporedju, če neznane vrednosti zaporedja nadomestimo z `0`:"
   ]
  },
  {
   "cell_type": "code",
   "execution_count": 113,
   "metadata": {},
   "outputs": [
    {
     "name": "stdout",
     "output_type": "stream",
     "text": [
      "-10.5625 -8.45\n"
     ]
    }
   ],
   "source": [
    "print(pt.x.mean(), pt.x.fillna(0).mean())"
   ]
  },
  {
   "cell_type": "markdown",
   "metadata": {},
   "source": [
    "Za vajo pojasni nastalo spremembo povprečne vrednosti. Kako `mean` izračuna povprečno vrednost elementov zaporedja, ki vsebuje neznane vrednosti?\n",
    "\n",
    "Bolj splošna funkcija za nadomeščanje (zamenjavo) vrednosti je [`replace`](https://pandas.pydata.org/docs/reference/api/pandas.Series.replace.html), ki (spet v osnovni različici) podano vrednost nadomesti z drugo podano vrednostjo:"
   ]
  },
  {
   "cell_type": "code",
   "execution_count": 114,
   "metadata": {},
   "outputs": [
    {
     "name": "stdout",
     "output_type": "stream",
     "text": [
      "0       A\n",
      "1       A\n",
      "2       b\n",
      "3       b\n",
      "4       A\n",
      "5       b\n",
      "6       A\n",
      "7     NaN\n",
      "8     NaN\n",
      "9     NaN\n",
      "10      b\n",
      "11      b\n",
      "12    NaN\n",
      "13      b\n",
      "14      b\n",
      "15      A\n",
      "16      A\n",
      "17      A\n",
      "18      b\n",
      "19      b\n",
      "Name: k, dtype: category\n",
      "Categories (2, object): ['A', 'b']\n"
     ]
    }
   ],
   "source": [
    "print(pt.k.replace(\"a\", \"A\"))"
   ]
  },
  {
   "cell_type": "markdown",
   "metadata": {},
   "source": [
    "Funkciji lahko podamo kot argumenta seznama enakih dolžin, tako kot tukaj:"
   ]
  },
  {
   "cell_type": "code",
   "execution_count": 115,
   "metadata": {},
   "outputs": [
    {
     "name": "stdout",
     "output_type": "stream",
     "text": [
      "0       A\n",
      "1       A\n",
      "2       B\n",
      "3       B\n",
      "4       A\n",
      "5       B\n",
      "6       A\n",
      "7     NaN\n",
      "8     NaN\n",
      "9     NaN\n",
      "10      B\n",
      "11      B\n",
      "12    NaN\n",
      "13      B\n",
      "14      B\n",
      "15      A\n",
      "16      A\n",
      "17      A\n",
      "18      B\n",
      "19      B\n",
      "Name: k, dtype: category\n",
      "Categories (2, object): ['A', 'B']\n"
     ]
    }
   ],
   "source": [
    "print(pt.k.replace([\"a\", \"b\"], [\"A\", \"B\"]))"
   ]
  },
  {
   "cell_type": "markdown",
   "metadata": {},
   "source": [
    "Funkcija `replace` je še posebej uporabna za zaporedja nizov znakov, ker sta v tem primeru lahko oba argumenta regularna izraza (ali enako dolga seznama regularnih izrazov).\n",
    "\n",
    "Še več fleksibilnosti pri zamenjavi vrednosti elementov zaporedja ponuja funkcija [`where`](https://pandas.pydata.org/docs/reference/api/pandas.Series.where.html), kjer za izbiro elementov lahko uporabljamo poljuben logični izraz. Če za opazovani element zaporedja ima podani izraz vrednost `True`, ostane vrednost elementa nespremenjena. Sicer pa se zamenja s podano vrednostjo. Poglejmo enostaven primer:"
   ]
  },
  {
   "cell_type": "code",
   "execution_count": 124,
   "metadata": {},
   "outputs": [
    {
     "name": "stdout",
     "output_type": "stream",
     "text": [
      "0        !\n",
      "1        !\n",
      "2        !\n",
      "3        !\n",
      "4        !\n",
      "5    -39.0\n",
      "6        !\n",
      "7        !\n",
      "8    -28.0\n",
      "9        !\n",
      "10   -34.0\n",
      "11       !\n",
      "12   -37.0\n",
      "13    29.0\n",
      "14       !\n",
      "15       !\n",
      "16       !\n",
      "17       !\n",
      "18    -8.0\n",
      "19    12.0\n",
      "Name: x, dtype: object\n"
     ]
    }
   ],
   "source": [
    "print(pt.x.where(abs(pt.x) < 50, \"!\"))"
   ]
  },
  {
   "cell_type": "markdown",
   "metadata": {},
   "source": [
    "Zgornji rezultat kaže na obnašanje logičnega izraza v funkciji `where`: če je vrednost elementa zaporedja `pt.x` neznana, potem izraz `abs(pt.x) < 50` nima vrednosti `True`. Zato so v rezultatu vse neznane vrednosti zamenjane s klicajem."
   ]
  },
  {
   "cell_type": "markdown",
   "metadata": {},
   "source": [
    "## Skupine elementov oziroma vrstic\n",
    "\n",
    "Izračun statistik je že sam po sebi uporaben. A pogostokrat nas ne zanimajo vrednosti agregatnih statistik za vse elemente zaporedja ali vse vrstice podatkovne tabele, temveč bi želeli agregatne statistike izračunati za skupine vrstic. Na primer, za dosežke študentov na kolokvijih nas zanima povprečna vrednost dosežka za vsakega študenta posebej. Podobno v tabeli z umetnimi podatki iz prejšnji razdelkov, bi nas lahka zanimalo kakšna je povprečna vrednost spremenljivke `x` za različne kategorije `k` ali za različne mesece iz datumov v `d`.\n",
    "\n",
    "Take izračune na podani podatkovni tabeli lahko opravimo z uporabo funkcije [`groupby`](https://pandas.pydata.org/docs/reference/api/pandas.DataFrame.groupby.html). Rezultat funkcije je objekt razreda `GroupBy`, ki razdeli vrstice v tabeli na osnovi vrednosti podane spremenljivke (ali kombinacije spremenljivk podane kot seznam): v eni skupini so vse vrstice z enako vrednostjo podane spremenljivke, skupin pa je toliko, kot je različnih vrednosti podane spremenljivke.  Če na tem objektu izračunamo agregatno statistiko, bo njen izračun izveden za vsako skupino posebej.\n",
    "\n",
    "Poglejmo enostaven primer:"
   ]
  },
  {
   "cell_type": "code",
   "execution_count": 128,
   "metadata": {},
   "outputs": [
    {
     "name": "stdout",
     "output_type": "stream",
     "text": [
      "<class 'pandas.core.groupby.generic.DataFrameGroupBy'>\n",
      "{'a': [0, 1, 4, 6, 15, 16, 17], 'b': [2, 3, 5, 10, 11, 13, 14, 18, 19]}\n"
     ]
    },
    {
     "name": "stderr",
     "output_type": "stream",
     "text": [
      "/var/folders/g7/xgt9ckmj6g1404knwg8j5rkc0000gn/T/ipykernel_99367/2589392432.py:1: FutureWarning: The default of observed=False is deprecated and will be changed to True in a future version of pandas. Pass observed=False to retain current behavior or observed=True to adopt the future default and silence this warning.\n",
      "  pt_k = pt.groupby(\"k\")\n"
     ]
    }
   ],
   "source": [
    "pt_k = pt.groupby(\"k\")\n",
    "\n",
    "print(type(pt_k))\n",
    "print(pt_k.groups)"
   ]
  },
  {
   "cell_type": "markdown",
   "metadata": {},
   "source": [
    "Rezultat `pt_k` funkcije `groupby` je torej objekt razreda `DataFrameGroupBy` z atributom `groups`, katerega vrednost je slovar, ki določa razvrstitev vrstic tabele `pt` po vrednostih spremenljivke `k`. Ker ima slednja dve možni vrednosti, ima slovar dva ključa, ki ustrezata tem vrednostim. Vrednost pri izbranem ključu je seznam indeksov tistih vrstic podane tabele v katerih je vrednost spremenljivke `k` enaka vrednosti izbranege ključa. **Pozor**: neznane vrednosti ne tvorijo nobene skupine.\n",
    "\n",
    "Prava moč funkcije pride do izraza pri izračunu agregatnih statistik:"
   ]
  },
  {
   "cell_type": "code",
   "execution_count": 129,
   "metadata": {},
   "outputs": [
    {
     "name": "stdout",
     "output_type": "stream",
     "text": [
      "k\n",
      "a   -4.500\n",
      "b   -9.625\n",
      "Name: x, dtype: float64\n"
     ]
    }
   ],
   "source": [
    "print(pt_k.x.mean())"
   ]
  },
  {
   "cell_type": "markdown",
   "metadata": {},
   "source": [
    "Rezultat je torej zaporedje povprečnih vrednosti spremenljivke `x` za različne vrednosti spremenljivke `k`.\n",
    "\n",
    "Funkcija [`agg`](https://pandas.pydata.org/docs/reference/api/pandas.DataFrame.agg.html) nam omogoča več fleksibilnosti pri izračunu agregatnih statistik. Lahko izračunamo več agregatnih statistik za različne spremenljivke podane podatkovne tabele:"
   ]
  },
  {
   "cell_type": "code",
   "execution_count": 134,
   "metadata": {},
   "outputs": [
    {
     "name": "stdout",
     "output_type": "stream",
     "text": [
      "           d                 x           \n",
      "         min        max   mean        std\n",
      "k                                        \n",
      "a 2023-10-03 2023-11-10 -4.500  83.873118\n",
      "b 2023-10-02 2023-11-17 -9.625  52.820282\n"
     ]
    }
   ],
   "source": [
    "print(pt_k.agg({\n",
    "    \"d\": [\"min\", \"max\"],\n",
    "    \"x\": [\"mean\", \"std\"]\n",
    "}))"
   ]
  },
  {
   "cell_type": "markdown",
   "metadata": {},
   "source": [
    "V zgornjem primeru smo kot argument funkcije `agg` podali slovar, kjer so ključi spremenljivke podatkovne tabele, vrednosti pa seznami imen agregatnih funkcij iz prejšnjega razdelka. Pri tem nimamo dobre kontrole nad imeni stolpcev v rezultati. Če si to želimo, bi lahko podali malo drugačen argument funkciji `agg`:"
   ]
  },
  {
   "cell_type": "code",
   "execution_count": 140,
   "metadata": {},
   "outputs": [
    {
     "name": "stdout",
     "output_type": "stream",
     "text": [
      "    datum_od   datum_do  povprecje_x   odklon_x\n",
      "k                                              \n",
      "a 2023-10-03 2023-11-10       -4.500  83.873118\n",
      "b 2023-10-02 2023-11-17       -9.625  52.820282\n"
     ]
    }
   ],
   "source": [
    "print(pt_k.agg(\n",
    "    datum_od = (\"d\", \"min\"),\n",
    "    datum_do = (\"d\", \"max\"),\n",
    "    povprecje_x = (\"x\", \"mean\"),\n",
    "    odklon_x = (\"x\", \"std\")\n",
    "))"
   ]
  },
  {
   "cell_type": "markdown",
   "metadata": {},
   "source": [
    "Skupine vrstic v tabeli lahko določamo tudi na osnovi vrednosti numerične spremenljivke. V takih primerih argument običajno podamo v obliki logičnega izraza in dobimo dve skupini. V eni skupini so vrstice, kjer je vrednost podanega logičnega izraza `True`, v drugi pa vse ostale vrstice (bodimo pozorni na neznane vrednosti, tako kot pri funkciji `where`):"
   ]
  },
  {
   "cell_type": "code",
   "execution_count": 144,
   "metadata": {},
   "outputs": [
    {
     "name": "stdout",
     "output_type": "stream",
     "text": [
      "{False: [0, 1, 2, 3, 4, 6, 7, 9, 11, 14, 15, 16, 17], True: [5, 8, 10, 12, 13, 18, 19]}\n"
     ]
    }
   ],
   "source": [
    "print(pt.groupby(abs(pt.x) < 50).groups)"
   ]
  },
  {
   "cell_type": "markdown",
   "metadata": {},
   "source": [
    "Podobno lahko skupine določamo tudi na osnovi datuma. Na tem mestu nam pridejo prav različne funkcije za izračune derivatov datuma, kot so mesec, teden ali pa dan v tednu (za osvežitev spomina, prelistaj zapiske s predavanj iz začetka semestra, kjer smo obravnavali različne tipe zaporedij):"
   ]
  },
  {
   "cell_type": "code",
   "execution_count": 155,
   "metadata": {},
   "outputs": [
    {
     "name": "stdout",
     "output_type": "stream",
     "text": [
      "                  x\n",
      "d                  \n",
      "November   6.857143\n",
      "October  -24.111111\n"
     ]
    }
   ],
   "source": [
    "print(pt.groupby(pt.d.dt.month_name()).mean(\"x\"))"
   ]
  },
  {
   "cell_type": "markdown",
   "metadata": {},
   "source": [
    "Izračunali smo torej povprečne vrednosti spremenljivke `x` za vse mesece datumov v spremenljivki `d`. Lahko bi podobno izračunali povprečne vrednosti `x` za različne dneve v tednu:"
   ]
  },
  {
   "cell_type": "code",
   "execution_count": 159,
   "metadata": {},
   "outputs": [
    {
     "name": "stdout",
     "output_type": "stream",
     "text": [
      "              x\n",
      "d              \n",
      "Friday     -7.4\n",
      "Monday    -37.6\n",
      "Saturday   29.0\n",
      "Sunday    -92.5\n",
      "Tuesday    71.0\n",
      "Wednesday  70.0\n"
     ]
    }
   ],
   "source": [
    "print(pt.groupby(pt.d.dt.day_name()).mean(\"x\"))"
   ]
  },
  {
   "cell_type": "markdown",
   "metadata": {},
   "source": [
    "Funkcija `groupby` nam omogoča tudi določanje skupin na osnovi različnih kombinacij vrednosti spremenljivk. Ugotovi na primer, kaj so skupine v naslednjem primeru:"
   ]
  },
  {
   "cell_type": "code",
   "execution_count": 167,
   "metadata": {},
   "outputs": [
    {
     "name": "stdout",
     "output_type": "stream",
     "text": [
      "{('a', 'Friday'): [0], ('a', 'Saturday'): [16], ('a', 'Sunday'): [1, 6], ('a', 'Tuesday'): [15, 17], ('a', 'Wednesday'): [4], ('b', 'Friday'): [3, 11, 14, 19], ('b', 'Monday'): [2, 5, 10, 18], ('b', 'Saturday'): [13], (nan, 'Friday'): [8], (nan, 'Monday'): [7, 12], (nan, 'Saturday'): [9]}\n"
     ]
    },
    {
     "name": "stderr",
     "output_type": "stream",
     "text": [
      "/var/folders/g7/xgt9ckmj6g1404knwg8j5rkc0000gn/T/ipykernel_99367/1087440675.py:1: FutureWarning: The default of observed=False is deprecated and will be changed to True in a future version of pandas. Pass observed=False to retain current behavior or observed=True to adopt the future default and silence this warning.\n",
      "  print(pt.groupby([\"k\", pt.d.dt.day_name()]).groups)\n"
     ]
    }
   ],
   "source": [
    "print(pt.groupby([\"k\", pt.d.dt.day_name()]).groups)"
   ]
  },
  {
   "cell_type": "markdown",
   "metadata": {},
   "source": [
    "Zanimivo je, da tokrat rezultat vključuje tudi neznane vrednosti spremenljivke `k`. Za vajo ugotovi kako se znebiti opozorila (FutureWarning), ki se izpiše med izvajanjem te kode."
   ]
  },
  {
   "cell_type": "markdown",
   "metadata": {},
   "source": [
    "## Analiza podatkov o rezultatih kolokvijev"
   ]
  },
  {
   "cell_type": "markdown",
   "metadata": {},
   "source": [
    "V enem od prejšnjih predavanjih smo urejali podatke o rezultatih kolokvijev. Spomnimo se, da smo jih uredili v dve podatkovni tabeli:\n",
    "\n",
    "  * `studenti` s podatki o posameznih študentih (vrstice) z eno dimenzijsko spremenljivko `ime` in tri vrednostne spremenljivke `telefon`, `spol` in `starost`.\n",
    "\n",
    "  * `studenti_ocene` s podatki o dosežkih študentov na kolokvijih, ki bo vsebovala tri dimenzijske spremenljivke `student`, `semester` in `kolokvij` ter eno vrednostno spremenljivko `rezultat`. Za izbranega študenta (izbrano študentko), bo tabela podala njegov (njen) dosežen rezultat na izbranem kolokviju v izbranem semestru.\n",
    "\n",
    "Tabeli preberemo iz datotek [`studenti.csv`](https://kt.ijs.si/~ljupco/lectures/papvp-2324/studenti.csv) in [`studenti_ocene.csv`](https://kt.ijs.si/~ljupco/lectures/papvp-2324/studenti_ocene.csv):"
   ]
  },
  {
   "cell_type": "code",
   "execution_count": 194,
   "metadata": {},
   "outputs": [
    {
     "name": "stdout",
     "output_type": "stream",
     "text": [
      "studenti =\n",
      "      ime  telefon spol  starost\n",
      "0     Ana      431    ž       19\n",
      "1  Branko      720    m       20\n",
      "2  Cvetka      761    ž       21\n",
      "3   David      141    m       19\n",
      "4     Eva      210    ž       20\n",
      "5   Franc      592    m       21\n",
      "\n",
      "studenti_ocene =\n",
      "       ime  semester  kolokvij  rezultat\n",
      "0      Ana         1         1      80.0\n",
      "1      Ana         1         2      82.0\n",
      "2      Ana         2         1      97.0\n",
      "3      Ana         2         2      95.0\n",
      "4   Branko         1         1      78.0\n",
      "5   Branko         1         2       NaN\n",
      "6   Branko         2         1      74.0\n",
      "7   Branko         2         2       NaN\n",
      "8   Cvetka         1         1       NaN\n",
      "9   Cvetka         1         2      63.0\n",
      "10  Cvetka         2         1       NaN\n",
      "11  Cvetka         2         2      87.0\n",
      "12   David         1         1      75.0\n",
      "13   David         1         2      92.0\n",
      "14   David         2         1      68.0\n",
      "15   David         2         2      81.0\n",
      "16     Eva         1         1      63.0\n",
      "17     Eva         1         2      82.0\n",
      "18     Eva         2         1      82.0\n",
      "19     Eva         2         2      63.0\n",
      "20   Franc         1         1      95.0\n",
      "21   Franc         1         2      99.0\n",
      "22   Franc         2         1      82.0\n",
      "23   Franc         2         2      54.0\n"
     ]
    }
   ],
   "source": [
    "studenti = pd.read_csv(\"https://kt.ijs.si/~ljupco/lectures/papvp-2324/studenti.csv\")\n",
    "studenti_ocene = pd.read_csv(\"https://kt.ijs.si/~ljupco/lectures/papvp-2324/studenti_ocene.csv\")\n",
    "\n",
    "print(f\"studenti =\\n{studenti}\\n\\nstudenti_ocene =\\n{studenti_ocene}\")"
   ]
  },
  {
   "cell_type": "markdown",
   "metadata": {},
   "source": [
    "### Študenti, ki so opravljali posamezen kolokvij\n",
    "\n",
    "Izračunajmo najprej koliko študentov je pisalo posamezen kolokvij. Nato pa za vsak kolokvij izpišimo študente, ki so h kolokviju pristopili. Posamezen kolokvij dobimo tako, da razdelimo vrstice podatkovne tabele `studenti_ocene` v skupine na osnovi kombinacije vrednosti spremenljivk `semester` in `kolokvij`. Ker imata obe spremenljivki isto domeno $\\{1, 2\\}$ z dvema elementoma, bomo dobili štiri skupine vrstic, za vsako kombinacijo vrednosti po eno:\n",
    "\n",
    "  * Prva skupina bo ustrezala kombinaciji `semester = 1, kolokvij = 1`, torej prvemu kolokviju v prvem semestru;\n",
    "\n",
    "  * Druga skupina bo ustrezala kombinaciji `semester = 1, kolokvij = 2`;\n",
    "\n",
    "  * Tretja kombinaciji `semester = 2, kolokvij = 1`;\n",
    "\n",
    "  * Četrta pa kombinaciji `semester = 2, kolokvij = 2`.\n",
    "\n",
    "Število študentov, ki so kolokvij opravljali dobimo tako, da v skupini vrstic za ta kolokvij preštejemo koliko je takih, da ima spremenljivka `rezultat` znano vrednost:"
   ]
  },
  {
   "cell_type": "code",
   "execution_count": 195,
   "metadata": {},
   "outputs": [
    {
     "name": "stdout",
     "output_type": "stream",
     "text": [
      "                   st_studentov\n",
      "semester kolokvij              \n",
      "1        1                    5\n",
      "         2                    5\n",
      "2        1                    5\n",
      "         2                    5\n"
     ]
    }
   ],
   "source": [
    "print(\n",
    "    studenti_ocene.groupby([\"semester\", \"kolokvij\"]).agg(\n",
    "        st_studentov = (\"rezultat\", \"count\")\n",
    "    )\n",
    ")"
   ]
  },
  {
   "cell_type": "markdown",
   "metadata": {},
   "source": [
    "Na vsakem kolokviju je torej pristopilo pet študentk in študentov. Ali lahko dobimo sezname študentov in študentk, ki so pristopili h kolokviju:"
   ]
  },
  {
   "cell_type": "code",
   "execution_count": 196,
   "metadata": {},
   "outputs": [
    {
     "name": "stdout",
     "output_type": "stream",
     "text": [
      "{(1, 1): ['Ana', 'Branko', 'Cvetka', 'David', 'Eva', 'Franc'], (1, 2): ['Ana', 'Branko', 'Cvetka', 'David', 'Eva', 'Franc'], (2, 1): ['Ana', 'Branko', 'Cvetka', 'David', 'Eva', 'Franc'], (2, 2): ['Ana', 'Branko', 'Cvetka', 'David', 'Eva', 'Franc']}\n"
     ]
    }
   ],
   "source": [
    "skupine = studenti_ocene.groupby([\"semester\", \"kolokvij\"]).groups\n",
    "\n",
    "print({k: studenti_ocene.loc[skupine[k], \"ime\"].to_list() for k in skupine})"
   ]
  },
  {
   "cell_type": "markdown",
   "metadata": {},
   "source": [
    "### Povprečni rezultati študentov na kolokvijih\n",
    "\n",
    "Izračunajmo zdaj povprečno število točk, ki jih je posamezen študent dosegel na kolokvijih. Ker gre za enostavno združevanje podatkov s povprečjem po skupinah, ki jih določa ime študenta, je rešitev, na prvi pogled, zelo enostavna:"
   ]
  },
  {
   "cell_type": "code",
   "execution_count": 197,
   "metadata": {},
   "outputs": [
    {
     "name": "stdout",
     "output_type": "stream",
     "text": [
      "        semester  kolokvij  rezultat\n",
      "ime                                 \n",
      "Ana          1.5       1.5      88.5\n",
      "Branko       1.5       1.5      76.0\n",
      "Cvetka       1.5       1.5      75.0\n",
      "David        1.5       1.5      79.0\n",
      "Eva          1.5       1.5      72.5\n",
      "Franc        1.5       1.5      82.5\n"
     ]
    }
   ],
   "source": [
    "print(studenti_ocene.groupby(\"ime\").mean(\"rezultat\"))"
   ]
  },
  {
   "cell_type": "markdown",
   "metadata": {},
   "source": [
    "Rezultat ni tak, kot bi ga pričakovali. Najprej, ima dva odvečna stolpca `semester` in `kolokvij` (za vajo premisli zakaj) in sta povprečna rezultata za Branka in Cvetko, ki sta pisala vsak po dva kolokvija manj kot ostali, napačen oziroma neprimerljiv s povprečnimi rezultati študentov, ki so pisali vse štiri kolokvije.\n",
    "\n",
    "Prvo težave lahko rešimo s preprostim indeksiranjem:"
   ]
  },
  {
   "cell_type": "code",
   "execution_count": 198,
   "metadata": {},
   "outputs": [
    {
     "name": "stdout",
     "output_type": "stream",
     "text": [
      "        rezultat\n",
      "ime             \n",
      "Ana         88.5\n",
      "Branko      76.0\n",
      "Cvetka      75.0\n",
      "David       79.0\n",
      "Eva         72.5\n",
      "Franc       82.5\n"
     ]
    }
   ],
   "source": [
    "print(studenti_ocene.groupby(\"ime\").mean(\"rezultat\").loc[:, [\"rezultat\"]])"
   ]
  },
  {
   "cell_type": "markdown",
   "metadata": {},
   "source": [
    "Drugo težavo odpravimo tako, da manjkajoče vrednosti pri Branku in Cvetki nadomestimo z vrednostjo nič:"
   ]
  },
  {
   "cell_type": "code",
   "execution_count": 199,
   "metadata": {},
   "outputs": [
    {
     "name": "stdout",
     "output_type": "stream",
     "text": [
      "        rezultat\n",
      "ime             \n",
      "Ana         88.5\n",
      "Branko      38.0\n",
      "Cvetka      37.5\n",
      "David       79.0\n",
      "Eva         72.5\n",
      "Franc       82.5\n"
     ]
    }
   ],
   "source": [
    "print(studenti_ocene.fillna(0).groupby(\"ime\").mean(\"rezultat\").loc[:, [\"rezultat\"]])"
   ]
  },
  {
   "cell_type": "markdown",
   "metadata": {},
   "source": [
    "V zgornji kodi smo bili malo neprevidni in nadomestili vse manjkajoče vrednosti v celotni podatkovni tabeli `studenti_ocene` z nič. Lahko bi bili bolj previdni takole:"
   ]
  },
  {
   "cell_type": "code",
   "execution_count": 200,
   "metadata": {},
   "outputs": [
    {
     "name": "stdout",
     "output_type": "stream",
     "text": [
      "        rezultat\n",
      "ime             \n",
      "Ana         88.5\n",
      "Branko      38.0\n",
      "Cvetka      37.5\n",
      "David       79.0\n",
      "Eva         72.5\n",
      "Franc       82.5\n"
     ]
    }
   ],
   "source": [
    "so_1 = studenti_ocene.copy()\n",
    "so_1.rezultat = so_1.rezultat.fillna(0)\n",
    "print(so_1.groupby(\"ime\").mean(\"rezultat\").loc[:, [\"rezultat\"]])"
   ]
  },
  {
   "cell_type": "markdown",
   "metadata": {},
   "source": [
    "Do zdaj smo gotovo že opazili, da v dobljenih tabelah postanejo vrednosti spremenljivke za določanje skupin (poimenovani) indeksi vrstic. Za vajo pretvori zadnjo tabelo v podatkovno tabelo z dvema stolpcema, `ime` in `rezultat`, kjer so indeksi vrstic njihove zaporedne številke.\n",
    "\n",
    "### Tabela z rezultati kolokvijev ob koncu študijskega leta\n",
    "\n",
    "Zdaj pa si predstavljajmo, da rabi profesorica podatkovno tabelo, kjer bi vsaka vrstica ustrezala eni študentki (študentu) in bi vsebovala njeno (njegovo) ime, telefon ter dosežke na štirih kolokvijih v stolpcih z imeni `kolokvij_1` do `kolokvij_4`.\n",
    "\n",
    "Najprej bi se lotili izračuna zaporedne številke kolokvija, ki je del imena štirih novih stolpcev omenjenih zgoraj. Zaporedno številko kolokvija izračunamo s kombinacijo vrednosti spremenljivk `semester` in `kolokvij`. Hkrati z računanjem zaporedne številke, zamenjamo neznane vrednosti rezultatov z ničlami ter iz tabele z rezultati izberemo le tri stolpce, ki nas zanimajo za nadaljnjo pripravo naše končne tabele z rezultati:"
   ]
  },
  {
   "cell_type": "code",
   "execution_count": 214,
   "metadata": {},
   "outputs": [
    {
     "name": "stdout",
     "output_type": "stream",
     "text": [
      "       ime  zap_st_kolokvija  rezultat\n",
      "0      Ana                 1      80.0\n",
      "1      Ana                 2      82.0\n",
      "2      Ana                 3      97.0\n",
      "3      Ana                 4      95.0\n",
      "4   Branko                 1      78.0\n",
      "5   Branko                 2       0.0\n",
      "6   Branko                 3      74.0\n",
      "7   Branko                 4       0.0\n",
      "8   Cvetka                 1       0.0\n",
      "9   Cvetka                 2      63.0\n",
      "10  Cvetka                 3       0.0\n",
      "11  Cvetka                 4      87.0\n",
      "12   David                 1      75.0\n",
      "13   David                 2      92.0\n",
      "14   David                 3      68.0\n",
      "15   David                 4      81.0\n",
      "16     Eva                 1      63.0\n",
      "17     Eva                 2      82.0\n",
      "18     Eva                 3      82.0\n",
      "19     Eva                 4      63.0\n",
      "20   Franc                 1      95.0\n",
      "21   Franc                 2      99.0\n",
      "22   Franc                 3      82.0\n",
      "23   Franc                 4      54.0\n"
     ]
    }
   ],
   "source": [
    "so_1 = studenti_ocene.copy()\n",
    "so_1[\"zap_st_kolokvija\"] = (so_1.semester - 1) * 2 + so_1.kolokvij\n",
    "so_1.rezultat = so_1.rezultat.fillna(0)\n",
    "so_1 = so_1.loc[:, [\"ime\", \"zap_st_kolokvija\", \"rezultat\"]]\n",
    "\n",
    "print(so_1)"
   ]
  },
  {
   "cell_type": "markdown",
   "metadata": {},
   "source": [
    "Zdaj pa moramo vrednosti stolpca `rezultat` razdeliti v štiri nove stolpce na osnovi zaporedne številke kolokvija. To nam omogoča funkcija [`pivot`](https://pandas.pydata.org/docs/reference/api/pandas.DataFrame.pivot.html) z naslednjimi argumenti:\n",
    "\n",
    "  * `frame` je ime podatkovne tabele, ki jo hočemo spremeniti (v spodnjem primeru funkcijo kličemo kot metodo razreda podatkovna tabela);\n",
    "\n",
    "  * `index` je ime stolpca, nabor ali seznam imen stolpcev, ki identificirajo vrstice, in katerih vrednosti se ne bodo spreminjale;\n",
    "\n",
    "  * `columns` je ime stolpca, nabor ali seznam imen stolpcev, ki vsebujejo vrednosti za tvorjenje imen novih stolpcev;\n",
    "\n",
    "  * `values` je ime stolpca, katerega vrednosti bodo postali (se bodo porazdelili med) vrednosti novih stolpcev.\n",
    "\n",
    " Argument `columns` nastavimo na `zap_st_kolokvija`, saj so imena novih stolpcev zasnovana na zaporednih številkah kolokvijev, ki jim dodamo predpono `kolokvij_` (to opravimo v vrstici, ki sledi klicu metode `pivot`). Argument `values` nastavimo na `rezultat`, t.j. ime stolpca, ki vsebuje vrednosti razdeljene med nove stolpce:"
   ]
  },
  {
   "cell_type": "code",
   "execution_count": 238,
   "metadata": {},
   "outputs": [
    {
     "name": "stdout",
     "output_type": "stream",
     "text": [
      "      ime  telefon  kolokvij_1  kolokvij_2  kolokvij_3  kolokvij_4\n",
      "0     Ana      431        80.0        82.0        97.0        95.0\n",
      "1  Branko      720        78.0         0.0        74.0         0.0\n",
      "2  Cvetka      761         0.0        63.0         0.0        87.0\n",
      "3   David      141        75.0        92.0        68.0        81.0\n",
      "4     Eva      210        63.0        82.0        82.0        63.0\n",
      "5   Franc      592        95.0        99.0        82.0        54.0\n"
     ]
    }
   ],
   "source": [
    "so_objava = so_1.pivot(\n",
    "    index = \"ime\",\n",
    "    columns = \"zap_st_kolokvija\",\n",
    "    values = \"rezultat\"\n",
    ")\n",
    "so_objava = so_objava.add_prefix(\"kolokvij_\")\n",
    "\n",
    "# izračun povprečij po vrsticah\n",
    "so_objava[\"povprecje\"] = so_objava.mean(axis = 1)\n",
    "\n",
    "# poskrbimo za dodajanje telefonskih številk\n",
    "so_objava = so_objava.merge(studenti, on = \"ime\", how = \"left\")\n",
    "so_objava = so_objava.loc[:, [\"ime\", \"telefon\", \"kolokvij_1\", \"kolokvij_2\", \"kolokvij_3\", \"kolokvij_4\"]]\n",
    "\n",
    "print(so_objava)"
   ]
  },
  {
   "cell_type": "markdown",
   "metadata": {},
   "source": [
    "S klicem funkcije (metode) `mean` smo izračunali povprečja posameznih vrstic v tabeli. Da določimo izračun povprečij po vrsticah moramo nastaviti vrednost argumenta `axis` na `1`. Spomnimo se namreč, da bi običajna uporaba metode `mean` računala povprečja po stolpcih in ne po vrsticah, kot rabimo v tem primeru.\n",
    "\n",
    "Na koncu še s klicem funkcije [`merge`](https://pandas.pydata.org/docs/reference/api/pandas.DataFrame.merge.html) dodamo vsaki vrstici telefonsko številko iz tabele `studenti` in nato z ustreznim indeksiranjem izberemo spremenljivke (stolpce), ki jih hočemo ohraniti v končni različici tabele `so_objava`."
   ]
  },
  {
   "cell_type": "markdown",
   "metadata": {},
   "source": [
    "## Naloge\n",
    "\n",
    "1. Napiši program v `pandas`, ki na osnovi podatkov iz tabel `studenti` in `studenti_ocene` izpiše ime študenta ali študentke z najboljšim povprečnim rezultatom na kolokvijih.\n",
    "\n",
    "1. Sestavi tabelo, ki za posamezen kolokvij poroča razliko med najboljšim in najslabšim rezultatom študentov.\n",
    "\n",
    "1. V tabeli z rezultati kolokvijev, ki smo jo sestavili med predavanji, dodaj naslednje tri spremenljivke.\n",
    "\n",
    "    * `skupaj`: skupno število doseženih točk študenta (študentke) na kolokvijih;\n",
    "  \n",
    "    * `povprecje`: povprečno število doseženih točk študenta (študentke) na kolokvijih;\n",
    "  \n",
    "    * `ocena`: dosežena ocena študenta (študentke), pri čemer upoštevate običajno ocenjevalno lestvico, kjer je 10 ocena za povprečen rezultat nad 90 točk, 9 za povprečje nad 80, 8 za povprečje nad 70, 7 za povprečje nad 60, 6 za povprečje nad 50 in 5 za povprečje največ 50.\n",
    "    \n",
    "1. Sestavi tabelo funkcije $f(x,y)=\\sin(x^2+y^2)$ za vse vrednosti $x$ in $y$ na intervalu $[-2,2]$ vzorčene s korakom $0.1$, torej $\\{-2, -1.9, -1.8, \\ldots, 2\\}$. Iz te tabele za podano vrednost $\\varepsilon$ sestavi seznam treh podatkovnih tabel: prva naj vsebuje tiste vrstice, za katere velja $z = f(x, y) < -\\varepsilon$, druga vrstice $|z| \\leq \\varepsilon$ in tretja vrstice $z > \\varepsilon$.\n",
    "    \n",
    "1. Spletna stran [Covid-19 sledilnik](https://covid-19.sledilnik.org/) ponuja dnevno osvežene podatke o stanju epidemije Covid-19 v Sloveniji. Podatki o dnevnem številu okužb ponujajo tudi skozi spletne storitve [GitHub](https://github.com/sledilnik/data/blob/master/csv/stats.csv): ti podatki so v obliki CSV dostopni na naslovu [https://raw.githubusercontent.com/sledilnik/data/master/csv/stats.csv](https://raw.githubusercontent.com/sledilnik/data/master/csv/stats.csv).\n",
    "\n",
    "    Napiši program v R-ju, ki iz teh podatkov sestavi podatkovno tabelo z urejenimi dnevnimi podatki o številu okužb v celotni Sloveniji. Podatkovna tabela naj vsebuje naslednji dve spremenljivki:\n",
    "    \n",
    "    * `datum` je dimenzijska spremenjljvika z datumom opazovanega števila okužb;\n",
    "    \n",
    "    * `kumulativne_okuzbe` je merjena spremenljivka, ki za izbrano regijo poda kumulatinvo število okužb Covid-19 do izbranega datuma.\n",
    "    \n",
    "    Iz te osnovne tabele podatkov sestavi novo podatkovno tabelo, ki za posamezni mesec v opazovanem obdobju izračuna maksimalno število okužb v enem dnevu tega meseca. Nova tabela naj torej vsebuje dve spremenljivki:\n",
    "    \n",
    "    * `mesec` je dimenzijska spremenljivka, ki določi mesec opazovanja;\n",
    "    \n",
    "    * `max_dnevne_okuzbe` je numerična spremenljivka, ki poda maksimalno število dnevnih okužb v izbranem mesecu.\n",
    "    \n",
    "    Opomba in namig: Ta naloga je nadaljevanje naloge iz zvezka za predavanja o urejanju podatkov."
   ]
  }
 ],
 "metadata": {
  "kernelspec": {
   "display_name": "Python 3",
   "language": "python",
   "name": "python3"
  },
  "language_info": {
   "codemirror_mode": {
    "name": "ipython",
    "version": 3
   },
   "file_extension": ".py",
   "mimetype": "text/x-python",
   "name": "python",
   "nbconvert_exporter": "python",
   "pygments_lexer": "ipython3",
   "version": "3.11.5"
  },
  "widgets": {
   "application/vnd.jupyter.widget-state+json": {
    "state": {},
    "version_major": 2,
    "version_minor": 0
   }
  }
 },
 "nbformat": 4,
 "nbformat_minor": 4
}
