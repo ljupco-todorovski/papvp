{
 "cells": [
  {
   "cell_type": "markdown",
   "metadata": {},
   "source": [
    "# Izpeljani seznami (angl. _list comprehensions_)\n",
    "\n",
    "Izpeljani seznami v programskem jeziku Python omogočajo _enostavno in učinkovito_ ustvarjanje novih seznamov. Splošna oblika izpeljanega seznama je `[izraz for e in iterator if pogoj]`:\n",
    "\n",
    "  * `iterator` je _vir_ za ustvarjanje elementov izpeljanega seznama, lahko je seznam ali poljuben iterator,\n",
    "  * `e` je spremenljivka, ki predstavlja vrednost trenutnega elementa v viru `iterator`,\n",
    "  * `izraz` je Pythonovski izraz, ki na osnovi vrednosti `e` izračuna vrednost elementa izpeljanega seznama,\n",
    "  * `pogoj` je logični Pythonovski izraz, ki odloča o tem ali bo element vira `e` uporabljen za izračun elementa v izpeljanem seznamu.\n",
    "\n",
    "Zadnji del splošne oblike izpeljanega seznama `if pogoj` ni obvezen. Poenostavljena oblika izpeljanega seznama je tako `[izraz for e in iterator]`. V tem primeru ima izpeljani seznam toliko elementov kot je število elementov v viru `iterator`.\n",
    "\n",
    "Pri podatkovni analizi bomo pogosto obravnavali podatke spravljene v tabelah in opravljali izračune na obstoječih stolpcih tabele ter izračunavali nove stolpce. Zato bodo izpeljani seznami pogosto prišli prav, četudi v knjižnici `pandas` imamo na voljo funkcije, ki nam omogočajo dosego rezultatov brez uporabe izpeljanih seznamov. Kljub temu razumevanje koncepta izpeljanega seznama, ki se tesno navezuje na koncept funkcij višjega reda, je zelo pomemben za podatkovno analizo. Tako začnemo z ogrevanjem za \"ta pravo\" podatkovno analizo s Pythonom.\n",
    "\n",
    "## Enostaven primer in alternativi\n",
    "\n",
    "Oglejmo si primer enostavnega izpeljanega seznama, ki vsebuje kvadrate prvih deset naravnih števil:"
   ]
  },
  {
   "cell_type": "code",
   "execution_count": null,
   "metadata": {},
   "outputs": [
    {
     "ename": "",
     "evalue": "",
     "output_type": "error",
     "traceback": [
      "\u001b[1;31mRunning cells with 'Python 3.11.8' requires the ipykernel package.\n",
      "\u001b[1;31mRun the following command to install 'ipykernel' into the Python environment. \n",
      "\u001b[1;31mCommand: '/opt/homebrew/bin/python3.11 -m pip install ipykernel -U --user --force-reinstall'"
     ]
    }
   ],
   "source": [
    "kvadrati = [e ** 2 for e in range(10)]\n",
    "print(kvadrati)"
   ]
  },
  {
   "cell_type": "markdown",
   "metadata": {},
   "source": [
    "Obstajata dva alternativna načina, da ustvarimo seznam `kvadrati` iz zgornjega primera. Prvi uporabi zanko:"
   ]
  },
  {
   "cell_type": "code",
   "execution_count": null,
   "metadata": {},
   "outputs": [],
   "source": [
    "kvadrati_a = []\n",
    "for e in range(10):\n",
    "    kvadrati_a.append(e ** 2)\n",
    "print(kvadrati_a)"
   ]
  },
  {
   "cell_type": "markdown",
   "metadata": {},
   "source": [
    "Drugi način uporablja klic funkcije `map(f, iterator)`, ki kliče funkcijo `f` za vsak element iteratorja `iterator`:"
   ]
  },
  {
   "cell_type": "code",
   "execution_count": null,
   "metadata": {},
   "outputs": [],
   "source": [
    "kvadrati_b = map(lambda e: e ** 2, range(10))\n",
    "print(kvadrati_b)"
   ]
  },
  {
   "cell_type": "markdown",
   "metadata": {},
   "source": [
    "Hm, je nekaj narobe? Pravzaprav ni, rezultat funkcije `map` je iterabilni objekt, ki ga lahko s klicem funkcije `list` pretvorimo v seznam takole:"
   ]
  },
  {
   "cell_type": "code",
   "execution_count": null,
   "metadata": {},
   "outputs": [],
   "source": [
    "kvadrati_b = list(map(lambda e: e ** 2, range(10)))\n",
    "print(kvadrati_b)"
   ]
  },
  {
   "cell_type": "markdown",
   "metadata": {},
   "source": [
    "Primerjava alternativnih načinov tvorjenja seznama kvadratov naravnih števil pokaže prvo pomembno prednost izpeljanih seznamov pred alternativnimi načini za ustvarjanje tega seznama. Z uporabo izpeljanega seznama napišemo programsko kodo, ki je krajša in bolj razumljiva."
   ]
  },
  {
   "cell_type": "markdown",
   "metadata": {},
   "source": [
    "## Primer s pogojem"
   ]
  },
  {
   "cell_type": "markdown",
   "metadata": {},
   "source": [
    "Ustvarimo zdaj seznam kvadratov za liha naravna števila, ki so manjša od 10:"
   ]
  },
  {
   "cell_type": "code",
   "execution_count": null,
   "metadata": {},
   "outputs": [],
   "source": [
    "kvadrati_lihi = [e ** 2 for e in range(10) if e % 2 == 1]\n",
    "print(kvadrati_lihi)"
   ]
  },
  {
   "cell_type": "markdown",
   "metadata": {},
   "source": [
    "Za vajo sestavi program, ki ustvari seznam `kvadrati_lihi_a` z zanko. Tukaj bomo sestavili program, ki to naredi s kombinacijo funkcij `map` in `filter`. Slednja namreč izbere elemente seznama, ki zadostujejo podanemu pogoju takole:"
   ]
  },
  {
   "cell_type": "code",
   "execution_count": null,
   "metadata": {},
   "outputs": [],
   "source": [
    "list(filter(lambda e: e % 2 == 1, range(10)))"
   ]
  },
  {
   "cell_type": "markdown",
   "metadata": {},
   "source": [
    "Zdaj okrog tega klica funkcije `filter` ovijemo še klic funkcije `map`:"
   ]
  },
  {
   "cell_type": "code",
   "execution_count": null,
   "metadata": {},
   "outputs": [],
   "source": [
    "kvadrati_lihi_b = list(map(lambda e: e ** 2, filter(lambda e: e % 2 == 1, range(10))))\n",
    "print(kvadrati_lihi_b)"
   ]
  },
  {
   "cell_type": "markdown",
   "metadata": {},
   "source": [
    "## Gnezdenje izpeljanih seznamov\n",
    "\n",
    "Izpeljane sezname lahko poljubno gnezdimo na ta način tako, da je vrednost izraza `izraz` izpeljan seznam s svojim izrazom, pogojem in iteratorjem. Z ugnezdenimi izpeljanimi seznami lahko tvorimo izpeljane matrike. Primer ustvarjanja identične matrike dimenzije 3:"
   ]
  },
  {
   "cell_type": "code",
   "execution_count": null,
   "metadata": {},
   "outputs": [],
   "source": [
    "im_3 = [[1 if (i == j) else 0 for j in range(3)] for i in range(3)]\n",
    "print(im_3)"
   ]
  },
  {
   "cell_type": "markdown",
   "metadata": {},
   "source": [
    "Na tem mestu lahko opazujemo pomembno razliko med pogojem izpeljanega seznama in pogojem, ki smo ga v tem primeru uporabili znotraj izraza izpeljanega seznama. Slednji namreč določa _kako_ izračunamo element izpeljanega seznama iz vira. Pogoj izpeljanega seznama pa določa _katere_ elemente vira uporabimo za izračun elementov izpeljanega seznama.\n",
    "\n",
    "Zanke `for` lahko gnezdimo tudi brez gnezdenja seznamov, npr. takole: "
   ]
  },
  {
   "cell_type": "code",
   "execution_count": null,
   "metadata": {},
   "outputs": [],
   "source": [
    "[1 if (i == j) else 0 for j in range(3) for i in range(3)]"
   ]
  },
  {
   "cell_type": "markdown",
   "metadata": {},
   "source": [
    "Za vajo primerjaj rezultata zadnjih dveh primerov kode in pojasni razliko.\n",
    "\n",
    "Zdaj, ko vemo kaj vse nam omogočajo izpeljani seznami, definirajmo funkcijo `diag`, ki ustvari diagonalno matriko iz podanega seznama elementov na diagonali."
   ]
  },
  {
   "cell_type": "code",
   "execution_count": null,
   "metadata": {},
   "outputs": [],
   "source": [
    "def diag(d):\n",
    "    n = len(d)\n",
    "    return [[d[i] if (i == j) else 0 for j in range(n)] for i in range(n)]\n",
    "\n",
    "print(diag([-2, -1, 0, 1, 2]))"
   ]
  },
  {
   "cell_type": "markdown",
   "metadata": {},
   "source": [
    "Za vajo napiši dve alternativni definiciji funkcije `diag`: ena naj uporablja zanke, druga pa funkcijo `map`. Primerjaj alternativni definiciji z zgornjo definicijo v smislu kratkosti in razumljivost kode ter učinkovitosti izvajanja. Kaj opažaš?\n",
    "\n",
    "## Kombiniranje seznamov\n",
    "\n",
    "Na prvi pogled izpeljani seznam je omejen na uporabo enega vira oziroma enega izvirnega seznama ali iteratorja. To je le navidezno, ker bi lahko z enim virom indeksirali in kombinirali več seznamov. Primer tukaj je funkcija `plus`, ki sešteva elemente dveh seznamov, pod predpostavko, da sta podana seznama enako dolga."
   ]
  },
  {
   "cell_type": "code",
   "execution_count": null,
   "metadata": {},
   "outputs": [],
   "source": [
    "def plus(x, y):\n",
    "    assert len(x) == len(y), f\"Napaka: Seznama {x} in {y} sta različnih dolžin.\"\n",
    "    return [x[i] + y[i] for i in range(len(x))]\n",
    "\n",
    "plus([-1, 0, 1], [1, 0, -1])"
   ]
  },
  {
   "cell_type": "markdown",
   "metadata": {},
   "source": [
    "Za vajo posploši funkcijo `plus`, tako, da lahko sprejme in sešteje elemente poljubnega števila seznamov in ne zgolj dveh. Namig: spomni se na kakšen način definiramo funkcijo v Pythonu, ki sprejme poljubno število argumentov, ki ni znano vnaprej.\n",
    "\n",
    "## Prednosti in slabosti izpeljanih seznamov\n",
    "\n",
    "Prednosti:\n",
    "  * Lahko poenostavijo programsko kodo in ji izboljšajo berljivost\n",
    "  * So običajno bolj učinkoviti od alternativnih načinov tvorjenja seznamov\n",
    "\n",
    "Slabosti:\n",
    "  * Če je pogojev veliko ali izračun novih elementov zapleten, lahko postane programska koda izpeljanega seznama preveč zapletena in težko berljiva\n",
    "  * Pri izračunu naslednjega elementa izpeljanega seznama ne moremo upoštevati vrednosti prejšnjih elementov\n",
    "\n",
    "## Izpeljane množice\n",
    "\n",
    "Če v splošni obliki izpeljanega seznama `[izraz for e in iterator if pogoj]` zamenjamo oglate oklepaje z zavitimi, dobimo izpeljano množico. Je posebej uporabna takrat, ko se hočemo izogniti podvajanju elementov.\n",
    "\n",
    "Poglejmo primer, ko iz podanega seznama naslovov e-pošte hočemo izluščiti seznam različnih internetnih domen teh naslovov. Internetna domena naslova e-pošte je del tega naslova, ki sledi znaku `@`. Tako je internetna domena naslova `ljupco.todorovski@fmf.uni-lj.si` je `fmf.uni-lj.si`.\n",
    "\n",
    "Za začetek definirajmo funkcijo, ki vrne internetno domeno podanega naslova. Pri tem uporabimo metodo `split`, ki razdeli niz znakov v seznam podnizov ločenih s podanim ločilom. Poglejmo najprej primer:"
   ]
  },
  {
   "cell_type": "code",
   "execution_count": null,
   "metadata": {},
   "outputs": [],
   "source": [
    "print(\"ljupco.todorovski@fmf.uni-lj.si\".split(\"@\"))"
   ]
  },
  {
   "cell_type": "markdown",
   "metadata": {},
   "source": [
    "Želeno funkcijo zdaj definiramo takole:"
   ]
  },
  {
   "cell_type": "code",
   "execution_count": null,
   "metadata": {},
   "outputs": [],
   "source": [
    "def domena(naslov):\n",
    "    return naslov.split(\"@\")[-1]\n",
    "\n",
    "print(domena(\"ljupco.todorovski@fmf.uni-lj.si\"))"
   ]
  },
  {
   "cell_type": "markdown",
   "metadata": {},
   "source": [
    "Funkcijo uporabimo v kombinaciji z izpeljano množico, da dobimo želeni rezultat:"
   ]
  },
  {
   "cell_type": "code",
   "execution_count": null,
   "metadata": {},
   "outputs": [],
   "source": [
    "naslovi = [\n",
    "    \"ljupco.todorovski@fmf.uni-lj.si\",\n",
    "    \"ajda.lampe@fmf.uni-lj.si\",\n",
    "    \"ajda.lampe@fri.uni-lj.si\",\n",
    "    \"Katja.StembergerBrizani@pf.uni-lj.si\"\n",
    "    \"ljupco@gmail.com\",\n",
    "    \"nekdo_drug@gmail.com\"\n",
    "]\n",
    "\n",
    "domene = {domena(n) for n in naslovi}\n",
    "print(domene)"
   ]
  },
  {
   "cell_type": "markdown",
   "metadata": {},
   "source": [
    "Prilagodi zgornjo kodo tako, da izpiše seznam **vrhnjih** internetnih domen podanih naslovov e-pošte. Vrhnja internetna domena je zadnja beseda v internetni domeni, t.j., del, ki pride za zadnjo piko `.` v internetni domeni. Tako je, na primer, `com` vrhnja internetna domena za domeno `gmail.com`."
   ]
  }
 ],
 "metadata": {
  "kernelspec": {
   "display_name": "Python 3",
   "language": "python",
   "name": "python3"
  },
  "language_info": {
   "codemirror_mode": {
    "name": "ipython",
    "version": 3
   },
   "file_extension": ".py",
   "mimetype": "text/x-python",
   "name": "python",
   "nbconvert_exporter": "python",
   "pygments_lexer": "ipython3",
   "version": "3.11.8"
  },
  "widgets": {
   "application/vnd.jupyter.widget-state+json": {
    "state": {},
    "version_major": 2,
    "version_minor": 0
   }
  }
 },
 "nbformat": 4,
 "nbformat_minor": 4
}
