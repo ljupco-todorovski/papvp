{
 "cells": [
  {
   "cell_type": "markdown",
   "metadata": {},
   "source": [
    "# Podatkovni tip zaporedje, _Series_\n",
    "\n",
    "Podatkovni tip zaporedje ([`Series`](https://pandas.pydata.org/docs/reference/api/pandas.Series.html)) je osnovna struktura knjižnice Pandas za shranjevanje seznama ali vektorja podatkov **istega tipa**. Zaporedje je podobno Python-ovemu seznamu (ali stolpcu v Excel-ovi tabeli), vendar ima dodatne funkcionalnosti in je bolj prilagojeno podatkovni analizi. Vsak element zaporedja je povezan z indeksom poljubnega tipa, kar tudi lahko olajša dostop do shranjenih podatkov oziroma posameznih elementov.\n",
    "\n",
    "Zaporedje lahko ustvarimo na več načinov, a najbolj pogosto si bomo pomagali z običajnim seznamom ali slovarjem. V primeru, ko zaporedje ustvarimo iz seznama, so indeksi elementov zaporedna naravna števila, pri čemer je indeks prvega elementa, tako kot pri seznamih, enak 0. Če pa zaporedje ustvarimo iz slovarja, postanejo vrednosti elementov slovarja elementi zaporedja, ključi elementov slovarja pa indeksi elementov zaporedja.\n",
    "\n",
    "Zaporedje je implementirano kot Python-ovski razred (angl. _class_) in zato ga ustvarimo s pomočjo konstruktorja `Series` takole:"
   ]
  },
  {
   "cell_type": "code",
   "execution_count": 5,
   "metadata": {},
   "outputs": [
    {
     "name": "stdout",
     "output_type": "stream",
     "text": [
      "0    10\n",
      "1    20\n",
      "2    30\n",
      "3    40\n",
      "4    50\n",
      "dtype: int64\n"
     ]
    }
   ],
   "source": [
    "import pandas as pd\n",
    "\n",
    "s1 = pd.Series(range(10, 51, 10))\n",
    "print(s1)"
   ]
  },
  {
   "cell_type": "markdown",
   "metadata": {},
   "source": [
    "Spoznajmo na začetku nekaj ključnih lastnosti (atributov) razreda zaporedje:\n",
    "* `size`: število elementov zaporedja, tudi _dolžina_ zaporedja,\n",
    "* `dtype`: _podatkovni tip_ vrednosti elementov zaporedja,\n",
    "* `values`: vrednosti elementov zaporedja, in\n",
    "* `index`: indeksi elementov zaporedja (podobno kot `keys` v običajnih slovarjih)."
   ]
  },
  {
   "cell_type": "code",
   "execution_count": 6,
   "metadata": {},
   "outputs": [
    {
     "name": "stdout",
     "output_type": "stream",
     "text": [
      "5\n",
      "int64\n"
     ]
    }
   ],
   "source": [
    "print(s1.size)\n",
    "print(s1.dtype)"
   ]
  },
  {
   "cell_type": "markdown",
   "metadata": {},
   "source": [
    "Iz izpisa lahko torej ugotovimo, da ima zaporedje 5 elementov celoštevilskega tipa (`int64`). Poglejmo zdaj lastnost `values`:"
   ]
  },
  {
   "cell_type": "code",
   "execution_count": 7,
   "metadata": {},
   "outputs": [
    {
     "name": "stdout",
     "output_type": "stream",
     "text": [
      "<class 'numpy.ndarray'>\n",
      "[10 20 30 40 50]\n",
      "[10, 20, 30, 40, 50]\n",
      "<class 'list'>\n"
     ]
    }
   ],
   "source": [
    "print(type(s1.values))\n",
    "print(s1.values)\n",
    "print(s1.values.tolist())\n",
    "print(type(s1.values.tolist()))"
   ]
  },
  {
   "cell_type": "markdown",
   "metadata": {},
   "source": [
    "Lastnost je polje, kot ga definira knjižnica `numpy` (`numpy.ndarray`). Izpis vrednosti nam pokaže elemente polja: dejstvo, da v izpisu ni vejic med zaporednimi elementi, nakazuje, da ne gre za navaden Python-ovski seznam. Slednjega lahko dobimo z uporabo metode `tolist()`.\n",
    "\n",
    "Poglejmo si še lastnost `index`:"
   ]
  },
  {
   "cell_type": "code",
   "execution_count": 8,
   "metadata": {},
   "outputs": [
    {
     "name": "stdout",
     "output_type": "stream",
     "text": [
      "<class 'pandas.core.indexes.range.RangeIndex'>\n",
      "RangeIndex(start=0, stop=5, step=1)\n",
      "[0, 1, 2, 3, 4]\n",
      "<class 'list'>\n"
     ]
    }
   ],
   "source": [
    "print(type(s1.index))\n",
    "print(s1.index)\n",
    "print(s1.index.tolist())\n",
    "print(type(s1.index.tolist()))"
   ]
  },
  {
   "cell_type": "markdown",
   "metadata": {},
   "source": [
    "Vidimo, da tudi ta lastnost je posebnega tipa, v tem primeru `RangeIndex`, ki ga lahko z uporabo metode `tolist()` pretvorimo v običajen Python-ovski seznam.\n",
    "\n",
    "Kot smo povedali zgoraj so indeksi elementov zaporedja enaki prvim petim naravnim številom. Če želimo z indeksi poimenovati posamezne elemente zaporedja, jim lahko imena dodamo na več načinov. En način, ki nam omogoča sprotno spreminjanje indeksov, je neposredno prirejanje, kot kaže ta primer:"
   ]
  },
  {
   "cell_type": "code",
   "execution_count": 9,
   "metadata": {},
   "outputs": [
    {
     "name": "stdout",
     "output_type": "stream",
     "text": [
      "a    10\n",
      "b    20\n",
      "c    30\n",
      "d    40\n",
      "e    50\n",
      "dtype: int64\n"
     ]
    }
   ],
   "source": [
    "s2 = s1.copy()\n",
    "s2.index = list('abcde')\n",
    "# Lahko tudi s2 = pd.Series(range(10, 51, 10), index=list('abcde'))\n",
    "print(s2)"
   ]
  },
  {
   "cell_type": "markdown",
   "metadata": {},
   "source": [
    "Izpis nazorno pokaže, da so indeksi zadaj enaki prvim petim črkam angleške abecede:"
   ]
  },
  {
   "cell_type": "code",
   "execution_count": 10,
   "metadata": {},
   "outputs": [
    {
     "name": "stdout",
     "output_type": "stream",
     "text": [
      "<class 'pandas.core.indexes.base.Index'>\n",
      "Index(['a', 'b', 'c', 'd', 'e'], dtype='object')\n",
      "['a', 'b', 'c', 'd', 'e']\n"
     ]
    }
   ],
   "source": [
    "print(type(s2.index))\n",
    "print(s2.index)\n",
    "print(s2.index.tolist())"
   ]
  },
  {
   "cell_type": "markdown",
   "metadata": {},
   "source": [
    "Nenazadnje, zaporedje z indeksi poljubnega tipa in vrednosti lahko tvorimo tudi iz Python-ovega slovarja, kot kaže naslednji primer:"
   ]
  },
  {
   "cell_type": "code",
   "execution_count": 40,
   "metadata": {},
   "outputs": [
    {
     "name": "stdout",
     "output_type": "stream",
     "text": [
      "a    10.0\n",
      "b    20.0\n",
      "c    30.0\n",
      "d    40.0\n",
      "e    50.0\n",
      "dtype: float64\n"
     ]
    }
   ],
   "source": [
    "s3 = pd.Series({'a': 10.0, 'b': 20.0, 'c': 30.0, 'd': 40.0, 'e': 50.0})\n",
    "print(s3)"
   ]
  },
  {
   "cell_type": "markdown",
   "metadata": {},
   "source": [
    "Na prvi pogled zaporedje `s3` je enako zaporedju `s2`, a je v resnici med njima pomembna razlika. Elementi zaporedja `s2` so cela števila tipa `int64`. Elementi `s3` so pa numeričnega tipa `float64`, ki zajame tudi racionalna števila zapisana v formatu [plavajoča vejica](https://en.wikipedia.org/wiki/Floating-point_arithmetic) (angl. _floating point_).\n",
    "\n",
    "## Indeksiranje zaporedij\n",
    "\n",
    "Posamezne elemente zaporedij lahko dobimo z uporabo običajnega indeksiranja, enakega tistemu za navadne Python-ovske sezname:"
   ]
  },
  {
   "cell_type": "code",
   "execution_count": 11,
   "metadata": {},
   "outputs": [
    {
     "name": "stdout",
     "output_type": "stream",
     "text": [
      "20\n",
      "20\n"
     ]
    },
    {
     "name": "stderr",
     "output_type": "stream",
     "text": [
      "/var/folders/g7/xgt9ckmj6g1404knwg8j5rkc0000gn/T/ipykernel_4896/2625357706.py:2: FutureWarning: Series.__getitem__ treating keys as positions is deprecated. In a future version, integer keys will always be treated as labels (consistent with DataFrame behavior). To access a value by position, use `ser.iloc[pos]`\n",
      "  print(s2[1])\n"
     ]
    }
   ],
   "source": [
    "print(s1[1])\n",
    "print(s2[1])"
   ]
  },
  {
   "cell_type": "markdown",
   "metadata": {},
   "source": [
    "Bodite pozorni na opozorilo pri drugem indeksiranju. Namreč, izraz `s2[1]` nima ravno smisla, saj ima zaporedje `s2` poimenovane indekse in bi bilo pravilno uporabiti ustrezni indeks:"
   ]
  },
  {
   "cell_type": "code",
   "execution_count": 12,
   "metadata": {},
   "outputs": [
    {
     "name": "stdout",
     "output_type": "stream",
     "text": [
      "20\n"
     ]
    }
   ],
   "source": [
    "print(s2['b'])"
   ]
  },
  {
   "cell_type": "markdown",
   "metadata": {},
   "source": [
    "Opozorila ni več. Če želimo dobiti vrednost *drugega elementa* zaporedja `s2`, kjer, na primer, ne poznamo njegovega indeksa, to lahko storimo na dva načina:"
   ]
  },
  {
   "cell_type": "code",
   "execution_count": 13,
   "metadata": {},
   "outputs": [
    {
     "name": "stdout",
     "output_type": "stream",
     "text": [
      "20\n",
      "20\n"
     ]
    }
   ],
   "source": [
    "print(s2[s2.index[1]])\n",
    "print(s2.iloc[1])"
   ]
  },
  {
   "cell_type": "markdown",
   "metadata": {},
   "source": [
    "Prvi sloni na očitni uporabi lastnosti `s2.index`: z indeksiranjem tega seznama indeksov dobimo pravi, poimenovani indeks drugega elementa zaporedja `s2`. Drugi način sloni na uporabi še enega načina indeksiranja zaporedij skozi lastnost `iloc`. Spoznajmo to lastnost bolj podrobno."
   ]
  },
  {
   "cell_type": "markdown",
   "metadata": {},
   "source": [
    "## Atributi zaporedij `iloc` in `loc`\n",
    "\n",
    "Zaporedja imajo dve lastnosti, ki so nam lahko v pomoč pri njihovem indeksiranju.\n",
    "\n",
    "Lastnost [`iloc`](https://pandas.pydata.org/docs/reference/api/pandas.Series.iloc.html) uporabljamo za izbiranje elementov zaporedja `z` na podlagi njihovih *pozicij*, t.j., zaporednih celoštevilskih indeksov iz `range(z.size)` oziroma seznama `[0, 1, ..., z.size]`."
   ]
  },
  {
   "cell_type": "code",
   "execution_count": 14,
   "metadata": {},
   "outputs": [
    {
     "name": "stdout",
     "output_type": "stream",
     "text": [
      "10\n",
      "b    20\n",
      "c    30\n",
      "dtype: int64\n",
      "b    20\n",
      "c    30\n",
      "dtype: int64\n",
      "a    10\n",
      "b    20\n",
      "c    30\n",
      "d    40\n",
      "e    50\n",
      "dtype: int64\n"
     ]
    }
   ],
   "source": [
    "print(s2.iloc[0])\n",
    "print(s2.iloc[1:3])\n",
    "print(s2.iloc[1:-2])\n",
    "print(s2.iloc[:])"
   ]
  },
  {
   "cell_type": "markdown",
   "metadata": {},
   "source": [
    "Lastnost nam torej omogoča, da indeksiramo elemente zaporedja na enak način, kot smo vajeni indeksiranja elementov običajnega Python-ovskega seznama. Tako, na primer, indeks `[1:3]` nam indeksira drugi in tretji element seznama (ne pa četrtega, ker, **pozor**, indeks `3` ne sodi v območje `1:3`).\n",
    "\n",
    "Bodite tudi pozorni na razliko med zadnjimi tremi in prvim rezultatom, ki je enostavnega celoštevilskega tipa, ker smo pač indeksirali zgolj en element zaporedja. Zadnji trije rezultati so tipa zaporedje. Za vajo premisli kako bi rezultat indeksiranja spremenil v običajen Python-ovski seznam.\n",
    "\n",
    "Lastnost [`loc`](https://pandas.pydata.org/docs/reference/api/pandas.Series.loc.html) je podobna `iloc` s pomembno razliko: omogoča nam indeksiranje zaporedij na osnovi **poimenovanih indeksov** in ne pozicijskih indeksov:"
   ]
  },
  {
   "cell_type": "code",
   "execution_count": 15,
   "metadata": {},
   "outputs": [
    {
     "name": "stdout",
     "output_type": "stream",
     "text": [
      "10\n",
      "b    20\n",
      "c    30\n",
      "d    40\n",
      "dtype: int64\n",
      "a    10\n",
      "b    20\n",
      "c    30\n",
      "d    40\n",
      "e    50\n",
      "dtype: int64\n"
     ]
    }
   ],
   "source": [
    "print(s2.loc['a'])\n",
    "print(s2.loc['b':'d'])\n",
    "print(s2.loc[:])"
   ]
  },
  {
   "cell_type": "markdown",
   "metadata": {},
   "source": [
    "Čeprav se zdijo rezultati samoumevni, naj opozorim na eno stvar. Območje `'b':'d'` vključuje tudi zadnji indeks območja, `'d'`. **Pozor**: to je drugače kot pri številskem območju `1:3`, kjer indeks `3`, t.j., zgornja meja območja, ni vključen v seznam zahtevanih indeksov.\n",
    "\n",
    "## O tipih elementov zaporedja\n",
    "\n",
    "Elementi zaporedja so **praviloma** istega tipa. Izjemoma (res **izjemoma**) so lahko različnih tipov. Za tvorjenje takega zaporedja, bomo uporabili funkcijo `concat`, ki elemente iz zaporedij v podanem naboru združi skupaj v eno zaporedje. Naredimo najprej dva zaporedja, enega s celoštevilčnimi elementi in drugega z elementi, ki so nizi znakov:"
   ]
  },
  {
   "cell_type": "code",
   "execution_count": 16,
   "metadata": {},
   "outputs": [
    {
     "name": "stdout",
     "output_type": "stream",
     "text": [
      "0    0\n",
      "1    1\n",
      "2    2\n",
      "0    a\n",
      "1    b\n",
      "2    c\n",
      "dtype: object\n"
     ]
    }
   ],
   "source": [
    "s_int = pd.Series(range(3))\n",
    "s_chr = pd.Series(list('abc'))\n",
    "print(s_int)\n",
    "print(s_chr)\n"
   ]
  },
  {
   "cell_type": "markdown",
   "metadata": {},
   "source": [
    "Poglejmo zdaj združeno zaporedje:"
   ]
  },
  {
   "cell_type": "code",
   "execution_count": null,
   "metadata": {},
   "outputs": [],
   "source": [
    "s_cuden = pd.concat((s_int, s_chr))\n",
    "print(s_cuden)"
   ]
  },
  {
   "cell_type": "markdown",
   "metadata": {},
   "source": [
    "Dobljeno zaporedje je čudno na več načinov. Najprej, med združevanjem dveh zaporedij s celoštevilskimi elementi in nizi znakov, poenoti tipe elementov tako, da celoštevilski elementi dobijo nove vrednosti splošnega tipa `object`. Še bolj nenavadno je, da se indeksi v novem zaporedju ponavljajo. Poglejmo zdaj kako poteka indeksiranje z uporabo lastnosti `loc` v takem seznamu:"
   ]
  },
  {
   "cell_type": "code",
   "execution_count": 17,
   "metadata": {},
   "outputs": [
    {
     "name": "stdout",
     "output_type": "stream",
     "text": [
      "0    0\n",
      "0    a\n",
      "dtype: object\n"
     ]
    }
   ],
   "source": [
    "print(s_cuden.loc[0])"
   ]
  },
  {
   "cell_type": "markdown",
   "metadata": {},
   "source": [
    "Hecno je, da indeksiranje z enim samim indeksom vrne zaporedje dveh elementov. Seveda se temu lahko izognemo tako, da uporabljamo pozicijski indeks:"
   ]
  },
  {
   "cell_type": "code",
   "execution_count": 18,
   "metadata": {},
   "outputs": [
    {
     "name": "stdout",
     "output_type": "stream",
     "text": [
      "a\n"
     ]
    }
   ],
   "source": [
    "print(s_cuden.iloc[3])"
   ]
  },
  {
   "cell_type": "markdown",
   "metadata": {},
   "source": [
    "Za vajo popravi indekse zaporedja `s_cuden` tako, da se ne ponavljajo.\n",
    "\n",
    "A pomemben nauk zgodbe je, da elementi zaporedja, tako kot elementi seznama, morajo biti istega tipa. Tip elementov nam pove lastnost zaporedja `dtype`: pogosto ta podatkovni tip imenujemo **tip zaporedja**. Poglejmo zdaj nekaj tipov zaporedij, ki pridejo prav pri podatkovni analizi.\n",
    "\n",
    "\n",
    "## Kategorije (angl. _categories_)\n",
    "\n",
    "V vseh dosedanjih primerih smo tvorili zaporedja numeričnih tipov ali zaporedja nizov znakov. Kategorije so posebni tip zaporedij, katerih vrednosti elementov so iz končne množice možnih vrednosti. Primer takega zaporedja zapisuje barve opazovanih objektov, pri čemer je posamezen objekt lahko rdeče, zelene ali modre barve.\n",
    "\n",
    "Tako zaporedje bi seveda lahko zapisali kot navadno zaporedje nizov znakov:"
   ]
  },
  {
   "cell_type": "code",
   "execution_count": 19,
   "metadata": {},
   "outputs": [
    {
     "name": "stdout",
     "output_type": "stream",
     "text": [
      "0     modra\n",
      "1     rdeča\n",
      "2     rdeča\n",
      "3     modra\n",
      "4     rdeča\n",
      "5     rdeča\n",
      "6     modra\n",
      "7     rdeča\n",
      "8     modra\n",
      "9    zelena\n",
      "dtype: object\n"
     ]
    }
   ],
   "source": [
    "from random import seed, sample\n",
    "\n",
    "seed(42)\n",
    "\n",
    "barve = ['rdeča', 'zelena', 'modra']\n",
    "s_barve = pd.Series(sample(barve, counts=[10, 10, 10], k=10))\n",
    "print(s_barve)"
   ]
  },
  {
   "cell_type": "markdown",
   "metadata": {},
   "source": [
    "Slabost tega zaporedja je, da pri spreminjanju vrednosti obstoječih elementov nimamo kontrole nad množico dovoljenih vrednosti. Lahko naredimo napako pri poimenovanju barve in pri tem ne dobimo nobenega opozorila:"
   ]
  },
  {
   "cell_type": "code",
   "execution_count": 20,
   "metadata": {},
   "outputs": [
    {
     "name": "stdout",
     "output_type": "stream",
     "text": [
      "0    modra\n",
      "1    rdeča\n",
      "2    rdeča\n",
      "3    modra\n",
      "4    rdeča\n",
      "5    rdeča\n",
      "6    modra\n",
      "7    rdeča\n",
      "8    modra\n",
      "9    rdeca\n",
      "dtype: object\n"
     ]
    }
   ],
   "source": [
    "s_barve[9] = 'rdeca'\n",
    "print(s_barve)"
   ]
  },
  {
   "cell_type": "markdown",
   "metadata": {},
   "source": [
    "Če pa ustvarimo zaporedje tipa [kategorija](https://pandas.pydata.org/docs/user_guide/categorical.html):"
   ]
  },
  {
   "cell_type": "code",
   "execution_count": 21,
   "metadata": {},
   "outputs": [
    {
     "name": "stdout",
     "output_type": "stream",
     "text": [
      "0     rdeča\n",
      "1    zelena\n",
      "2    zelena\n",
      "3     rdeča\n",
      "4     rdeča\n",
      "5     modra\n",
      "6     rdeča\n",
      "7     rdeča\n",
      "8    zelena\n",
      "9    zelena\n",
      "dtype: category\n",
      "Categories (3, object): ['modra', 'rdeča', 'zelena']\n"
     ]
    }
   ],
   "source": [
    "s_barve = pd.Series(sample(barve, counts=[10, 10, 10], k=10), dtype=\"category\")\n",
    "print(s_barve)"
   ]
  },
  {
   "cell_type": "markdown",
   "metadata": {},
   "source": [
    "dobi ustvarjeno zaporedje novo lastnost `Categories`, ki določa množico možnih vrednosti njegovih elementov (glej zadnjo vrstico izpisa). Vrednost te lastnosti je dosegljiv skozi lastnost `cat.categories`, ki jo lahko z metodo `tolist` pretvorimo v navaden Python-ovski seznam:"
   ]
  },
  {
   "cell_type": "code",
   "execution_count": null,
   "metadata": {},
   "outputs": [],
   "source": [
    "print(s_barve.cat.categories.tolist())"
   ]
  },
  {
   "cell_type": "markdown",
   "metadata": {},
   "source": [
    "Poskus prirejanja vrednosti elementa, ki ni v množici možnih vrednosti kategorije, se konča z napako `TypeError`, kot kaže naslednji primer:"
   ]
  },
  {
   "cell_type": "code",
   "execution_count": 22,
   "metadata": {},
   "outputs": [
    {
     "ename": "TypeError",
     "evalue": "Cannot setitem on a Categorical with a new category (rdeca), set the categories first",
     "output_type": "error",
     "traceback": [
      "\u001b[0;31m---------------------------------------------------------------------------\u001b[0m",
      "\u001b[0;31mTypeError\u001b[0m                                 Traceback (most recent call last)",
      "Cell \u001b[0;32mIn[22], line 1\u001b[0m\n\u001b[0;32m----> 1\u001b[0m \u001b[43ms_barve\u001b[49m\u001b[43m[\u001b[49m\u001b[38;5;241;43m9\u001b[39;49m\u001b[43m]\u001b[49m \u001b[38;5;241m=\u001b[39m \u001b[38;5;124m\"\u001b[39m\u001b[38;5;124mrdeca\u001b[39m\u001b[38;5;124m\"\u001b[39m\n\u001b[1;32m      2\u001b[0m \u001b[38;5;28mprint\u001b[39m(s_barve)\n",
      "File \u001b[0;32m~/predmeti/pandas/venv/lib/python3.11/site-packages/pandas/core/series.py:1228\u001b[0m, in \u001b[0;36mSeries.__setitem__\u001b[0;34m(self, key, value)\u001b[0m\n\u001b[1;32m   1225\u001b[0m \u001b[38;5;28;01mexcept\u001b[39;00m (\u001b[38;5;167;01mTypeError\u001b[39;00m, \u001b[38;5;167;01mValueError\u001b[39;00m, LossySetitemError):\n\u001b[1;32m   1226\u001b[0m     \u001b[38;5;66;03m# The key was OK, but we cannot set the value losslessly\u001b[39;00m\n\u001b[1;32m   1227\u001b[0m     indexer \u001b[38;5;241m=\u001b[39m \u001b[38;5;28mself\u001b[39m\u001b[38;5;241m.\u001b[39mindex\u001b[38;5;241m.\u001b[39mget_loc(key)\n\u001b[0;32m-> 1228\u001b[0m     \u001b[38;5;28;43mself\u001b[39;49m\u001b[38;5;241;43m.\u001b[39;49m\u001b[43m_set_values\u001b[49m\u001b[43m(\u001b[49m\u001b[43mindexer\u001b[49m\u001b[43m,\u001b[49m\u001b[43m \u001b[49m\u001b[43mvalue\u001b[49m\u001b[43m)\u001b[49m\n\u001b[1;32m   1230\u001b[0m \u001b[38;5;28;01mexcept\u001b[39;00m InvalidIndexError \u001b[38;5;28;01mas\u001b[39;00m err:\n\u001b[1;32m   1231\u001b[0m     \u001b[38;5;28;01mif\u001b[39;00m \u001b[38;5;28misinstance\u001b[39m(key, \u001b[38;5;28mtuple\u001b[39m) \u001b[38;5;129;01mand\u001b[39;00m \u001b[38;5;129;01mnot\u001b[39;00m \u001b[38;5;28misinstance\u001b[39m(\u001b[38;5;28mself\u001b[39m\u001b[38;5;241m.\u001b[39mindex, MultiIndex):\n\u001b[1;32m   1232\u001b[0m         \u001b[38;5;66;03m# cases with MultiIndex don't get here bc they raise KeyError\u001b[39;00m\n\u001b[1;32m   1233\u001b[0m         \u001b[38;5;66;03m# e.g. test_basic_getitem_setitem_corner\u001b[39;00m\n",
      "File \u001b[0;32m~/predmeti/pandas/venv/lib/python3.11/site-packages/pandas/core/series.py:1320\u001b[0m, in \u001b[0;36mSeries._set_values\u001b[0;34m(self, key, value)\u001b[0m\n\u001b[1;32m   1317\u001b[0m \u001b[38;5;28;01mif\u001b[39;00m \u001b[38;5;28misinstance\u001b[39m(key, (Index, Series)):\n\u001b[1;32m   1318\u001b[0m     key \u001b[38;5;241m=\u001b[39m key\u001b[38;5;241m.\u001b[39m_values\n\u001b[0;32m-> 1320\u001b[0m \u001b[38;5;28mself\u001b[39m\u001b[38;5;241m.\u001b[39m_mgr \u001b[38;5;241m=\u001b[39m \u001b[38;5;28;43mself\u001b[39;49m\u001b[38;5;241;43m.\u001b[39;49m\u001b[43m_mgr\u001b[49m\u001b[38;5;241;43m.\u001b[39;49m\u001b[43msetitem\u001b[49m\u001b[43m(\u001b[49m\u001b[43mindexer\u001b[49m\u001b[38;5;241;43m=\u001b[39;49m\u001b[43mkey\u001b[49m\u001b[43m,\u001b[49m\u001b[43m \u001b[49m\u001b[43mvalue\u001b[49m\u001b[38;5;241;43m=\u001b[39;49m\u001b[43mvalue\u001b[49m\u001b[43m)\u001b[49m\n\u001b[1;32m   1321\u001b[0m \u001b[38;5;28mself\u001b[39m\u001b[38;5;241m.\u001b[39m_maybe_update_cacher()\n",
      "File \u001b[0;32m~/predmeti/pandas/venv/lib/python3.11/site-packages/pandas/core/internals/managers.py:399\u001b[0m, in \u001b[0;36mBaseBlockManager.setitem\u001b[0;34m(self, indexer, value)\u001b[0m\n\u001b[1;32m    395\u001b[0m     \u001b[38;5;66;03m# No need to split if we either set all columns or on a single block\u001b[39;00m\n\u001b[1;32m    396\u001b[0m     \u001b[38;5;66;03m# manager\u001b[39;00m\n\u001b[1;32m    397\u001b[0m     \u001b[38;5;28mself\u001b[39m \u001b[38;5;241m=\u001b[39m \u001b[38;5;28mself\u001b[39m\u001b[38;5;241m.\u001b[39mcopy()\n\u001b[0;32m--> 399\u001b[0m \u001b[38;5;28;01mreturn\u001b[39;00m \u001b[38;5;28;43mself\u001b[39;49m\u001b[38;5;241;43m.\u001b[39;49m\u001b[43mapply\u001b[49m\u001b[43m(\u001b[49m\u001b[38;5;124;43m\"\u001b[39;49m\u001b[38;5;124;43msetitem\u001b[39;49m\u001b[38;5;124;43m\"\u001b[39;49m\u001b[43m,\u001b[49m\u001b[43m \u001b[49m\u001b[43mindexer\u001b[49m\u001b[38;5;241;43m=\u001b[39;49m\u001b[43mindexer\u001b[49m\u001b[43m,\u001b[49m\u001b[43m \u001b[49m\u001b[43mvalue\u001b[49m\u001b[38;5;241;43m=\u001b[39;49m\u001b[43mvalue\u001b[49m\u001b[43m)\u001b[49m\n",
      "File \u001b[0;32m~/predmeti/pandas/venv/lib/python3.11/site-packages/pandas/core/internals/managers.py:354\u001b[0m, in \u001b[0;36mBaseBlockManager.apply\u001b[0;34m(self, f, align_keys, **kwargs)\u001b[0m\n\u001b[1;32m    352\u001b[0m         applied \u001b[38;5;241m=\u001b[39m b\u001b[38;5;241m.\u001b[39mapply(f, \u001b[38;5;241m*\u001b[39m\u001b[38;5;241m*\u001b[39mkwargs)\n\u001b[1;32m    353\u001b[0m     \u001b[38;5;28;01melse\u001b[39;00m:\n\u001b[0;32m--> 354\u001b[0m         applied \u001b[38;5;241m=\u001b[39m \u001b[38;5;28;43mgetattr\u001b[39;49m\u001b[43m(\u001b[49m\u001b[43mb\u001b[49m\u001b[43m,\u001b[49m\u001b[43m \u001b[49m\u001b[43mf\u001b[49m\u001b[43m)\u001b[49m\u001b[43m(\u001b[49m\u001b[38;5;241;43m*\u001b[39;49m\u001b[38;5;241;43m*\u001b[39;49m\u001b[43mkwargs\u001b[49m\u001b[43m)\u001b[49m\n\u001b[1;32m    355\u001b[0m     result_blocks \u001b[38;5;241m=\u001b[39m extend_blocks(applied, result_blocks)\n\u001b[1;32m    357\u001b[0m out \u001b[38;5;241m=\u001b[39m \u001b[38;5;28mtype\u001b[39m(\u001b[38;5;28mself\u001b[39m)\u001b[38;5;241m.\u001b[39mfrom_blocks(result_blocks, \u001b[38;5;28mself\u001b[39m\u001b[38;5;241m.\u001b[39maxes)\n",
      "File \u001b[0;32m~/predmeti/pandas/venv/lib/python3.11/site-packages/pandas/core/internals/blocks.py:1758\u001b[0m, in \u001b[0;36mEABackedBlock.setitem\u001b[0;34m(self, indexer, value, using_cow)\u001b[0m\n\u001b[1;32m   1755\u001b[0m check_setitem_lengths(indexer, value, values)\n\u001b[1;32m   1757\u001b[0m \u001b[38;5;28;01mtry\u001b[39;00m:\n\u001b[0;32m-> 1758\u001b[0m     \u001b[43mvalues\u001b[49m\u001b[43m[\u001b[49m\u001b[43mindexer\u001b[49m\u001b[43m]\u001b[49m \u001b[38;5;241m=\u001b[39m value\n\u001b[1;32m   1759\u001b[0m \u001b[38;5;28;01mexcept\u001b[39;00m (\u001b[38;5;167;01mValueError\u001b[39;00m, \u001b[38;5;167;01mTypeError\u001b[39;00m) \u001b[38;5;28;01mas\u001b[39;00m err:\n\u001b[1;32m   1760\u001b[0m     _catch_deprecated_value_error(err)\n",
      "File \u001b[0;32m~/predmeti/pandas/venv/lib/python3.11/site-packages/pandas/core/arrays/_mixins.py:253\u001b[0m, in \u001b[0;36mNDArrayBackedExtensionArray.__setitem__\u001b[0;34m(self, key, value)\u001b[0m\n\u001b[1;32m    251\u001b[0m \u001b[38;5;28;01mdef\u001b[39;00m \u001b[38;5;21m__setitem__\u001b[39m(\u001b[38;5;28mself\u001b[39m, key, value) \u001b[38;5;241m-\u001b[39m\u001b[38;5;241m>\u001b[39m \u001b[38;5;28;01mNone\u001b[39;00m:\n\u001b[1;32m    252\u001b[0m     key \u001b[38;5;241m=\u001b[39m check_array_indexer(\u001b[38;5;28mself\u001b[39m, key)\n\u001b[0;32m--> 253\u001b[0m     value \u001b[38;5;241m=\u001b[39m \u001b[38;5;28;43mself\u001b[39;49m\u001b[38;5;241;43m.\u001b[39;49m\u001b[43m_validate_setitem_value\u001b[49m\u001b[43m(\u001b[49m\u001b[43mvalue\u001b[49m\u001b[43m)\u001b[49m\n\u001b[1;32m    254\u001b[0m     \u001b[38;5;28mself\u001b[39m\u001b[38;5;241m.\u001b[39m_ndarray[key] \u001b[38;5;241m=\u001b[39m value\n",
      "File \u001b[0;32m~/predmeti/pandas/venv/lib/python3.11/site-packages/pandas/core/arrays/categorical.py:1562\u001b[0m, in \u001b[0;36mCategorical._validate_setitem_value\u001b[0;34m(self, value)\u001b[0m\n\u001b[1;32m   1560\u001b[0m     \u001b[38;5;28;01mreturn\u001b[39;00m \u001b[38;5;28mself\u001b[39m\u001b[38;5;241m.\u001b[39m_validate_listlike(value)\n\u001b[1;32m   1561\u001b[0m \u001b[38;5;28;01melse\u001b[39;00m:\n\u001b[0;32m-> 1562\u001b[0m     \u001b[38;5;28;01mreturn\u001b[39;00m \u001b[38;5;28;43mself\u001b[39;49m\u001b[38;5;241;43m.\u001b[39;49m\u001b[43m_validate_scalar\u001b[49m\u001b[43m(\u001b[49m\u001b[43mvalue\u001b[49m\u001b[43m)\u001b[49m\n",
      "File \u001b[0;32m~/predmeti/pandas/venv/lib/python3.11/site-packages/pandas/core/arrays/categorical.py:1587\u001b[0m, in \u001b[0;36mCategorical._validate_scalar\u001b[0;34m(self, fill_value)\u001b[0m\n\u001b[1;32m   1585\u001b[0m     fill_value \u001b[38;5;241m=\u001b[39m \u001b[38;5;28mself\u001b[39m\u001b[38;5;241m.\u001b[39m_unbox_scalar(fill_value)\n\u001b[1;32m   1586\u001b[0m \u001b[38;5;28;01melse\u001b[39;00m:\n\u001b[0;32m-> 1587\u001b[0m     \u001b[38;5;28;01mraise\u001b[39;00m \u001b[38;5;167;01mTypeError\u001b[39;00m(\n\u001b[1;32m   1588\u001b[0m         \u001b[38;5;124m\"\u001b[39m\u001b[38;5;124mCannot setitem on a Categorical with a new \u001b[39m\u001b[38;5;124m\"\u001b[39m\n\u001b[1;32m   1589\u001b[0m         \u001b[38;5;124mf\u001b[39m\u001b[38;5;124m\"\u001b[39m\u001b[38;5;124mcategory (\u001b[39m\u001b[38;5;132;01m{\u001b[39;00mfill_value\u001b[38;5;132;01m}\u001b[39;00m\u001b[38;5;124m), set the categories first\u001b[39m\u001b[38;5;124m\"\u001b[39m\n\u001b[1;32m   1590\u001b[0m     ) \u001b[38;5;28;01mfrom\u001b[39;00m \u001b[38;5;28;01mNone\u001b[39;00m\n\u001b[1;32m   1591\u001b[0m \u001b[38;5;28;01mreturn\u001b[39;00m fill_value\n",
      "\u001b[0;31mTypeError\u001b[0m: Cannot setitem on a Categorical with a new category (rdeca), set the categories first"
     ]
    }
   ],
   "source": [
    "s_barve[9] = \"rdeca\"\n",
    "print(s_barve)"
   ]
  },
  {
   "cell_type": "markdown",
   "metadata": {},
   "source": [
    "Za razliko od tega, prirejanje vrednosti iz množice možnih vrednosti je uspešno:"
   ]
  },
  {
   "cell_type": "code",
   "execution_count": 19,
   "metadata": {},
   "outputs": [
    {
     "name": "stdout",
     "output_type": "stream",
     "text": [
      "['modra', 'rdeča', 'zelena']\n",
      "0     rdeča\n",
      "1    zelena\n",
      "2    zelena\n",
      "3     rdeča\n",
      "4     rdeča\n",
      "5     modra\n",
      "6     rdeča\n",
      "7     rdeča\n",
      "8    zelena\n",
      "9     rdeča\n",
      "dtype: category\n",
      "Categories (3, object): ['modra', 'rdeča', 'zelena']\n"
     ]
    }
   ],
   "source": [
    "s_barve[9] = \"rdeča\"\n",
    "print(s_barve)"
   ]
  },
  {
   "cell_type": "markdown",
   "metadata": {},
   "source": [
    "### Dodatne prednosti kategorij\n",
    "\n",
    "Poleg kontrole nad množico možnih vrednosti, imajo kategorije še tri pomembne lastnosti, ki so še posebej pomembne pri obdelavi in analizi podatkov.\n",
    "   * _Zmanjšanje porabe pomnilnika_: kategorije zasedajo manj pomnilnika kot nizi ali števila, saj se vsaka možna vrednost shrani samo enkrat, in nato se uporabijo celoštevilski indeksi za sklicevanje nanje.\n",
    "   * _Hitrejše osnovne operacije_: ker so kategorije predhodno določene, so operacije, kot je, na primer, iskanje elementa ali filtriranje, običajno hitrejše v primerjavi z nizi znakov.\n",
    "   * _Bolj pregledne statistične obdelave in vizualizacija_: lahko, na primer, izračunamo porazdelitev vrednosti zaporedja po kategorijah ali pa izračunamo povprečne vrednosti neke druge spremenljivke za različne kategorije.\n",
    "\n",
    "**Pozor**: v zadnji alineji zgoraj smo besedo kategorije uporabili kot okrajšavo za `možne vrednosti kategorije`. To bomo v nadaljevanju počeli večkrat: beseda kategorija bo včasih uporabljena za določanje tipa zaporedja, včasih pa za eno možno vrednost elementov zaporedja. Običajno je iz konteksta razviden specifičen pomen besede.\n",
    "   \n",
    "#### Dodajanje novih možnih vrednosti\n",
    "\n",
    "Kot smo videli v zgornjem primeru, je seznam možnih kategorij dosegljiv čez lastnost `cat` zaporedja tipa kategorije. Spomnimo se:"
   ]
  },
  {
   "cell_type": "code",
   "execution_count": 20,
   "metadata": {},
   "outputs": [
    {
     "name": "stdout",
     "output_type": "stream",
     "text": [
      "['modra', 'rdeča', 'zelena']\n"
     ]
    }
   ],
   "source": [
    "print(s_barve.cat.categories.tolist())"
   ]
  },
  {
   "cell_type": "markdown",
   "metadata": {},
   "source": [
    "Isto lastnost lahko uporabimo tudi za spreminjanje nabora možnih vrednosti. Z uporabo funkcij metod [`add_categories`](https://pandas.pydata.org/docs/reference/api/pandas.Series.cat.add_categories.html) in [`remove_categories`](https://pandas.pydata.org/docs/reference/api/pandas.Series.cat.remove_categories.html) lahko dodamo novo barvo, ali zbrišemo obstoječo:"
   ]
  },
  {
   "cell_type": "code",
   "execution_count": 21,
   "metadata": {},
   "outputs": [
    {
     "name": "stdout",
     "output_type": "stream",
     "text": [
      "0     rdeča\n",
      "1    zelena\n",
      "2    zelena\n",
      "3     rdeča\n",
      "4     rdeča\n",
      "5     modra\n",
      "6     rdeča\n",
      "7     rdeča\n",
      "8    zelena\n",
      "9     rdeča\n",
      "dtype: category\n",
      "Categories (4, object): ['modra', 'rdeča', 'zelena', 'rumena']\n",
      "0       NaN\n",
      "1    zelena\n",
      "2    zelena\n",
      "3       NaN\n",
      "4       NaN\n",
      "5     modra\n",
      "6       NaN\n",
      "7       NaN\n",
      "8    zelena\n",
      "9       NaN\n",
      "dtype: category\n",
      "Categories (3, object): ['modra', 'rumena', 'zelena']\n"
     ]
    }
   ],
   "source": [
    "s_barve = s_barve.cat.add_categories(\"rumena\")\n",
    "print(s_barve)\n",
    "s_barve = s_barve.cat.remove_categories(\"rdeča\")\n",
    "print(s_barve)"
   ]
  },
  {
   "cell_type": "markdown",
   "metadata": {},
   "source": [
    "Pojasni pojav neznanih vrednosti `NaN` v zadnjem zaporedju."
   ]
  },
  {
   "cell_type": "markdown",
   "metadata": {},
   "source": [
    "### Urejene kategorije\n",
    "\n",
    "Možne vrednosti kategorije niso urejene oziroma med vrednostmi kategorije ni relacije urejenosti. V zgornjem primeru z barvami je to seveda prav, saj ne poznamo relacije urejenosti med barvami. Po drugi strani, obstajajo kategorije, kjer je smiselno upoštevati urejenost možnih vrednosti. Vzemimo za primer starostne skupine:"
   ]
  },
  {
   "cell_type": "code",
   "execution_count": 22,
   "metadata": {},
   "outputs": [
    {
     "name": "stdout",
     "output_type": "stream",
     "text": [
      "0          otrok\n",
      "1        odrasla\n",
      "2      najstnica\n",
      "3        odrasla\n",
      "4    mladostnica\n",
      "5      najstnica\n",
      "6    mladostnica\n",
      "7      najstnica\n",
      "8          otrok\n",
      "9    mladostnica\n",
      "dtype: category\n",
      "Categories (4, object): ['otrok' < 'najstnica' < 'mladostnica' < 'odrasla']\n"
     ]
    }
   ],
   "source": [
    "from pandas.api.types import CategoricalDtype\n",
    "\n",
    "starostne_skupine = [\"otrok\", \"najstnica\", \"mladostnica\", \"odrasla\"]\n",
    "kat_ss = CategoricalDtype(starostne_skupine, ordered=True)\n",
    "starost = pd.Series(sample(starostne_skupine, counts=[10 for _ in range(len(starostne_skupine))], k=10))\n",
    "s_starost = starost.astype(kat_ss)\n",
    "print(s_starost)"
   ]
  },
  {
   "cell_type": "markdown",
   "metadata": {},
   "source": [
    "Znaki `<` v seznamu kategorij na koncu izpisa nakazujejo, da je kategorija `s_starost` urejena ter hkrati nakazujejo urejenost možnih vrednosti kategorije.\n",
    "\n",
    "Urejene kategorije pogosto tvorimo z **diskretizacijo** numeričnih vrednosti. Diskretizacija pomeni, da zaporedje numeričnih (celoštevilčnih) vrednosti spremenimo v zaporedje diskretnih, običajno urejenih vrednosti. V primeru starosti, pri osebah običajno opazujemo starost v letih. Z uporabo funkcije `cut` lahko starost podano v letih pretvorimo v starostne skupine iz prejšnjega primera:"
   ]
  },
  {
   "cell_type": "code",
   "execution_count": 23,
   "metadata": {},
   "outputs": [
    {
     "name": "stdout",
     "output_type": "stream",
     "text": [
      "0    20\n",
      "1    89\n",
      "2    54\n",
      "3    43\n",
      "4    35\n",
      "5    19\n",
      "6    27\n",
      "7    97\n",
      "8    13\n",
      "9    11\n",
      "dtype: int64\n",
      "0    mladostnica\n",
      "1        odrasla\n",
      "2        odrasla\n",
      "3        odrasla\n",
      "4        odrasla\n",
      "5      najstnica\n",
      "6    mladostnica\n",
      "7        odrasla\n",
      "8      najstnica\n",
      "9          otrok\n",
      "dtype: category\n",
      "Categories (4, object): ['otrok' < 'najstnica' < 'mladostnica' < 'odrasla']\n"
     ]
    }
   ],
   "source": [
    "starost_v_letih = pd.Series(sample(range(100), k=10))\n",
    "print(starost_v_letih)\n",
    "starostne_meje = [-100, 12, 20, 28, 1000]\n",
    "starost_kat = pd.cut(starost_v_letih, starostne_meje, labels=starostne_skupine)\n",
    "print(starost_kat)"
   ]
  },
  {
   "cell_type": "markdown",
   "metadata": {},
   "source": [
    "Rezultat funkcije `cut` je torej urejena kategorija, množica njenih možnih vrednosti pa sledi podani vrednosti argumenta `labels`. Drugi argument funkcije poda seznam mej med starostnimi skupinami in mora biti za ena daljši od argumenta `labels`. V zgornjem primeru torej velja, da prva starostna skupina `'otrok'` ustreza numeričnim vrednostim, ki so vsaj `-100` in manjše od `12`, druga skupina `'najstnica'` vrednostim, ki so vsaj `12` in manjše od `20`, in tako naprej. Prvi argument funkcije je pa originalno zaporedje z numeričnimi vrednostmi.\n",
    "\n",
    "## Datum in čas\n",
    "\n",
    "V podatkovni analizi pogosto srečujemo časovna zaporedja, ki jih knjižnica `pandas` podpira s tremi podatkovnimi tipi:\n",
    "    * *Časovna točka* (angl. _Date times_) je tipa `Timestamp`,\n",
    "    * *Časovna razlika* (angl. _Time deltas_) je tipa `Timedelta`, in\n",
    "    * *Časovno obdobje* (angl. _Period_) je tipa `Period`.\n",
    "\n",
    "### Časovne točke\n",
    "\n",
    "Časovno zaporedje lahko ustvarimo iz seznama nizov znakov, ki vsebuje datume zapisane v različnih formatih, s funkcijo `pd.to_datetime`:"
   ]
  },
  {
   "cell_type": "code",
   "execution_count": 24,
   "metadata": {},
   "outputs": [],
   "source": [
    "s_datumi = pd.to_datetime(pd.Series([\"Jul 31, 2009\", \"Jan 10, 2010\", \"10-Oct-2023\", None]), format=\"mixed\")"
   ]
  },
  {
   "cell_type": "markdown",
   "metadata": {},
   "source": [
    "Ko izhodiščni seznam vključuje datume različnih formatov, je ključnega pomena, da pri pretvorbi nastavimo vrednost argumenta `format = \"mixed\"`.\n",
    "\n",
    "Drugi, zelo pogosto način ustvarjanja časovnih zaporedij je z uporabo funkcije `pd.date_range`:"
   ]
  },
  {
   "cell_type": "code",
   "execution_count": 29,
   "metadata": {},
   "outputs": [
    {
     "name": "stdout",
     "output_type": "stream",
     "text": [
      "0   2024-10-01\n",
      "1   2024-10-02\n",
      "2   2024-10-03\n",
      "3   2024-10-04\n",
      "4   2024-10-05\n",
      "5   2024-10-06\n",
      "6   2024-10-07\n",
      "7   2024-10-08\n",
      "8   2024-10-09\n",
      "9   2024-10-10\n",
      "dtype: datetime64[ns]\n",
      "0   2024-10-04\n",
      "1   2024-10-11\n",
      "2   2024-10-18\n",
      "3   2024-10-25\n",
      "4   2024-11-01\n",
      "5   2024-11-08\n",
      "6   2024-11-15\n",
      "7   2024-11-22\n",
      "8   2024-11-29\n",
      "9   2024-12-06\n",
      "dtype: datetime64[ns]\n"
     ]
    }
   ],
   "source": [
    "s_ct1 = pd.Series(pd.date_range(\"2024-10\", freq=\"D\", periods=10))\n",
    "print(s_ct1)\n",
    "s_ct2 = pd.Series(pd.date_range(\"2024-10\", freq=\"W-Fri\", periods=10))\n",
    "print(s_ct2)"
   ]
  },
  {
   "cell_type": "markdown",
   "metadata": {},
   "source": [
    "V prvem primeru smo ustvarili zaporedje desetih zaporednih dni na začetku oktobra 2024. V drugem primeru pa zaporedje desetih petkov (`W-Fri`) od začetka oktobra 2024.\n",
    "\n",
    "Časovno zaporedje lahko uporabimo tudi kot indeks za neko drugo zaporedje opazovanih numeričnih vrednosti, pravzaprav časovno vrsto opazovanih vrednosti:"
   ]
  },
  {
   "cell_type": "code",
   "execution_count": 30,
   "metadata": {},
   "outputs": [
    {
     "name": "stdout",
     "output_type": "stream",
     "text": [
      "2024-10-04    0.0\n",
      "2024-10-11    0.1\n",
      "2024-10-18    0.2\n",
      "2024-10-25    0.3\n",
      "2024-11-01    0.4\n",
      "2024-11-08    0.5\n",
      "2024-11-15    0.6\n",
      "2024-11-22    0.7\n",
      "2024-11-29    0.8\n",
      "2024-12-06    0.9\n",
      "dtype: float64\n"
     ]
    }
   ],
   "source": [
    "cv = pd.Series([i / 10 for i in range(10)], index=s_ct2)\n",
    "print(cv)"
   ]
  },
  {
   "cell_type": "markdown",
   "metadata": {},
   "source": [
    "Indeksiranje takega zaporedja omogoča zelo enostavno določanje časovnega obdobja indeksov elementov, ki jih hočemo nasloviti. Tako, na primer, zajem elementov časovne vrste, ki je bil izmerjen novembra 2024, zajamemo s preprostim ukazom:"
   ]
  },
  {
   "cell_type": "code",
   "execution_count": 31,
   "metadata": {},
   "outputs": [
    {
     "name": "stdout",
     "output_type": "stream",
     "text": [
      "2024-11-01    0.4\n",
      "2024-11-08    0.5\n",
      "2024-11-15    0.6\n",
      "2024-11-22    0.7\n",
      "2024-11-29    0.8\n",
      "dtype: float64\n"
     ]
    }
   ],
   "source": [
    "cv_novembra_24 = cv[\"2024-11\"]\n",
    "print(cv_novembra_24)"
   ]
  },
  {
   "cell_type": "markdown",
   "metadata": {},
   "source": [
    "Časovna zaporedja imajo lastnost `dt`, ki ponuja veliko število koristnih metod za računanje različnih datumskih funkcij:"
   ]
  },
  {
   "cell_type": "code",
   "execution_count": 28,
   "metadata": {},
   "outputs": [
    {
     "name": "stdout",
     "output_type": "stream",
     "text": [
      "0    6\n",
      "1    0\n",
      "2    1\n",
      "3    2\n",
      "4    3\n",
      "5    4\n",
      "6    5\n",
      "7    6\n",
      "8    0\n",
      "9    1\n",
      "dtype: int32\n",
      "0       Sunday\n",
      "1       Monday\n",
      "2      Tuesday\n",
      "3    Wednesday\n",
      "4     Thursday\n",
      "5       Friday\n",
      "6     Saturday\n",
      "7       Sunday\n",
      "8       Monday\n",
      "9      Tuesday\n",
      "dtype: object\n"
     ]
    }
   ],
   "source": [
    "print(s_ct1.dt.day_of_week)\n",
    "print(s_ct1.dt.day_name())"
   ]
  },
  {
   "cell_type": "markdown",
   "metadata": {},
   "source": [
    "Lahko torej za podan datum dobimo dan v tednu z indeksom ali imenom v angleščini. Indeks je na mojem računalniku izračunan tako, da vrednost `0` ustreza ponedeljku, `6` pa nedelji.\n",
    "\n",
    "Preveri indekse dneva v tednu na svojem računalniki. Za vajo napiši funkcijo, ki za podano datumsko zaporedje vrne zaporedje imen dni v tednu v slovenščini. Pri tem lahko seveda uporabiš zgornjo funkcijo, ki vrne indeks dneva v tednu.\n",
    "\n",
    "S pomočjo lastnosti časovne točke `dt` lahko izračunamo še veliko drugih časovnih in datumskih funkcij, na primer, teden ali dan v letu:"
   ]
  },
  {
   "cell_type": "code",
   "execution_count": 29,
   "metadata": {},
   "outputs": [
    {
     "name": "stdout",
     "output_type": "stream",
     "text": [
      "0    36\n",
      "1    37\n",
      "2    38\n",
      "3    39\n",
      "4    40\n",
      "5    41\n",
      "6    42\n",
      "7    43\n",
      "8    44\n",
      "9    45\n",
      "Name: week, dtype: UInt32\n",
      "0    248\n",
      "1    255\n",
      "2    262\n",
      "3    269\n",
      "4    276\n",
      "5    283\n",
      "6    290\n",
      "7    297\n",
      "8    304\n",
      "9    311\n",
      "dtype: int32\n"
     ]
    }
   ],
   "source": [
    "print(s_ct2.dt.isocalendar().week)\n",
    "print(s_ct2.dt.day_of_year)"
   ]
  },
  {
   "cell_type": "markdown",
   "metadata": {},
   "source": [
    "Poglejmo zdaj še en primer, ki ponazori delo z datumskimi zaporedji in funkcijami. Definirajmo funkcijo `zadnji_dnevi`, ki za podano obdobje od začetka leta `od` do konca leta `do`, vrne kategorično zaporedje imen dni v tednu za vse zadnje dni mesecev v tem obdobju. Elementi zaporedja naj bodo indeksirani z ustreznimi datumi teh dni."
   ]
  },
  {
   "cell_type": "code",
   "execution_count": 73,
   "metadata": {},
   "outputs": [
    {
     "name": "stdout",
     "output_type": "stream",
     "text": [
      "2023-01-31      Tuesday\n",
      "2023-02-28      Tuesday\n",
      "2023-03-31       Friday\n",
      "2023-04-30       Sunday\n",
      "2023-05-31    Wednesday\n",
      "2023-06-30       Friday\n",
      "2023-07-31       Monday\n",
      "2023-08-31     Thursday\n",
      "2023-09-30     Saturday\n",
      "2023-10-31      Tuesday\n",
      "2023-11-30     Thursday\n",
      "2023-12-31       Sunday\n",
      "2024-01-31    Wednesday\n",
      "2024-02-29     Thursday\n",
      "2024-03-31       Sunday\n",
      "2024-04-30      Tuesday\n",
      "2024-05-31       Friday\n",
      "2024-06-30       Sunday\n",
      "2024-07-31    Wednesday\n",
      "2024-08-31     Saturday\n",
      "2024-09-30       Monday\n",
      "2024-10-31     Thursday\n",
      "2024-11-30     Saturday\n",
      "2024-12-31      Tuesday\n",
      "Freq: M, dtype: category\n",
      "Categories (7, object): ['Friday', 'Monday', 'Saturday', 'Sunday', 'Thursday', 'Tuesday', 'Wednesday']\n"
     ]
    }
   ],
   "source": [
    "def zadnji_dnevi(od, do):\n",
    "\n",
    "    # Najprej uporabimo funkcijo date_range, da dobimo datume zadnjih dni v mesecih v podanem obdobju\n",
    "    zdm = pd.date_range(start=f'{od}-01-01', end=f'{do}-12-31', freq='M')\n",
    "\n",
    "    # Nato uporabimo metodo dt.day_name, da dobimo imena teh dni\n",
    "    # Pred tem iz `zdm` pridelamo zaporedje z datumskimi indeksi\n",
    "    imena = pd.Series(zdm, index=zdm).dt.day_name()\n",
    "\n",
    "    # Na koncu zaporedju imena spremenimo tip v kategorijo\n",
    "    return pd.Series(imena, dtype='category')\n",
    "\n",
    "\n",
    "print(zadnji_dnevi(2023, 2024))"
   ]
  },
  {
   "cell_type": "markdown",
   "metadata": {},
   "source": [
    "Za vajo spremeni definicijo funkcije tako, da bo vračala imena dni v slovenščini.\n",
    "\n",
    "\n",
    "### Časovne razlike\n",
    "\n",
    "Časovna razlika nastane, na primer, z odštevanjem dveh časovnih točk:"
   ]
  },
  {
   "cell_type": "code",
   "execution_count": 33,
   "metadata": {},
   "outputs": [
    {
     "data": {
      "text/plain": [
       "0    3 days\n",
       "1    9 days\n",
       "2   15 days\n",
       "3   21 days\n",
       "4   27 days\n",
       "5   33 days\n",
       "6   39 days\n",
       "7   45 days\n",
       "8   51 days\n",
       "9   57 days\n",
       "dtype: timedelta64[ns]"
      ]
     },
     "execution_count": 33,
     "metadata": {},
     "output_type": "execute_result"
    }
   ],
   "source": [
    "s_ct2 - s_ct1"
   ]
  },
  {
   "cell_type": "markdown",
   "metadata": {},
   "source": [
    "Kot vidimo iz izpisa, je časovni interval izražen v časovni enoti dan. Posamezne vrednosti tipa časovne razlike lahko tvorimo iz numeričnih vrednosti z uporabo funkcije [`Timedelta`](https://pandas.pydata.org/docs/reference/api/pandas.Timedelta.html), kjer časovno enoto razlike podamo kot vrednost argumenta `unit`:"
   ]
  },
  {
   "cell_type": "code",
   "execution_count": 37,
   "metadata": {},
   "outputs": [
    {
     "name": "stdout",
     "output_type": "stream",
     "text": [
      "0    1 days\n",
      "1    2 days\n",
      "2    3 days\n",
      "3    4 days\n",
      "4    5 days\n",
      "5    6 days\n",
      "6    7 days\n",
      "7    8 days\n",
      "8    9 days\n",
      "9   10 days\n",
      "dtype: timedelta64[ns]\n"
     ]
    }
   ],
   "source": [
    "s_cr1 = pd.Series([pd.Timedelta(i, unit=\"d\") for i in range(1, 11)])\n",
    "print(s_cr1)"
   ]
  },
  {
   "cell_type": "markdown",
   "metadata": {},
   "source": [
    "Podobno lahko funkcijo [`to_timedelta`](https://pandas.pydata.org/docs/reference/api/pandas.to_timedelta.html) uporabimo za pretvorbo numeričnega zaporedja v zaporedje časovnih razlik podane časovne enote:"
   ]
  },
  {
   "cell_type": "code",
   "execution_count": 38,
   "metadata": {},
   "outputs": [
    {
     "name": "stdout",
     "output_type": "stream",
     "text": [
      "0 days 00:00:01    0\n",
      "0 days 00:00:02    1\n",
      "0 days 00:00:03    2\n",
      "0 days 00:00:04    3\n",
      "0 days 00:00:05    4\n",
      "0 days 00:00:06    5\n",
      "0 days 00:00:07    6\n",
      "0 days 00:00:08    7\n",
      "0 days 00:00:09    8\n",
      "0 days 00:00:10    9\n",
      "dtype: int64\n"
     ]
    }
   ],
   "source": [
    "s_cv = pd.Series(range(10), index=pd.to_timedelta(range(1, 11), unit=\"s\"))\n",
    "print(s_cv)"
   ]
  },
  {
   "cell_type": "markdown",
   "metadata": {},
   "source": [
    "Časovne razlike torej, tako kot časovne točke, lahko uporabljamo kot indekse zaporedja.\n",
    "\n",
    "Poglejmo zdaj primer uporabe časovnih razlik za izračun dolžine mesecev v podanem obdobju. Podobno kot v prejšnjem primeru definirajmo funkcijo `meseci`, ki za podano obdobje od začetka leta `od` do konca leta `do`, vrne celoštevilčno zaporedje dolžin mesecev (v dnevih) v opazovanem obdobju. Zaporedje naj bo indeksirano z imeni mesecev.\n"
   ]
  },
  {
   "cell_type": "code",
   "execution_count": 78,
   "metadata": {},
   "outputs": [
    {
     "name": "stdout",
     "output_type": "stream",
     "text": [
      "January     31 days\n",
      "February    29 days\n",
      "March       31 days\n",
      "April       30 days\n",
      "May         31 days\n",
      "June        30 days\n",
      "July        31 days\n",
      "August      31 days\n",
      "September   30 days\n",
      "October     31 days\n",
      "November    30 days\n",
      "December    31 days\n",
      "dtype: timedelta64[ns]\n"
     ]
    }
   ],
   "source": [
    "def meseci(od, do):\n",
    "\n",
    "    # To smo že videli v prejšnjem primeru: zadnje dni mesecev\n",
    "    zdm = pd.date_range(start=f'{od}-01-01', end=f'{do}-12-31', freq='M')\n",
    "\n",
    "    # Podobno dobimo prve dni mesecev, le vrednost argumenta `freq` nastavimo na MS (month start)\n",
    "    pdm = pd.date_range(start=f'{od}-01-01', end=f'{do}-12-01', freq='MS')\n",
    "\n",
    "    # Dolžina meseca je razlika med zadnjim in prvim dnevom povečani za ena\n",
    "    # Pozor, ne moremo napisati \"+ 1\", moramo pridelati \"1 dan\" z uporabo Timedelta\n",
    "    dm = zdm - pdm + pd.Timedelta(days=1)\n",
    "\n",
    "    # Na koncu dm pretvorimo v zaporedje z ustreznim indeksom\n",
    "    # Metoda `dt.month_name` nam vrne imena mesecev za podano zaporedje datumov\n",
    "    return pd.Series(dm, index=pd.Series(pdm).dt.month_name())\n",
    "\n",
    "\n",
    "print(meseci(2024, 2024))"
   ]
  },
  {
   "cell_type": "markdown",
   "metadata": {},
   "source": [
    "Za vajo popravi definicijo funkcije `meseci` tako, da bodo elementi rezultata dolžine mesecev v urah (namesto v dnevih). Pa še v tednih (namig: uporabi funkcijo `TimeDelta`, da dobiš trajanje tedna v dnevih).\n",
    "\n",
    "### Časovna obdobja\n",
    "\n",
    "Nekoliko manj uporaben podatkovni tip, ki se nanaša na čas, je časovno obdobje. Poglejmo uporabo funkcije `period_range` za ustvarjanje časovnih obdobij:"
   ]
  },
  {
   "cell_type": "code",
   "execution_count": 39,
   "metadata": {},
   "outputs": [
    {
     "name": "stdout",
     "output_type": "stream",
     "text": [
      "Dnevna frekvenca:\n",
      "0    2024-10-01\n",
      "1    2024-10-02\n",
      "2    2024-10-03\n",
      "3    2024-10-04\n",
      "4    2024-10-05\n",
      "5    2024-10-06\n",
      "6    2024-10-07\n",
      "7    2024-10-08\n",
      "8    2024-10-09\n",
      "9    2024-10-10\n",
      "dtype: period[D]\n",
      "Tedenska frekvenca (ponedeljki):\n",
      "0    2024-08-27/2024-09-02\n",
      "1    2024-09-03/2024-09-09\n",
      "2    2024-09-10/2024-09-16\n",
      "3    2024-09-17/2024-09-23\n",
      "4    2024-09-24/2024-09-30\n",
      "5    2024-10-01/2024-10-07\n",
      "6    2024-10-08/2024-10-14\n",
      "7    2024-10-15/2024-10-21\n",
      "8    2024-10-22/2024-10-28\n",
      "9    2024-10-29/2024-11-04\n",
      "dtype: period[W-MON]\n"
     ]
    }
   ],
   "source": [
    "s_co1 = pd.Series(pd.period_range(\"2024-10\", freq=\"D\", periods=10))\n",
    "print(f\"Dnevna frekvenca:\\n{s_co1}\")\n",
    "s_co2 = pd.Series(pd.period_range(\"2024-09\", freq=\"W-Mon\", periods=10))\n",
    "print(f\"Tedenska frekvenca (ponedeljki):\\n{s_co2}\")"
   ]
  },
  {
   "cell_type": "markdown",
   "metadata": {},
   "source": [
    "Primerjaj zgornji rezultat z rezultati funkcij, ki ustvarjajo časovne točke, v ustreznem razdelku zgoraj. Delo s časovnimi obdobji je podobno delu s časovnimi točkami."
   ]
  }
 ],
 "metadata": {
  "kernelspec": {
   "display_name": "venv",
   "language": "python",
   "name": "python3"
  },
  "language_info": {
   "codemirror_mode": {
    "name": "ipython",
    "version": 3
   },
   "file_extension": ".py",
   "mimetype": "text/x-python",
   "name": "python",
   "nbconvert_exporter": "python",
   "pygments_lexer": "ipython3",
   "version": "3.11.8"
  },
  "widgets": {
   "application/vnd.jupyter.widget-state+json": {
    "state": {},
    "version_major": 2,
    "version_minor": 0
   }
  }
 },
 "nbformat": 4,
 "nbformat_minor": 4
}
