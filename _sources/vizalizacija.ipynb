{
 "cells": [
  {
   "cell_type": "markdown",
   "metadata": {},
   "source": [
    "# Vizualicacija podatkov\n",
    "\n",
    "V pripravi"
   ]
  },
  {
   "cell_type": "code",
   "execution_count": 1,
   "metadata": {},
   "outputs": [
    {
     "name": "stdout",
     "output_type": "stream",
     "text": [
      "studenti =\n",
      "      ime  telefon spol  starost\n",
      "0     Ana      431    ž       19\n",
      "1  Branko      720    m       20\n",
      "2  Cvetka      761    ž       21\n",
      "3   David      141    m       19\n",
      "4     Eva      210    ž       20\n",
      "5   Franc      592    m       21\n",
      "\n",
      "studenti_ocene =\n",
      "       ime  semester  kolokvij  rezultat\n",
      "0      Ana         1         1      80.0\n",
      "1      Ana         1         2      82.0\n",
      "2      Ana         2         1      97.0\n",
      "3      Ana         2         2      95.0\n",
      "4   Branko         1         1      78.0\n",
      "5   Branko         1         2       NaN\n",
      "6   Branko         2         1      74.0\n",
      "7   Branko         2         2       NaN\n",
      "8   Cvetka         1         1       NaN\n",
      "9   Cvetka         1         2      63.0\n",
      "10  Cvetka         2         1       NaN\n",
      "11  Cvetka         2         2      87.0\n",
      "12   David         1         1      75.0\n",
      "13   David         1         2      92.0\n",
      "14   David         2         1      68.0\n",
      "15   David         2         2      81.0\n",
      "16     Eva         1         1      63.0\n",
      "17     Eva         1         2      82.0\n",
      "18     Eva         2         1      82.0\n",
      "19     Eva         2         2      63.0\n",
      "20   Franc         1         1      95.0\n",
      "21   Franc         1         2      99.0\n",
      "22   Franc         2         1      82.0\n",
      "23   Franc         2         2      54.0\n"
     ]
    }
   ],
   "source": [
    "import pandas as pd\n",
    "\n",
    "studenti = pd.read_csv(\"https://kt.ijs.si/~ljupco/lectures/papvp-2324/studenti.csv\")\n",
    "studenti_ocene = pd.read_csv(\"https://kt.ijs.si/~ljupco/lectures/papvp-2324/studenti_ocene.csv\")\n",
    "\n",
    "print(f\"studenti =\\n{studenti}\\n\\nstudenti_ocene =\\n{studenti_ocene}\")"
   ]
  },
  {
   "cell_type": "markdown",
   "metadata": {},
   "source": [
    "..."
   ]
  },
  {
   "cell_type": "markdown",
   "metadata": {},
   "source": [
    "## Naloge\n",
    "\n",
    "V pripravi."
   ]
  }
 ],
 "metadata": {
  "kernelspec": {
   "display_name": "Python 3",
   "language": "python",
   "name": "python3"
  },
  "language_info": {
   "codemirror_mode": {
    "name": "ipython",
    "version": 3
   },
   "file_extension": ".py",
   "mimetype": "text/x-python",
   "name": "python",
   "nbconvert_exporter": "python",
   "pygments_lexer": "ipython3",
   "version": "3.11.5"
  },
  "widgets": {
   "application/vnd.jupyter.widget-state+json": {
    "state": {},
    "version_major": 2,
    "version_minor": 0
   }
  }
 },
 "nbformat": 4,
 "nbformat_minor": 4
}
